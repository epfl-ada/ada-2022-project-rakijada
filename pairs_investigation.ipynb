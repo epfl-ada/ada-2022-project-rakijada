{
 "cells": [
  {
   "cell_type": "markdown",
   "id": "7066f162",
   "metadata": {},
   "source": [
    "# Matching pairs for deeper text analysis"
   ]
  },
  {
   "cell_type": "code",
   "execution_count": 1,
   "id": "54be383c",
   "metadata": {},
   "outputs": [],
   "source": [
    "# Useful imports\n",
    "import pandas as pd\n",
    "import seaborn as sns\n",
    "import numpy as np\n",
    "import random\n",
    "import math\n",
    "import os.path\n",
    "from pathlib import Path"
   ]
  },
  {
   "cell_type": "code",
   "execution_count": 2,
   "id": "e1156d24",
   "metadata": {},
   "outputs": [
    {
     "name": "stdout",
     "output_type": "stream",
     "text": [
      "(2589587, 17)\n"
     ]
    }
   ],
   "source": [
    "# Loading in the data\n",
    "reviews = pd.read_pickle('./datasets/BeerAdvocate/reviews.pkl')\n",
    "print(reviews.shape)"
   ]
  },
  {
   "cell_type": "code",
   "execution_count": 3,
   "id": "45af83bc",
   "metadata": {},
   "outputs": [],
   "source": [
    "# setting row index as a column - useful later\n",
    "reviews['Row Index'] = reviews.index"
   ]
  },
  {
   "cell_type": "code",
   "execution_count": 4,
   "id": "e7de066a",
   "metadata": {},
   "outputs": [],
   "source": [
    "# selecting necessary columns\n",
    "reviews_clean = reviews[['Beer Id','Brewery Id','Style','Abv','Date','User Id','Appearance','Aroma',\\\n",
    "                         'Palate','Taste','Overall','Rating','Text', 'Row Index']]"
   ]
  },
  {
   "cell_type": "code",
   "execution_count": 5,
   "id": "873cfa7e",
   "metadata": {},
   "outputs": [],
   "source": [
    "# matching on User Id, Style and Abv\n",
    "reviews_cartesian = reviews_clean.merge(reviews_clean, on=['User Id','Style','Abv'], suffixes=('1', '2'))"
   ]
  },
  {
   "cell_type": "code",
   "execution_count": 6,
   "id": "343da948",
   "metadata": {},
   "outputs": [
    {
     "data": {
      "text/plain": [
       "(8255601, 25)"
      ]
     },
     "execution_count": 6,
     "metadata": {},
     "output_type": "execute_result"
    }
   ],
   "source": [
    "reviews_cartesian.shape"
   ]
  },
  {
   "cell_type": "code",
   "execution_count": 7,
   "id": "27c1d75a",
   "metadata": {},
   "outputs": [],
   "source": [
    "# filtering pairs where first one is absolutely better\n",
    "reviews_pairs = reviews_cartesian[(reviews_cartesian['Rating1'] > reviews_cartesian['Rating2']) & \\\n",
    "                                  (reviews_cartesian['Overall1'] > reviews_cartesian['Overall2']) & \\\n",
    "                                  (reviews_cartesian['Aroma1'] > reviews_cartesian['Aroma2']) & \\\n",
    "                                  (reviews_cartesian['Appearance1'] > reviews_cartesian['Appearance2']) & \\\n",
    "                                  (reviews_cartesian['Taste1'] > reviews_cartesian['Taste2']) & \\\n",
    "                                  (reviews_cartesian['Palate1'] > reviews_cartesian['Palate2'])].copy()"
   ]
  },
  {
   "cell_type": "code",
   "execution_count": 8,
   "id": "a4f6d6e9",
   "metadata": {},
   "outputs": [
    {
     "data": {
      "text/plain": [
       "(599517, 25)"
      ]
     },
     "execution_count": 8,
     "metadata": {},
     "output_type": "execute_result"
    }
   ],
   "source": [
    "reviews_pairs.shape"
   ]
  },
  {
   "cell_type": "code",
   "execution_count": 9,
   "id": "acf19b84",
   "metadata": {
    "scrolled": true
   },
   "outputs": [],
   "source": [
    "# adding month columns to filtered data\n",
    "reviews_pairs['Month1'] = reviews_pairs['Date1'].apply(lambda x: x.month)\n",
    "reviews_pairs['Month2'] = reviews_pairs['Date2'].apply(lambda x: x.month)\n",
    "reviews_pairs['Text Length1'] = reviews_pairs['Text1'].apply(len)\n",
    "reviews_pairs['Text Length2'] = reviews_pairs['Text2'].apply(len)\n",
    "# sns.lineplot(data=reviews_pairs, y='Rating1', x='Month1')\n",
    "# sns.lineplot(data=reviews_pairs, y='Rating2', x='Month2')"
   ]
  },
  {
   "cell_type": "code",
   "execution_count": 10,
   "id": "3b5610a1",
   "metadata": {},
   "outputs": [],
   "source": [
    "winter_review_pairs = reviews_pairs[(reviews_pairs['Month1']>=1) & (reviews_pairs['Month1']<=3) & \\\n",
    "              (reviews_pairs['Month2']>=1) & (reviews_pairs['Month2']<=3)]\n",
    "summer_review_pairs = reviews_pairs[(reviews_pairs['Month1']>=7) & (reviews_pairs['Month1']<=9) & \\\n",
    "              (reviews_pairs['Month2']>=7) & (reviews_pairs['Month2']<=9)]"
   ]
  },
  {
   "cell_type": "code",
   "execution_count": 11,
   "id": "d41bc2d4",
   "metadata": {},
   "outputs": [
    {
     "name": "stdout",
     "output_type": "stream",
     "text": [
      "Winter review pairs shape: (41478, 29)\n",
      "Summer review pairs shape: (39424, 29)\n"
     ]
    }
   ],
   "source": [
    "print('Winter review pairs shape: {}'.format(winter_review_pairs.shape))\n",
    "print('Summer review pairs shape: {}'.format(summer_review_pairs.shape))"
   ]
  },
  {
   "cell_type": "code",
   "execution_count": 12,
   "id": "0ac3b34e",
   "metadata": {},
   "outputs": [],
   "source": [
    "matched_winter_pairs = winter_review_pairs[abs(winter_review_pairs['Text Length1'] - \\\n",
    "                                               winter_review_pairs['Text Length2']) <100]\n",
    "matched_summer_pairs = summer_review_pairs[abs(summer_review_pairs['Text Length1'] - \\\n",
    "                                               summer_review_pairs['Text Length2']) <100]"
   ]
  },
  {
   "cell_type": "code",
   "execution_count": 13,
   "id": "5c23797c",
   "metadata": {},
   "outputs": [
    {
     "name": "stdout",
     "output_type": "stream",
     "text": [
      "Matched winter review pairs shape: (14803, 29)\n",
      "Matched summer review pairs shape: (14426, 29)\n"
     ]
    }
   ],
   "source": [
    "print('Matched winter review pairs shape: {}'.format(matched_winter_pairs.shape))\n",
    "print('Matched summer review pairs shape: {}'.format(matched_summer_pairs.shape))"
   ]
  },
  {
   "cell_type": "code",
   "execution_count": 14,
   "id": "a66597fd",
   "metadata": {},
   "outputs": [
    {
     "name": "stdout",
     "output_type": "stream",
     "text": [
      "Too long winter review pairs shape: (45, 29)\n",
      "Too long summer review pairs shape: (48, 29)\n"
     ]
    }
   ],
   "source": [
    "long_winter = matched_winter_pairs[(matched_winter_pairs['Text Length1']>2000) | \\\n",
    "                                   (matched_winter_pairs['Text Length2']>2000)]\n",
    "long_summer = matched_summer_pairs[(matched_summer_pairs['Text Length1']>2000) | \\\n",
    "                                   (matched_summer_pairs['Text Length2']>2000)]\n",
    "print('Too long winter review pairs shape: {}'.format(long_winter.shape))\n",
    "print('Too long summer review pairs shape: {}'.format(long_summer.shape))"
   ]
  },
  {
   "cell_type": "markdown",
   "id": "8646c2ac",
   "metadata": {},
   "source": [
    "We will drop too long reviews since there are too big for semantical analyser. As we can see, they make only $93/29229 \\sim 0.31 \\%$ of the pairs."
   ]
  },
  {
   "cell_type": "code",
   "execution_count": 15,
   "id": "cc818395",
   "metadata": {},
   "outputs": [
    {
     "name": "stdout",
     "output_type": "stream",
     "text": [
      "Matched winter review pairs shape after dropping too long texts: (14758, 29)\n",
      "Matched summer review pairs shape after dropping too long texts: (14378, 29)\n"
     ]
    }
   ],
   "source": [
    "matched_winter_pairs = matched_winter_pairs.drop(index = long_winter.index)\n",
    "matched_summer_pairs = matched_summer_pairs.drop(index = long_summer.index)\n",
    "print('Matched winter review pairs shape after dropping too long texts: {}'.format(matched_winter_pairs.shape))\n",
    "print('Matched summer review pairs shape after dropping too long texts: {}'.format(matched_summer_pairs.shape))"
   ]
  },
  {
   "cell_type": "code",
   "execution_count": 17,
   "id": "bca9bc98",
   "metadata": {},
   "outputs": [],
   "source": [
    "# joining 'better' and 'worse' reviews into same column for sentiment analysis\n",
    "winter_row_indices = pd.concat([matched_winter_pairs['Row Index1'], matched_winter_pairs['Row Index2']]).unique()\n",
    "summer_row_indices = pd.concat([matched_summer_pairs['Row Index1'], matched_summer_pairs['Row Index2']]).unique()\n",
    "\n",
    "# all rows for analysis\n",
    "all_row_indices_for_analysis = np.union1d(winter_row_indices, summer_row_indices)"
   ]
  },
  {
   "cell_type": "code",
   "execution_count": 18,
   "id": "45ee6f63",
   "metadata": {},
   "outputs": [
    {
     "name": "stdout",
     "output_type": "stream",
     "text": [
      "Number of winter reviews for sentiment analysis: 22379\n",
      "Number of summer reviews for sentiment analysis: 21780\n",
      "Total number of reviews for sentiment analysis: 44159\n"
     ]
    }
   ],
   "source": [
    "print('Number of winter reviews for sentiment analysis: {}'.format(winter_row_indices.size))\n",
    "print('Number of summer reviews for sentiment analysis: {}'.format(summer_row_indices.size))\n",
    "print('Total number of reviews for sentiment analysis: {}'.format(all_row_indices_for_analysis.size))"
   ]
  },
  {
   "cell_type": "markdown",
   "id": "58587640",
   "metadata": {},
   "source": [
    "### Time and size estimation\n",
    "\n",
    "1 reviews ~ 10 seconds  </br>\n",
    "6 reviews ~ 1 minute   </br>\n",
    "360 reviews ~ 1 hour </br>\n",
    "\n",
    "Therefore, I will separete row indices in batches of size 360. There will be $ceil(44159/360) = 123$ files."
   ]
  },
  {
   "cell_type": "code",
   "execution_count": 19,
   "id": "11a285d7",
   "metadata": {},
   "outputs": [],
   "source": [
    "batch_size = 360\n",
    "file_number = math.ceil(all_row_indices_for_analysis.size/batch_size)\n",
    "batch_folder = './datasets/batches/'"
   ]
  },
  {
   "cell_type": "code",
   "execution_count": 20,
   "id": "906cdd31",
   "metadata": {},
   "outputs": [],
   "source": [
    "matrix = np.split(all_row_indices_for_analysis, range(batch_size, all_row_indices_for_analysis.size, batch_size))"
   ]
  },
  {
   "cell_type": "code",
   "execution_count": 21,
   "id": "9a09d865",
   "metadata": {},
   "outputs": [],
   "source": [
    "# create batch folder\n",
    "Path(batch_folder).mkdir(parents=True, exist_ok=True)\n",
    "\n",
    "# create batches for sentiment analysis\n",
    "for i in range(file_number):\n",
    "    batch = reviews[reviews['Row Index'].isin(matrix[i])][['Row Index', 'Text']]\n",
    "    batch.to_csv(os.path.join(batch_folder, '{}.csv'.format(i)), index=False)"
   ]
  },
  {
   "cell_type": "code",
   "execution_count": 22,
   "id": "e41e2872",
   "metadata": {},
   "outputs": [],
   "source": [
    "# check import export and create a small test sample\n",
    "test = pd.read_csv(os.path.join(batch_folder, '{}.csv'.format(random.randint(0, file_number))))\n",
    "test = test.sample(50)\n",
    "test.to_csv(os.path.join(batch_folder, 'test.csv'), index=False)"
   ]
  },
  {
   "cell_type": "markdown",
   "id": "18b12512",
   "metadata": {},
   "source": [
    "### Code for sentiment analysis (used in Google Colab)\n",
    "\n",
    "We are doing sentiment analysis in Google Colab. Because of that we have a separate jupyter notebook **absa_script** for that. Be free to check it out!"
   ]
  },
  {
   "cell_type": "code",
   "execution_count": null,
   "id": "8ae9563f",
   "metadata": {},
   "outputs": [],
   "source": []
  }
 ],
 "metadata": {
  "kernelspec": {
   "display_name": "Python 3 (ipykernel)",
   "language": "python",
   "name": "python3"
  },
  "language_info": {
   "codemirror_mode": {
    "name": "ipython",
    "version": 3
   },
   "file_extension": ".py",
   "mimetype": "text/x-python",
   "name": "python",
   "nbconvert_exporter": "python",
   "pygments_lexer": "ipython3",
   "version": "3.9.12"
  }
 },
 "nbformat": 4,
 "nbformat_minor": 5
}
