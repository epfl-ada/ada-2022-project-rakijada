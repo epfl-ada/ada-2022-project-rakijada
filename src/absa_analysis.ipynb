{
 "cells": [
  {
   "cell_type": "markdown",
   "id": "a143e59f",
   "metadata": {},
   "source": [
    "# Aspect based sentiment analysis on matched pairs\n",
    "\n",
    "## Notebook outline\n",
    "    * Inspecting the ABSA results\n",
    "    * Matching pairs\n",
    "    * ABSA indicators\n",
    "    * Confidence intervals for indicators\n",
    "    * Impact of indicators on rating"
   ]
  },
  {
   "cell_type": "markdown",
   "id": "e8f8f1fd",
   "metadata": {},
   "source": [
    "In this notebook we use results from the notebook **absa_preparation.ipynb** and analyse it."
   ]
  },
  {
   "cell_type": "markdown",
   "id": "79f93569",
   "metadata": {},
   "source": [
    "## Inspecting the ABSA results"
   ]
  },
  {
   "cell_type": "code",
   "execution_count": 107,
   "id": "0a339674",
   "metadata": {},
   "outputs": [],
   "source": [
    "# Useful imports\n",
    "import pandas as pd\n",
    "import seaborn as sns\n",
    "import numpy as np\n",
    "import random\n",
    "import math\n",
    "import statsmodels.formula.api as smf\n",
    "import os.path\n",
    "from pathlib import Path\n",
    "import matplotlib.pyplot as plt"
   ]
  },
  {
   "cell_type": "code",
   "execution_count": 2,
   "id": "e793f4a5",
   "metadata": {},
   "outputs": [],
   "source": [
    "#absa_results = pd.read_csv('./datasets/results/results_aggregated.csv')\n",
    "absa_results = pd.read_csv('../datasets/results/absa_results.csv')"
   ]
  },
  {
   "cell_type": "code",
   "execution_count": 3,
   "id": "f04c3bf4",
   "metadata": {},
   "outputs": [],
   "source": [
    "# remove unnecessary column\n",
    "absa_results = absa_results.drop('Text', axis=1)"
   ]
  },
  {
   "cell_type": "code",
   "execution_count": 98,
   "id": "0650614d",
   "metadata": {},
   "outputs": [
    {
     "data": {
      "text/plain": [
       "Index(['Appearance Positive', 'Appearance Neutral', 'Appearance Negative',\n",
       "       'Aroma Positive', 'Aroma Neutral', 'Aroma Negative', 'Palate Positive',\n",
       "       'Palate Neutral', 'Palate Negative', 'Taste Positive', 'Taste Neutral',\n",
       "       'Taste Negative'],\n",
       "      dtype='object')"
      ]
     },
     "execution_count": 98,
     "metadata": {},
     "output_type": "execute_result"
    }
   ],
   "source": [
    "features = absa_results.columns[1:]\n",
    "positive_features = [feature for feature in features if 'Positive' in feature]\n",
    "negative_features = [feature for feature in features if 'Negative' in feature]\n",
    "neutral_features = [feature for feature in features if 'Neutral' in feature]\n",
    "features"
   ]
  },
  {
   "cell_type": "markdown",
   "id": "b8992718",
   "metadata": {},
   "source": [
    "Below we can see how the results look:"
   ]
  },
  {
   "cell_type": "markdown",
   "id": "b922c86b",
   "metadata": {},
   "source": [
    "For each aspect (**Appearance**, **Aroma**, **Palate** and **Taste**) we got **probabilities** of textual sentiment being **positive**, **neutral** and **negative**."
   ]
  },
  {
   "cell_type": "code",
   "execution_count": 5,
   "id": "aa66e2e8",
   "metadata": {},
   "outputs": [
    {
     "data": {
      "text/html": [
       "<div>\n",
       "<style scoped>\n",
       "    .dataframe tbody tr th:only-of-type {\n",
       "        vertical-align: middle;\n",
       "    }\n",
       "\n",
       "    .dataframe tbody tr th {\n",
       "        vertical-align: top;\n",
       "    }\n",
       "\n",
       "    .dataframe thead th {\n",
       "        text-align: right;\n",
       "    }\n",
       "</style>\n",
       "<table border=\"1\" class=\"dataframe\">\n",
       "  <thead>\n",
       "    <tr style=\"text-align: right;\">\n",
       "      <th></th>\n",
       "      <th>Row Index</th>\n",
       "      <th>Appearance Positive</th>\n",
       "      <th>Appearance Neutral</th>\n",
       "      <th>Appearance Negative</th>\n",
       "      <th>Aroma Positive</th>\n",
       "      <th>Aroma Neutral</th>\n",
       "      <th>Aroma Negative</th>\n",
       "      <th>Palate Positive</th>\n",
       "      <th>Palate Neutral</th>\n",
       "      <th>Palate Negative</th>\n",
       "      <th>Taste Positive</th>\n",
       "      <th>Taste Neutral</th>\n",
       "      <th>Taste Negative</th>\n",
       "    </tr>\n",
       "  </thead>\n",
       "  <tbody>\n",
       "    <tr>\n",
       "      <th>0</th>\n",
       "      <td>216</td>\n",
       "      <td>0.974481</td>\n",
       "      <td>0.005291</td>\n",
       "      <td>0.020228</td>\n",
       "      <td>0.982895</td>\n",
       "      <td>0.002254</td>\n",
       "      <td>0.014850</td>\n",
       "      <td>0.710195</td>\n",
       "      <td>0.022451</td>\n",
       "      <td>0.267354</td>\n",
       "      <td>0.633389</td>\n",
       "      <td>0.021023</td>\n",
       "      <td>0.345588</td>\n",
       "    </tr>\n",
       "    <tr>\n",
       "      <th>1</th>\n",
       "      <td>292</td>\n",
       "      <td>0.593674</td>\n",
       "      <td>0.215933</td>\n",
       "      <td>0.190393</td>\n",
       "      <td>0.493198</td>\n",
       "      <td>0.191977</td>\n",
       "      <td>0.314825</td>\n",
       "      <td>0.648823</td>\n",
       "      <td>0.206792</td>\n",
       "      <td>0.144386</td>\n",
       "      <td>0.502106</td>\n",
       "      <td>0.292476</td>\n",
       "      <td>0.205419</td>\n",
       "    </tr>\n",
       "    <tr>\n",
       "      <th>2</th>\n",
       "      <td>298</td>\n",
       "      <td>0.427067</td>\n",
       "      <td>0.377558</td>\n",
       "      <td>0.195375</td>\n",
       "      <td>0.702528</td>\n",
       "      <td>0.127771</td>\n",
       "      <td>0.169701</td>\n",
       "      <td>0.285166</td>\n",
       "      <td>0.687439</td>\n",
       "      <td>0.027395</td>\n",
       "      <td>0.994922</td>\n",
       "      <td>0.003798</td>\n",
       "      <td>0.001280</td>\n",
       "    </tr>\n",
       "    <tr>\n",
       "      <th>3</th>\n",
       "      <td>343</td>\n",
       "      <td>0.651201</td>\n",
       "      <td>0.049745</td>\n",
       "      <td>0.299054</td>\n",
       "      <td>0.911328</td>\n",
       "      <td>0.012691</td>\n",
       "      <td>0.075981</td>\n",
       "      <td>0.600418</td>\n",
       "      <td>0.066736</td>\n",
       "      <td>0.332846</td>\n",
       "      <td>0.583243</td>\n",
       "      <td>0.046122</td>\n",
       "      <td>0.370635</td>\n",
       "    </tr>\n",
       "    <tr>\n",
       "      <th>4</th>\n",
       "      <td>348</td>\n",
       "      <td>0.941425</td>\n",
       "      <td>0.023591</td>\n",
       "      <td>0.034984</td>\n",
       "      <td>0.998509</td>\n",
       "      <td>0.000367</td>\n",
       "      <td>0.001124</td>\n",
       "      <td>0.918099</td>\n",
       "      <td>0.031206</td>\n",
       "      <td>0.050695</td>\n",
       "      <td>0.881918</td>\n",
       "      <td>0.042310</td>\n",
       "      <td>0.075772</td>\n",
       "    </tr>\n",
       "  </tbody>\n",
       "</table>\n",
       "</div>"
      ],
      "text/plain": [
       "   Row Index  Appearance Positive  Appearance Neutral  Appearance Negative  \\\n",
       "0        216             0.974481            0.005291             0.020228   \n",
       "1        292             0.593674            0.215933             0.190393   \n",
       "2        298             0.427067            0.377558             0.195375   \n",
       "3        343             0.651201            0.049745             0.299054   \n",
       "4        348             0.941425            0.023591             0.034984   \n",
       "\n",
       "   Aroma Positive  Aroma Neutral  Aroma Negative  Palate Positive  \\\n",
       "0        0.982895       0.002254        0.014850         0.710195   \n",
       "1        0.493198       0.191977        0.314825         0.648823   \n",
       "2        0.702528       0.127771        0.169701         0.285166   \n",
       "3        0.911328       0.012691        0.075981         0.600418   \n",
       "4        0.998509       0.000367        0.001124         0.918099   \n",
       "\n",
       "   Palate Neutral  Palate Negative  Taste Positive  Taste Neutral  \\\n",
       "0        0.022451         0.267354        0.633389       0.021023   \n",
       "1        0.206792         0.144386        0.502106       0.292476   \n",
       "2        0.687439         0.027395        0.994922       0.003798   \n",
       "3        0.066736         0.332846        0.583243       0.046122   \n",
       "4        0.031206         0.050695        0.881918       0.042310   \n",
       "\n",
       "   Taste Negative  \n",
       "0        0.345588  \n",
       "1        0.205419  \n",
       "2        0.001280  \n",
       "3        0.370635  \n",
       "4        0.075772  "
      ]
     },
     "execution_count": 5,
     "metadata": {},
     "output_type": "execute_result"
    }
   ],
   "source": [
    "# see how the results look\n",
    "absa_results.head()"
   ]
  },
  {
   "cell_type": "markdown",
   "id": "4d6411f4",
   "metadata": {},
   "source": [
    "Next, we are going to plot our results to see if there are some differences between aspects."
   ]
  },
  {
   "cell_type": "markdown",
   "id": "73a5e1c5",
   "metadata": {},
   "source": [
    "**Note:** y axis are not in the same intervals. Since they differ by lot, we decided to present them this way."
   ]
  },
  {
   "cell_type": "code",
   "execution_count": 6,
   "id": "8ccd3e69",
   "metadata": {},
   "outputs": [
    {
     "data": {
      "text/plain": [
       "<AxesSubplot:xlabel='Taste Positive', ylabel='Count'>"
      ]
     },
     "execution_count": 6,
     "metadata": {},
     "output_type": "execute_result"
    },
    {
     "data": {
      "image/png": "[encoded data removed]",
      "text/plain": [
       "<Figure size 960x560 with 4 Axes>"
      ]
     },
     "metadata": {
      "needs_background": "light"
     },
     "output_type": "display_data"
    }
   ],
   "source": [
    "# plotting the positive sentiments\n",
    "fig = plt.figure(figsize=(12,7), dpi=80)\n",
    "plt.suptitle('Positive')\n",
    "plt.subplot(221)\n",
    "sns.histplot(absa_results['Appearance Positive'], bins=50)\n",
    "plt.subplot(222)\n",
    "sns.histplot(absa_results['Aroma Positive'], bins=50)\n",
    "plt.subplot(223)\n",
    "sns.histplot(absa_results['Palate Positive'], bins=50)\n",
    "plt.subplot(224)\n",
    "sns.histplot(absa_results['Taste Positive'], bins=50)"
   ]
  },
  {
   "cell_type": "markdown",
   "id": "37bfb2f1",
   "metadata": {},
   "source": [
    "We see that **aroma** and **taste** have more reviews for which positive sentiment probability is highly confident (>0.9) than **appearance** and **palate** have."
   ]
  },
  {
   "cell_type": "code",
   "execution_count": 7,
   "id": "040c161d-9d87-44dd-bd75-bef4cd237a36",
   "metadata": {},
   "outputs": [
    {
     "data": {
      "text/plain": [
       "<AxesSubplot:xlabel='Taste Negative', ylabel='Count'>"
      ]
     },
     "execution_count": 7,
     "metadata": {},
     "output_type": "execute_result"
    },
    {
     "data": {
      "image/png": "[encoded data removed]",
      "text/plain": [
       "<Figure size 960x560 with 4 Axes>"
      ]
     },
     "metadata": {
      "needs_background": "light"
     },
     "output_type": "display_data"
    }
   ],
   "source": [
    "# plotting negative sentiment\n",
    "fig = plt.figure(figsize=(12,7), dpi=80)\n",
    "plt.suptitle('Negative')\n",
    "plt.subplot(221)\n",
    "sns.histplot(absa_results['Appearance Negative'], bins=50)\n",
    "plt.subplot(222)\n",
    "sns.histplot(absa_results['Aroma Negative'], bins=50)\n",
    "plt.subplot(223)\n",
    "sns.histplot(absa_results['Palate Negative'], bins=50)\n",
    "plt.subplot(224)\n",
    "sns.histplot(absa_results['Taste Negative'], bins=50)"
   ]
  },
  {
   "cell_type": "markdown",
   "id": "8e5e7d66",
   "metadata": {},
   "source": [
    "Next, we see similar connection between **aroma** and **taste** for the negative aspects of reviews. There are many reviews for which we are sure that they are not negative, which is not the case for **appearance** and **palate**."
   ]
  },
  {
   "cell_type": "code",
   "execution_count": 8,
   "id": "8eb15356-9912-4b86-b2cc-7d890ba18ba1",
   "metadata": {},
   "outputs": [
    {
     "data": {
      "text/plain": [
       "<AxesSubplot:xlabel='Taste Neutral', ylabel='Count'>"
      ]
     },
     "execution_count": 8,
     "metadata": {},
     "output_type": "execute_result"
    },
    {
     "data": {
      "image/png": "[encoded data removed]",
      "text/plain": [
       "<Figure size 960x560 with 4 Axes>"
      ]
     },
     "metadata": {
      "needs_background": "light"
     },
     "output_type": "display_data"
    }
   ],
   "source": [
    "# plotting neutral sentiment\n",
    "fig = plt.figure(figsize=(12,7), dpi=80)\n",
    "plt.suptitle('Neutral')\n",
    "plt.subplot(221)\n",
    "sns.histplot(absa_results['Appearance Neutral'], bins=50)\n",
    "plt.subplot(222)\n",
    "sns.histplot(absa_results['Aroma Neutral'], bins=50)\n",
    "plt.subplot(223)\n",
    "sns.histplot(absa_results['Palate Neutral'], bins=50)\n",
    "plt.subplot(224)\n",
    "sns.histplot(absa_results['Taste Neutral'], bins=50)"
   ]
  },
  {
   "cell_type": "markdown",
   "id": "31f44dc0",
   "metadata": {},
   "source": [
    "Let's see what percentage of reviews are surely (with thresh 0.0005 on probability) not neutral:"
   ]
  },
  {
   "cell_type": "code",
   "execution_count": 9,
   "id": "6798cee5-3dff-443a-8304-9bc05c6f34ac",
   "metadata": {},
   "outputs": [
    {
     "name": "stdout",
     "output_type": "stream",
     "text": [
      "Percentage of [ Appearance Neutral < 0.0005 ] reviews: 0.2134\n",
      "Percentage of [ Aroma Neutral < 0.0005 ] reviews: 11.1631\n",
      "Percentage of [ Palate Neutral < 0.0005 ] reviews: 0.0968\n",
      "Percentage of [ Taste Neutral < 0.0005 ] reviews: 3.2946\n"
     ]
    }
   ],
   "source": [
    "thresh = 0.0005\n",
    "\n",
    "neut_0_appearance = len(absa_results[absa_results['Appearance Neutral'] < thresh]) / len(absa_results)\n",
    "neut_0_aroma = len(absa_results[absa_results['Aroma Neutral'] < thresh]) / len(absa_results)\n",
    "neut_0_palate = len(absa_results[absa_results['Palate Neutral'] < thresh]) / len(absa_results)\n",
    "neut_0_taste = len(absa_results[absa_results['Taste Neutral'] < thresh]) / len(absa_results)\n",
    "\n",
    "print(\"Percentage of [ Appearance Neutral < {} ] reviews: {:.4f}\".format(thresh, neut_0_appearance * 100))\n",
    "print(\"Percentage of [ Aroma Neutral < {} ] reviews: {:.4f}\".format(thresh, neut_0_aroma * 100))\n",
    "print(\"Percentage of [ Palate Neutral < {} ] reviews: {:.4f}\".format(thresh, neut_0_palate * 100))\n",
    "print(\"Percentage of [ Taste Neutral < {} ] reviews: {:.4f}\".format(thresh, neut_0_taste * 100))\n",
    "\n",
    "# They are least neutral towards AROMA and also, TASTE has a non-negligible score"
   ]
  },
  {
   "cell_type": "markdown",
   "id": "39792fab",
   "metadata": {},
   "source": [
    "Below we see that users are almost always positive when they are not neutral when it comes to **aroma**!"
   ]
  },
  {
   "cell_type": "code",
   "execution_count": 10,
   "id": "4523476e-f740-450c-aa32-507bbe14a7e8",
   "metadata": {},
   "outputs": [
    {
     "name": "stdout",
     "output_type": "stream",
     "text": [
      "Percentage of positive ratings of aroma if we are not neutral: 99.82676229000813\n"
     ]
    }
   ],
   "source": [
    "# Average grade for Aroma Positive (approx. 1 - Aroma Negative) when Aroma Neutral < thresh\n",
    "percentage_positive = absa_results[absa_results['Aroma Neutral'] < thresh]['Aroma Positive'].mean()\n",
    "print(\"Percentage of positive ratings of aroma if we are not neutral: {}\".format(100*percentage_positive))"
   ]
  },
  {
   "cell_type": "markdown",
   "id": "75c7f0d0",
   "metadata": {},
   "source": [
    "## Matching pairs\n",
    "\n",
    "Now, we will repeat the process of matching pairs, but this time we will include the results of aspect based sentiment analysis."
   ]
  },
  {
   "cell_type": "code",
   "execution_count": 11,
   "id": "0013187a",
   "metadata": {},
   "outputs": [
    {
     "name": "stdout",
     "output_type": "stream",
     "text": [
      "(2589587, 17)\n"
     ]
    }
   ],
   "source": [
    "# Loading in the data\n",
    "#reviews = pd.read_pickle('./datasets/BeerAdvocate/reviews.pkl')\n",
    "reviews = pd.read_pickle('../datasets/BeerAdvocate/reviews.pkl')\n",
    "print(reviews.shape)"
   ]
  },
  {
   "cell_type": "code",
   "execution_count": 12,
   "id": "9f5e22b2",
   "metadata": {},
   "outputs": [],
   "source": [
    "# setting constants\n",
    "matched_text_difference = 100\n",
    "maximum_text_size = 2000\n",
    "\n",
    "winter_months = [1, 2, 3]\n",
    "spring_months = [4, 5, 6]\n",
    "summer_months = [7, 8, 9]\n",
    "autumn_months = [10, 11, 12]"
   ]
  },
  {
   "cell_type": "code",
   "execution_count": 13,
   "id": "66ac6a12",
   "metadata": {},
   "outputs": [],
   "source": [
    "# setting row index as a column - useful later\n",
    "reviews['Row Index'] = reviews.index"
   ]
  },
  {
   "cell_type": "code",
   "execution_count": 14,
   "id": "6f9963e0",
   "metadata": {},
   "outputs": [],
   "source": [
    "# selecting necessary columns\n",
    "reviews_clean = reviews[['Beer Id','Brewery Id','Style','Abv','Date','User Id','Appearance','Aroma',\\\n",
    "                         'Palate','Taste','Overall','Rating','Text', 'Row Index']]"
   ]
  },
  {
   "cell_type": "code",
   "execution_count": 15,
   "id": "721ad634",
   "metadata": {},
   "outputs": [],
   "source": [
    "# merging absa results\n",
    "reviews_clean = reviews_clean.merge(absa_results, on='Row Index')"
   ]
  },
  {
   "cell_type": "code",
   "execution_count": 16,
   "id": "04e341b4",
   "metadata": {},
   "outputs": [],
   "source": [
    "# matching on User Id, Style and Abv\n",
    "reviews_cartesian = reviews_clean.merge(reviews_clean, on=['User Id','Style','Abv'], suffixes=('1', '2'))"
   ]
  },
  {
   "cell_type": "code",
   "execution_count": 17,
   "id": "654e86dd",
   "metadata": {},
   "outputs": [],
   "source": [
    "# filtering pairs where first one is absolutely better\n",
    "reviews_pairs = reviews_cartesian[(reviews_cartesian['Rating1'] > reviews_cartesian['Rating2']) & \\\n",
    "                                  (reviews_cartesian['Overall1'] > reviews_cartesian['Overall2']) & \\\n",
    "                                  (reviews_cartesian['Aroma1'] > reviews_cartesian['Aroma2']) & \\\n",
    "                                  (reviews_cartesian['Appearance1'] > reviews_cartesian['Appearance2']) & \\\n",
    "                                  (reviews_cartesian['Taste1'] > reviews_cartesian['Taste2']) & \\\n",
    "                                  (reviews_cartesian['Palate1'] > reviews_cartesian['Palate2'])].copy()"
   ]
  },
  {
   "cell_type": "code",
   "execution_count": 18,
   "id": "983f6750",
   "metadata": {},
   "outputs": [],
   "source": [
    "# adding month columns to filtered data\n",
    "reviews_pairs['Month1'] = reviews_pairs['Date1'].apply(lambda x: x.month)\n",
    "reviews_pairs['Month2'] = reviews_pairs['Date2'].apply(lambda x: x.month)\n",
    "reviews_pairs['Text Length1'] = reviews_pairs['Text1'].apply(len)\n",
    "reviews_pairs['Text Length2'] = reviews_pairs['Text2'].apply(len)"
   ]
  },
  {
   "cell_type": "code",
   "execution_count": 19,
   "id": "65055ebe",
   "metadata": {},
   "outputs": [],
   "source": [
    "# matching pairs on seasonality\n",
    "seasonal_pairs = reviews_pairs[\n",
    "            ((reviews_pairs['Month1'].isin(winter_months) & reviews_pairs['Month2'].isin(winter_months)) | \\\n",
    "             (reviews_pairs['Month1'].isin(spring_months) & reviews_pairs['Month2'].isin(spring_months)) | \\\n",
    "             (reviews_pairs['Month1'].isin(summer_months) & reviews_pairs['Month2'].isin(summer_months)) | \\\n",
    "             (reviews_pairs['Month1'].isin(autumn_months) & reviews_pairs['Month2'].isin(autumn_months)))\n",
    "                              ]"
   ]
  },
  {
   "cell_type": "code",
   "execution_count": 20,
   "id": "5a4e3448",
   "metadata": {},
   "outputs": [],
   "source": [
    "matched_len_reviews_pairs = seasonal_pairs[abs(seasonal_pairs['Text Length1'] - \\\n",
    "                                               seasonal_pairs['Text Length2']) < matched_text_difference]"
   ]
  },
  {
   "cell_type": "code",
   "execution_count": 21,
   "id": "b7a5ccf3",
   "metadata": {},
   "outputs": [],
   "source": [
    "long_reviews = matched_len_reviews_pairs[(matched_len_reviews_pairs['Text Length1']> maximum_text_size) | \\\n",
    "                                           (matched_len_reviews_pairs['Text Length2']> maximum_text_size)]"
   ]
  },
  {
   "cell_type": "code",
   "execution_count": 22,
   "id": "c9757dd8",
   "metadata": {},
   "outputs": [],
   "source": [
    "matched_pairs = matched_len_reviews_pairs.drop(index = long_reviews.index)"
   ]
  },
  {
   "cell_type": "code",
   "execution_count": 23,
   "id": "fb694d82",
   "metadata": {},
   "outputs": [
    {
     "name": "stdout",
     "output_type": "stream",
     "text": [
      "Matched winter review pairs shape: (14757, 53)\n",
      "Matched spring review pairs shape: (19234, 53)\n",
      "Matched summer review pairs shape: (14375, 53)\n",
      "Matched autumn review pairs shape: (13591, 53)\n"
     ]
    }
   ],
   "source": [
    "winter_pairs = matched_pairs[matched_pairs['Month1'].isin(winter_months)].copy()\n",
    "spring_pairs = matched_pairs[matched_pairs['Month1'].isin(spring_months)].copy()\n",
    "summer_pairs = matched_pairs[matched_pairs['Month1'].isin(summer_months)].copy()\n",
    "autumn_pairs = matched_pairs[matched_pairs['Month1'].isin(autumn_months)].copy()\n",
    "\n",
    "print('Matched winter review pairs shape: {}'.format(winter_pairs.shape))\n",
    "print('Matched spring review pairs shape: {}'.format(spring_pairs.shape))\n",
    "print('Matched summer review pairs shape: {}'.format(summer_pairs.shape))\n",
    "print('Matched autumn review pairs shape: {}'.format(autumn_pairs.shape))"
   ]
  },
  {
   "cell_type": "markdown",
   "id": "ab4e6a77",
   "metadata": {},
   "source": [
    "When we have our pairs with the results of aspect based sentiment analysis we are going to explore more."
   ]
  },
  {
   "cell_type": "markdown",
   "id": "9abe4d4c",
   "metadata": {},
   "source": [
    "## ABSA indicators"
   ]
  },
  {
   "cell_type": "markdown",
   "id": "b79caa46",
   "metadata": {},
   "source": [
    "What is the case with textual analysis? \n",
    "\n",
    "Well, in order to see the importance, we will create **indicators** for each aspect in text for **better in a pair**. If the ABSA tool gave probability higer than 0.9 we will set indicator to 1, otherwise 0."
   ]
  },
  {
   "cell_type": "code",
   "execution_count": 85,
   "id": "a704cc44",
   "metadata": {},
   "outputs": [],
   "source": [
    "for feature in features:\n",
    "    matched_pairs[feature + '1'] = 1*(matched_pairs[feature + '1'] > 0.9)\n",
    "    matched_pairs[feature + '2'] = 1*(matched_pairs[feature + '2'] > 0.9)"
   ]
  },
  {
   "cell_type": "code",
   "execution_count": 86,
   "id": "4b12e60a",
   "metadata": {},
   "outputs": [],
   "source": [
    "indicators_positive = []\n",
    "for feature in positive_features:\n",
    "    indicators_positive.append(matched_pairs[feature + '1'].sum())"
   ]
  },
  {
   "cell_type": "code",
   "execution_count": 91,
   "id": "8aa4ec32",
   "metadata": {},
   "outputs": [
    {
     "data": {
      "text/plain": [
       "<AxesSubplot:>"
      ]
     },
     "execution_count": 91,
     "metadata": {},
     "output_type": "execute_result"
    },
    {
     "data": {
      "image/png": "[encoded data removed]",
      "text/plain": [
       "<Figure size 560x400 with 1 Axes>"
      ]
     },
     "metadata": {
      "needs_background": "light"
     },
     "output_type": "display_data"
    }
   ],
   "source": [
    "fig = plt.figure(figsize=(7,5), dpi=80)\n",
    "plt.suptitle('Positive indicators per aspect for better in a pair')\n",
    "sns.barplot(x=positive_features, y=indicators_positive)"
   ]
  },
  {
   "cell_type": "markdown",
   "id": "f0e57983",
   "metadata": {},
   "source": [
    "We can see that **aroma** and **taste** have more positive indicators than **appearance** and **palate**."
   ]
  },
  {
   "cell_type": "code",
   "execution_count": 92,
   "id": "2ece4e83",
   "metadata": {},
   "outputs": [],
   "source": [
    "indicators_negative = []\n",
    "for feature in negative_features:\n",
    "    indicators_negative.append(matched_pairs[feature + '1'].sum())"
   ]
  },
  {
   "cell_type": "code",
   "execution_count": 93,
   "id": "8de6f754",
   "metadata": {},
   "outputs": [
    {
     "data": {
      "text/plain": [
       "<AxesSubplot:>"
      ]
     },
     "execution_count": 93,
     "metadata": {},
     "output_type": "execute_result"
    },
    {
     "data": {
      "image/png": "[encoded data removed]",
      "text/plain": [
       "<Figure size 560x400 with 1 Axes>"
      ]
     },
     "metadata": {
      "needs_background": "light"
     },
     "output_type": "display_data"
    }
   ],
   "source": [
    "fig = plt.figure(figsize=(7,5), dpi=80)\n",
    "plt.suptitle('Negative indicators per aspect for better in a pair')\n",
    "sns.barplot(x=negative_features, y=indicators_negative)"
   ]
  },
  {
   "cell_type": "markdown",
   "id": "eaafa308",
   "metadata": {},
   "source": [
    "## Confidence intervals for indicators"
   ]
  },
  {
   "cell_type": "markdown",
   "id": "5589c366",
   "metadata": {},
   "source": [
    "We have only inspected better reviews. Next, we will calculate **confidence intervals** for difference between indicators **between better and worse reviews** in order to see if there are some differences there."
   ]
  },
  {
   "cell_type": "code",
   "execution_count": 95,
   "id": "6de3d9fe",
   "metadata": {},
   "outputs": [],
   "source": [
    "# Task 3.8 : Helper function for confidence intervals\n",
    "\n",
    "# confidence interval for data returned as : average, lower bound, upper bound\n",
    "# boot count is number of data points tosample\n",
    "def confidence_interval(data, boot_count=1000):\n",
    "    # generating samples from data, boot_count times generate subsamples of length equal to the length of data\n",
    "    boot_data = np.mean(np.random.choice(data, size=(boot_count, len(data)), replace=True), axis=1)\n",
    "    \n",
    "    # calculating average\n",
    "    avg = np.mean(boot_data)\n",
    "    \n",
    "    # calculating boundaries for confidence interval\n",
    "    [lo,hi] = np.percentile(boot_data,[2.5, 97.5])\n",
    "    return avg, lo, hi"
   ]
  },
  {
   "cell_type": "code",
   "execution_count": 96,
   "id": "aadeac90",
   "metadata": {},
   "outputs": [],
   "source": [
    "# helper function for analysing absa effects\n",
    "def absa_effects(df, features, boot_count=1000):\n",
    "    # initialize dictionary keys with headline effects \n",
    "    boot_effects = {}\n",
    "    boot_effects.update({key : np.zeros(3) for key in features})\n",
    "    \n",
    "    for key in boot_effects:\n",
    "        boot_effects[key] = confidence_interval(df[key+'1']-df[key+'2'])\n",
    "    \n",
    "    return boot_effects"
   ]
  },
  {
   "cell_type": "code",
   "execution_count": 99,
   "id": "11b27c46",
   "metadata": {},
   "outputs": [],
   "source": [
    "boot_effects_positive = absa_effects(matched_pairs, positive_features)\n",
    "boot_effects_negative = absa_effects(matched_pairs, negative_features)\n",
    "boot_effects_neutral = absa_effects(matched_pairs, neutral_features)"
   ]
  },
  {
   "cell_type": "code",
   "execution_count": 103,
   "id": "b2bf6a1d",
   "metadata": {
    "scrolled": false
   },
   "outputs": [
    {
     "data": {
      "image/png": "[encoded data removed]",
      "text/plain": [
       "<Figure size 880x1280 with 3 Axes>"
      ]
     },
     "metadata": {
      "needs_background": "light"
     },
     "output_type": "display_data"
    }
   ],
   "source": [
    "# create dataframe from dictionary of data\n",
    "boot_effects_dataframe_negative = pd.DataFrame.from_dict(data=boot_effects_negative, orient='index', columns=['average_difference', '2.5%', '97.5%'])\n",
    "boot_effects_dataframe_positive = pd.DataFrame.from_dict(data=boot_effects_positive, orient='index', columns=['average_difference', '2.5%', '97.5%'])\n",
    "boot_effects_dataframe_neutral = pd.DataFrame.from_dict(data=boot_effects_neutral, orient='index', columns=['average_difference', '2.5%', '97.5%'])\n",
    "\n",
    "\n",
    "# calculating errors between mean and confidence intervals boundaries\n",
    "errors_negative = [boot_effects_dataframe_negative['average_difference'] -boot_effects_dataframe_negative['2.5%'], \\\n",
    "          boot_effects_dataframe_negative['97.5%'] - boot_effects_dataframe_negative['average_difference']]\n",
    "\n",
    "errors_positive = [boot_effects_dataframe_positive['average_difference'] -boot_effects_dataframe_positive['2.5%'], \\\n",
    "          boot_effects_dataframe_positive['97.5%'] - boot_effects_dataframe_positive['average_difference']]\n",
    "\n",
    "errors_neutral = [boot_effects_dataframe_neutral['average_difference'] -boot_effects_dataframe_neutral['2.5%'], \\\n",
    "          boot_effects_dataframe_neutral['97.5%'] - boot_effects_dataframe_neutral['average_difference']]\n",
    "\n",
    "# plot the results\n",
    "plt.figure(figsize=(11, 16), dpi=80)\n",
    "\n",
    "plt.subplot(311)\n",
    "plt.title('Average difference with 95% confidence intervals per feature between winner and loser headlines')\n",
    "plt.xlabel('Difference between winner and loser headlines')\n",
    "plt.ylabel('Features')\n",
    "plt.errorbar(y=boot_effects_dataframe_positive.index, x=boot_effects_dataframe_positive['average_difference'], xerr=errors_positive,\\\n",
    "             fmt=\"o\", markersize=4, capsize=4)\n",
    "\n",
    "plt.subplot(312)\n",
    "plt.title('Average difference with 95% confidence intervals per feature between winner and loser headlines')\n",
    "plt.xlabel('Difference between winner and loser headlines')\n",
    "plt.ylabel('Features')\n",
    "plt.errorbar(y=boot_effects_dataframe_negative.index, x=boot_effects_dataframe_negative['average_difference'], xerr=errors_negative,\\\n",
    "             fmt=\"o\", markersize=4, capsize=4)\n",
    "\n",
    "plt.subplot(313)\n",
    "plt.title('Average difference with 95% confidence intervals per feature between winner and loser headlines')\n",
    "plt.xlabel('Difference between winner and loser headlines')\n",
    "plt.ylabel('Features')\n",
    "plt.errorbar(y=boot_effects_dataframe_neutral.index, x=boot_effects_dataframe_neutral['average_difference'], xerr=errors_neutral,\\\n",
    "             fmt=\"o\", markersize=4, capsize=4)\n",
    "\n",
    "# vertical line through zero as a reference for no effect\n",
    "#plt.axvline(x = 0, color = 'black', linestyle = '--')\n",
    "plt.subplots_adjust(hspace=0.4)\n",
    "plt.show()"
   ]
  },
  {
   "cell_type": "markdown",
   "id": "3cda7970",
   "metadata": {},
   "source": [
    "From the plots above we conclude following:\n",
    "\n",
    "As expected **all the intervals for positive/negative aspect difference are positive/negative**. That means that better reviews really have more positive and less negative indicators for aspects. But that was expected."
   ]
  },
  {
   "cell_type": "markdown",
   "id": "90961090",
   "metadata": {},
   "source": [
    "However, for positive indicators. we see that **aroma** and **taste** stand out as their confidence intervals are shifted to the right. That means that they are more often a better indicator if a review is better than **palate** and **appearance**. Maybe we could say that they are more *impactful*."
   ]
  },
  {
   "cell_type": "markdown",
   "id": "197e9ce6",
   "metadata": {},
   "source": [
    "For negative indicators, **taste** seems to stand out as most important."
   ]
  },
  {
   "cell_type": "markdown",
   "id": "ee7053f0",
   "metadata": {},
   "source": [
    "So, even though grades users give for ratings are pretty similar, they do not appear to be like that when it comes to textual aspect based sentiment analysis."
   ]
  },
  {
   "cell_type": "markdown",
   "id": "c51a38f1",
   "metadata": {},
   "source": [
    "## Impact of indicators on rating"
   ]
  },
  {
   "cell_type": "markdown",
   "id": "d5f46641",
   "metadata": {},
   "source": [
    "For instance, let's see the average grades of better and worse in a pair."
   ]
  },
  {
   "cell_type": "code",
   "execution_count": 24,
   "id": "01586b17",
   "metadata": {
    "scrolled": true
   },
   "outputs": [
    {
     "data": {
      "text/plain": [
       "Aroma1         4.069823\n",
       "Taste1         4.112489\n",
       "Appearance1    4.105912\n",
       "Palate1        4.070618\n",
       "dtype: float64"
      ]
     },
     "execution_count": 24,
     "metadata": {},
     "output_type": "execute_result"
    }
   ],
   "source": [
    "matched_pairs[['Aroma1', 'Taste1', 'Appearance1', 'Palate1']].mean()"
   ]
  },
  {
   "cell_type": "code",
   "execution_count": 25,
   "id": "4afd9354",
   "metadata": {
    "scrolled": true
   },
   "outputs": [
    {
     "data": {
      "text/plain": [
       "Aroma2         3.287534\n",
       "Taste2         3.262182\n",
       "Appearance2    3.422866\n",
       "Palate2        3.282527\n",
       "dtype: float64"
      ]
     },
     "execution_count": 25,
     "metadata": {},
     "output_type": "execute_result"
    }
   ],
   "source": [
    "matched_pairs[['Aroma2', 'Taste2', 'Appearance2', 'Palate2']].mean()"
   ]
  },
  {
   "cell_type": "markdown",
   "id": "9f2f4cac",
   "metadata": {},
   "source": [
    "We can see that they are quite similar, only **appearance** stands out for worse reviews."
   ]
  },
  {
   "cell_type": "markdown",
   "id": "de827e54",
   "metadata": {},
   "source": [
    "Let's see how indicators impact the grades:\n",
    "\n",
    "We will se how **positive indicators** of a **better review** impact its rating and how **negative indicators** of a **worse comment** impact its rating."
   ]
  },
  {
   "cell_type": "code",
   "execution_count": 108,
   "id": "7dd81a6b",
   "metadata": {},
   "outputs": [
    {
     "name": "stdout",
     "output_type": "stream",
     "text": [
      "                            OLS Regression Results                            \n",
      "==============================================================================\n",
      "Dep. Variable:                 rating   R-squared:                       0.063\n",
      "Model:                            OLS   Adj. R-squared:                  0.063\n",
      "Method:                 Least Squares   F-statistic:                     1034.\n",
      "Date:                Thu, 22 Dec 2022   Prob (F-statistic):               0.00\n",
      "Time:                        18:06:20   Log-Likelihood:                -40041.\n",
      "No. Observations:               61957   AIC:                         8.009e+04\n",
      "Df Residuals:                   61952   BIC:                         8.014e+04\n",
      "Df Model:                           4                                         \n",
      "Covariance Type:            nonrobust                                         \n",
      "==============================================================================\n",
      "                 coef    std err          t      P>|t|      [0.025      0.975]\n",
      "------------------------------------------------------------------------------\n",
      "Intercept      3.9638      0.003   1325.641      0.000       3.958       3.970\n",
      "aroma          0.1098      0.004     26.212      0.000       0.102       0.118\n",
      "taste          0.0800      0.004     19.486      0.000       0.072       0.088\n",
      "palate         0.1063      0.005     20.033      0.000       0.096       0.117\n",
      "appearance     0.0464      0.005      9.271      0.000       0.037       0.056\n",
      "==============================================================================\n",
      "Omnibus:                     9877.397   Durbin-Watson:                   0.782\n",
      "Prob(Omnibus):                  0.000   Jarque-Bera (JB):            20943.605\n",
      "Skew:                          -0.955   Prob(JB):                         0.00\n",
      "Kurtosis:                       5.114   Cond. No.                         4.63\n",
      "==============================================================================\n",
      "\n",
      "Notes:\n",
      "[1] Standard Errors assume that the covariance matrix of the errors is correctly specified.\n"
     ]
    }
   ],
   "source": [
    "lin_reg_data = {'rating' : matched_pairs['Rating1'],\n",
    "                'aroma': matched_pairs['Aroma Positive1'],\n",
    "                'taste': matched_pairs['Taste Positive1'],\n",
    "                'appearance': matched_pairs['Appearance Positive1'],\n",
    "                'palate': matched_pairs['Palate Positive1']\n",
    "               }\n",
    "\n",
    "model = smf.ols(formula='rating ~ aroma + taste + palate + appearance', data=lin_reg_data).fit()\n",
    "\n",
    "model_summary = model.summary()\n",
    "\n",
    "print(model_summary)"
   ]
  },
  {
   "cell_type": "markdown",
   "id": "baac5b00",
   "metadata": {},
   "source": [
    "From the results we see that **aspects similarly** impact the grade. Maybe the apperance is a little bit lower, but coefficients assigned to aspects do **not differ by much**."
   ]
  },
  {
   "cell_type": "markdown",
   "id": "46d2e854",
   "metadata": {},
   "source": [
    "Now, let's see the results for worse reviews and imact of negative indicators on them."
   ]
  },
  {
   "cell_type": "code",
   "execution_count": 109,
   "id": "5faa4fd1",
   "metadata": {},
   "outputs": [
    {
     "name": "stdout",
     "output_type": "stream",
     "text": [
      "                            OLS Regression Results                            \n",
      "==============================================================================\n",
      "Dep. Variable:                 rating   R-squared:                       0.206\n",
      "Model:                            OLS   Adj. R-squared:                  0.206\n",
      "Method:                 Least Squares   F-statistic:                     4008.\n",
      "Date:                Thu, 22 Dec 2022   Prob (F-statistic):               0.00\n",
      "Time:                        18:06:48   Log-Likelihood:                -56222.\n",
      "No. Observations:               61957   AIC:                         1.125e+05\n",
      "Df Residuals:                   61952   BIC:                         1.125e+05\n",
      "Df Model:                           4                                         \n",
      "Covariance Type:            nonrobust                                         \n",
      "==============================================================================\n",
      "                 coef    std err          t      P>|t|      [0.025      0.975]\n",
      "------------------------------------------------------------------------------\n",
      "Intercept      3.4541      0.003   1246.740      0.000       3.449       3.460\n",
      "aroma         -0.3556      0.008    -44.078      0.000      -0.371      -0.340\n",
      "taste         -0.4050      0.007    -56.352      0.000      -0.419      -0.391\n",
      "palate        -0.1730      0.010    -17.214      0.000      -0.193      -0.153\n",
      "appearance    -0.0855      0.011     -8.132      0.000      -0.106      -0.065\n",
      "==============================================================================\n",
      "Omnibus:                     6090.410   Durbin-Watson:                   0.986\n",
      "Prob(Omnibus):                  0.000   Jarque-Bera (JB):             8676.906\n",
      "Skew:                          -0.777   Prob(JB):                         0.00\n",
      "Kurtosis:                       3.972   Cond. No.                         5.53\n",
      "==============================================================================\n",
      "\n",
      "Notes:\n",
      "[1] Standard Errors assume that the covariance matrix of the errors is correctly specified.\n"
     ]
    }
   ],
   "source": [
    "lin_reg_data = {'rating' : matched_pairs['Rating2'],\n",
    "                'aroma': matched_pairs['Aroma Negative2'],\n",
    "                'taste': matched_pairs['Taste Negative2'],\n",
    "                'appearance': matched_pairs['Appearance Negative2'],\n",
    "                'palate': matched_pairs['Palate Negative2']\n",
    "               }\n",
    "\n",
    "model = smf.ols(formula='rating ~ aroma + taste + palate + appearance', data=lin_reg_data).fit()\n",
    "\n",
    "model_summary = model.summary()\n",
    "\n",
    "print(model_summary)"
   ]
  },
  {
   "cell_type": "markdown",
   "id": "c2ca93bb",
   "metadata": {},
   "source": [
    "We see that again, **aroma** and **taste** appear to be the most impactful. If there is a negative indicator of that sentiment, it will degrade the rating by 0.35!"
   ]
  }
 ],
 "metadata": {
  "kernelspec": {
   "display_name": "Python 3 (ipykernel)",
   "language": "python",
   "name": "python3"
  },
  "language_info": {
   "codemirror_mode": {
    "name": "ipython",
    "version": 3
   },
   "file_extension": ".py",
   "mimetype": "text/x-python",
   "name": "python",
   "nbconvert_exporter": "python",
   "pygments_lexer": "ipython3",
   "version": "3.9.12"
  }
 },
 "nbformat": 4,
 "nbformat_minor": 5
}
