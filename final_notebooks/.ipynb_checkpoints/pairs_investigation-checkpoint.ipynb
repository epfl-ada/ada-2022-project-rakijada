{
 "cells": [
  {
   "cell_type": "markdown",
   "id": "7066f162",
   "metadata": {},
   "source": [
    "# Matching pairs for deeper text analysis"
   ]
  },
  {
   "cell_type": "code",
   "execution_count": 1,
   "id": "54be383c",
   "metadata": {},
   "outputs": [],
   "source": [
    "# Useful imports\n",
    "import pandas as pd\n",
    "import seaborn as sns\n",
    "import numpy as np\n",
    "import random\n",
    "import math\n",
    "import os.path\n",
    "from pathlib import Path"
   ]
  },
  {
   "cell_type": "code",
   "execution_count": 2,
   "id": "e1156d24",
   "metadata": {},
   "outputs": [
    {
     "name": "stdout",
     "output_type": "stream",
     "text": [
      "(2589587, 17)\n"
     ]
    }
   ],
   "source": [
    "# Loading in the data\n",
    "reviews = pd.read_pickle('./datasets/BeerAdvocate/reviews.pkl')\n",
    "print(reviews.shape)"
   ]
  },
  {
   "cell_type": "code",
   "execution_count": 3,
   "id": "45af83bc",
   "metadata": {},
   "outputs": [],
   "source": [
    "# setting row index as a column - useful later\n",
    "reviews['Row Index'] = reviews.index"
   ]
  },
  {
   "cell_type": "code",
   "execution_count": 4,
   "id": "e7de066a",
   "metadata": {},
   "outputs": [],
   "source": [
    "# selecting necessary columns\n",
    "reviews_clean = reviews[['Beer Id','Brewery Id','Style','Abv','Date','User Id','Appearance','Aroma',\\\n",
    "                         'Palate','Taste','Overall','Rating','Text', 'Row Index']]"
   ]
  },
  {
   "cell_type": "code",
   "execution_count": 5,
   "id": "873cfa7e",
   "metadata": {},
   "outputs": [],
   "source": [
    "# matching on User Id, Style and Abv\n",
    "reviews_cartesian = reviews_clean.merge(reviews_clean, on=['User Id','Style','Abv'], suffixes=('1', '2'))"
   ]
  },
  {
   "cell_type": "code",
   "execution_count": 6,
   "id": "343da948",
   "metadata": {},
   "outputs": [
    {
     "data": {
      "text/plain": [
       "(8255601, 25)"
      ]
     },
     "execution_count": 6,
     "metadata": {},
     "output_type": "execute_result"
    }
   ],
   "source": [
    "reviews_cartesian.shape"
   ]
  },
  {
   "cell_type": "code",
   "execution_count": 7,
   "id": "27c1d75a",
   "metadata": {},
   "outputs": [],
   "source": [
    "# filtering pairs where first one is absolutely better\n",
    "reviews_pairs = reviews_cartesian[(reviews_cartesian['Rating1'] > reviews_cartesian['Rating2']) & \\\n",
    "                                  (reviews_cartesian['Overall1'] > reviews_cartesian['Overall2']) & \\\n",
    "                                  (reviews_cartesian['Aroma1'] > reviews_cartesian['Aroma2']) & \\\n",
    "                                  (reviews_cartesian['Appearance1'] > reviews_cartesian['Appearance2']) & \\\n",
    "                                  (reviews_cartesian['Taste1'] > reviews_cartesian['Taste2']) & \\\n",
    "                                  (reviews_cartesian['Palate1'] > reviews_cartesian['Palate2'])].copy()"
   ]
  },
  {
   "cell_type": "code",
   "execution_count": 8,
   "id": "a4f6d6e9",
   "metadata": {},
   "outputs": [
    {
     "data": {
      "text/plain": [
       "(599517, 25)"
      ]
     },
     "execution_count": 8,
     "metadata": {},
     "output_type": "execute_result"
    }
   ],
   "source": [
    "reviews_pairs.shape"
   ]
  },
  {
   "cell_type": "code",
   "execution_count": 9,
   "id": "acf19b84",
   "metadata": {
    "scrolled": true
   },
   "outputs": [],
   "source": [
    "# adding month columns to filtered data\n",
    "reviews_pairs['Month1'] = reviews_pairs['Date1'].apply(lambda x: x.month)\n",
    "reviews_pairs['Month2'] = reviews_pairs['Date2'].apply(lambda x: x.month)\n",
    "reviews_pairs['Text Length1'] = reviews_pairs['Text1'].apply(len)\n",
    "reviews_pairs['Text Length2'] = reviews_pairs['Text2'].apply(len)\n",
    "# sns.lineplot(data=reviews_pairs, y='Rating1', x='Month1')\n",
    "# sns.lineplot(data=reviews_pairs, y='Rating2', x='Month2')"
   ]
  },
  {
   "cell_type": "code",
   "execution_count": 10,
   "id": "3b5610a1",
   "metadata": {},
   "outputs": [],
   "source": [
    "winter_review_pairs = reviews_pairs[(reviews_pairs['Month1']>=1) & (reviews_pairs['Month1']<=3) & \\\n",
    "              (reviews_pairs['Month2']>=1) & (reviews_pairs['Month2']<=3)]\n",
    "summer_review_pairs = reviews_pairs[(reviews_pairs['Month1']>=7) & (reviews_pairs['Month1']<=9) & \\\n",
    "              (reviews_pairs['Month2']>=7) & (reviews_pairs['Month2']<=9)]"
   ]
  },
  {
   "cell_type": "code",
   "execution_count": 11,
   "id": "d41bc2d4",
   "metadata": {},
   "outputs": [
    {
     "name": "stdout",
     "output_type": "stream",
     "text": [
      "Winter review pairs shape: (41478, 29)\n",
      "Summer review pairs shape: (39424, 29)\n"
     ]
    }
   ],
   "source": [
    "print('Winter review pairs shape: {}'.format(winter_review_pairs.shape))\n",
    "print('Summer review pairs shape: {}'.format(summer_review_pairs.shape))"
   ]
  },
  {
   "cell_type": "code",
   "execution_count": 12,
   "id": "0ac3b34e",
   "metadata": {},
   "outputs": [],
   "source": [
    "matched_winter_pairs = winter_review_pairs[abs(winter_review_pairs['Text Length1'] - \\\n",
    "                                               winter_review_pairs['Text Length2']) <100]\n",
    "matched_summer_pairs = summer_review_pairs[abs(summer_review_pairs['Text Length1'] - \\\n",
    "                                               summer_review_pairs['Text Length2']) <100]"
   ]
  },
  {
   "cell_type": "code",
   "execution_count": 13,
   "id": "5c23797c",
   "metadata": {},
   "outputs": [
    {
     "name": "stdout",
     "output_type": "stream",
     "text": [
      "Matched winter review pairs shape: (14803, 29)\n",
      "Matched summer review pairs shape: (14426, 29)\n"
     ]
    }
   ],
   "source": [
    "print('Matched winter review pairs shape: {}'.format(matched_winter_pairs.shape))\n",
    "print('Matched summer review pairs shape: {}'.format(matched_summer_pairs.shape))"
   ]
  },
  {
   "cell_type": "code",
   "execution_count": 14,
   "id": "a66597fd",
   "metadata": {},
   "outputs": [
    {
     "name": "stdout",
     "output_type": "stream",
     "text": [
      "Too long winter review pairs shape: (45, 29)\n",
      "Too long summer review pairs shape: (48, 29)\n"
     ]
    }
   ],
   "source": [
    "long_winter = matched_winter_pairs[(matched_winter_pairs['Text Length1']>2000) | \\\n",
    "                                   (matched_winter_pairs['Text Length2']>2000)]\n",
    "long_summer = matched_summer_pairs[(matched_summer_pairs['Text Length1']>2000) | \\\n",
    "                                   (matched_summer_pairs['Text Length2']>2000)]\n",
    "print('Too long winter review pairs shape: {}'.format(long_winter.shape))\n",
    "print('Too long summer review pairs shape: {}'.format(long_summer.shape))"
   ]
  },
  {
   "cell_type": "markdown",
   "id": "8646c2ac",
   "metadata": {},
   "source": [
    "We will drop too long reviews since there are too big for semantical analyser. As we can see, they make only $93/29229 \\sim 0.31 \\%$ of the pairs."
   ]
  },
  {
   "cell_type": "code",
   "execution_count": 15,
   "id": "cc818395",
   "metadata": {},
   "outputs": [
    {
     "name": "stdout",
     "output_type": "stream",
     "text": [
      "Matched winter review pairs shape after dropping too long texts: (14758, 29)\n",
      "Matched summer review pairs shape after dropping too long texts: (14378, 29)\n"
     ]
    }
   ],
   "source": [
    "matched_winter_pairs = matched_winter_pairs.drop(index = long_winter.index)\n",
    "matched_summer_pairs = matched_summer_pairs.drop(index = long_summer.index)\n",
    "print('Matched winter review pairs shape after dropping too long texts: {}'.format(matched_winter_pairs.shape))\n",
    "print('Matched summer review pairs shape after dropping too long texts: {}'.format(matched_summer_pairs.shape))"
   ]
  },
  {
   "cell_type": "code",
   "execution_count": 16,
   "id": "bca9bc98",
   "metadata": {},
   "outputs": [],
   "source": [
    "# joining 'better' and 'worse' reviews into same column for sentiment analysis\n",
    "winter_row_indices = pd.concat([matched_winter_pairs['Row Index1'], matched_winter_pairs['Row Index2']]).unique()\n",
    "summer_row_indices = pd.concat([matched_summer_pairs['Row Index1'], matched_summer_pairs['Row Index2']]).unique()\n",
    "\n",
    "# all rows for analysis\n",
    "all_row_indices_for_analysis = np.union1d(winter_row_indices, summer_row_indices)"
   ]
  },
  {
   "cell_type": "code",
   "execution_count": 17,
   "id": "45ee6f63",
   "metadata": {},
   "outputs": [
    {
     "name": "stdout",
     "output_type": "stream",
     "text": [
      "Number of winter reviews for sentiment analysis: 22379\n",
      "Number of summer reviews for sentiment analysis: 21780\n",
      "Total number of reviews for sentiment analysis: 44159\n"
     ]
    }
   ],
   "source": [
    "print('Number of winter reviews for sentiment analysis: {}'.format(winter_row_indices.size))\n",
    "print('Number of summer reviews for sentiment analysis: {}'.format(summer_row_indices.size))\n",
    "print('Total number of reviews for sentiment analysis: {}'.format(all_row_indices_for_analysis.size))"
   ]
  },
  {
   "cell_type": "markdown",
   "id": "58587640",
   "metadata": {},
   "source": [
    "### Time and size estimation\n",
    "\n",
    "1 reviews ~ 10 seconds  </br>\n",
    "6 reviews ~ 1 minute   </br>\n",
    "360 reviews ~ 1 hour </br>\n",
    "\n",
    "Therefore, I will separete row indices in batches of size 360. There will be $ceil(44159/360) = 123$ files."
   ]
  },
  {
   "cell_type": "code",
   "execution_count": 22,
   "id": "11a285d7",
   "metadata": {},
   "outputs": [],
   "source": [
    "batch_size = 360\n",
    "file_number = math.ceil(all_row_indices_for_analysis.size/batch_size)\n",
    "batch_folder = './datasets/batches/'"
   ]
  },
  {
   "cell_type": "code",
   "execution_count": 58,
   "id": "906cdd31",
   "metadata": {},
   "outputs": [],
   "source": [
    "matrix = np.split(all_row_indices_for_analysis, range(batch_size, all_row_indices_for_analysis.size, batch_size))"
   ]
  },
  {
   "cell_type": "code",
   "execution_count": 21,
   "id": "9a09d865",
   "metadata": {},
   "outputs": [],
   "source": [
    "# create batch folder\n",
    "Path(batch_folder).mkdir(parents=True, exist_ok=True)\n",
    "\n",
    "# create batches for sentiment analysis\n",
    "for i in range(file_number):\n",
    "    batch = reviews[reviews['Row Index'].isin(matrix[i])][['Row Index', 'Text']]\n",
    "    batch.to_csv(os.path.join(batch_folder, '{}.csv'.format(i)), index=False)"
   ]
  },
  {
   "cell_type": "code",
   "execution_count": 22,
   "id": "e41e2872",
   "metadata": {},
   "outputs": [],
   "source": [
    "# check import export and create a small test sample\n",
    "test = pd.read_csv(os.path.join(batch_folder, '{}.csv'.format(random.randint(0, file_number))))\n",
    "test = test.sample(50)\n",
    "test.to_csv(os.path.join(batch_folder, 'test.csv'), index=False)"
   ]
  },
  {
   "cell_type": "code",
   "execution_count": null,
   "id": "1907a232",
   "metadata": {},
   "outputs": [],
   "source": []
  },
  {
   "cell_type": "markdown",
   "id": "18b12512",
   "metadata": {},
   "source": [
    "### Code for sentiment analysis (used in Google Colab)\n",
    "\n",
    "We are doing sentiment analysis in Google Colab. Because of that we have a separate jupyter notebook **absa_script** for that. Be free to check it out!"
   ]
  },
  {
   "cell_type": "code",
   "execution_count": null,
   "id": "5d244674",
   "metadata": {},
   "outputs": [],
   "source": []
  },
  {
   "cell_type": "code",
   "execution_count": null,
   "id": "e8ba3a7d",
   "metadata": {},
   "outputs": [],
   "source": []
  },
  {
   "cell_type": "code",
   "execution_count": null,
   "id": "53ce26e4",
   "metadata": {},
   "outputs": [],
   "source": []
  },
  {
   "cell_type": "code",
   "execution_count": null,
   "id": "a14ee2d6",
   "metadata": {},
   "outputs": [],
   "source": []
  },
  {
   "cell_type": "markdown",
   "id": "2c8babce",
   "metadata": {},
   "source": [
    "### Additional code for removing too long texts"
   ]
  },
  {
   "cell_type": "code",
   "execution_count": 23,
   "id": "f9134e8c",
   "metadata": {},
   "outputs": [],
   "source": [
    "error2 = pd.read_csv(os.path.join(batch_folder, '{}.csv'.format(107)))"
   ]
  },
  {
   "cell_type": "code",
   "execution_count": 24,
   "id": "32e04937",
   "metadata": {},
   "outputs": [],
   "source": [
    "error2['len'] = error2['Text'].apply(len)"
   ]
  },
  {
   "cell_type": "code",
   "execution_count": 25,
   "id": "737c4b75",
   "metadata": {},
   "outputs": [
    {
     "data": {
      "text/html": [
       "<div>\n",
       "<style scoped>\n",
       "    .dataframe tbody tr th:only-of-type {\n",
       "        vertical-align: middle;\n",
       "    }\n",
       "\n",
       "    .dataframe tbody tr th {\n",
       "        vertical-align: top;\n",
       "    }\n",
       "\n",
       "    .dataframe thead th {\n",
       "        text-align: right;\n",
       "    }\n",
       "</style>\n",
       "<table border=\"1\" class=\"dataframe\">\n",
       "  <thead>\n",
       "    <tr style=\"text-align: right;\">\n",
       "      <th></th>\n",
       "      <th>Row Index</th>\n",
       "      <th>Text</th>\n",
       "      <th>len</th>\n",
       "    </tr>\n",
       "  </thead>\n",
       "  <tbody>\n",
       "    <tr>\n",
       "      <th>92</th>\n",
       "      <td>2262806</td>\n",
       "      <td>Pours a clear golden color with white head. Br...</td>\n",
       "      <td>152</td>\n",
       "    </tr>\n",
       "    <tr>\n",
       "      <th>351</th>\n",
       "      <td>2285622</td>\n",
       "      <td>Aroma is wheaty, grainy, and very grapefruit f...</td>\n",
       "      <td>153</td>\n",
       "    </tr>\n",
       "    <tr>\n",
       "      <th>38</th>\n",
       "      <td>2259862</td>\n",
       "      <td>Nice cherry flavour, not overpowering but unmi...</td>\n",
       "      <td>154</td>\n",
       "    </tr>\n",
       "    <tr>\n",
       "      <th>201</th>\n",
       "      <td>2272880</td>\n",
       "      <td>Nice, murky yellow color.  Smell is clove, ban...</td>\n",
       "      <td>154</td>\n",
       "    </tr>\n",
       "    <tr>\n",
       "      <th>32</th>\n",
       "      <td>2258834</td>\n",
       "      <td>Sampled at Vices &amp;amp; Versa's anniversary, on...</td>\n",
       "      <td>155</td>\n",
       "    </tr>\n",
       "    <tr>\n",
       "      <th>...</th>\n",
       "      <td>...</td>\n",
       "      <td>...</td>\n",
       "      <td>...</td>\n",
       "    </tr>\n",
       "    <tr>\n",
       "      <th>67</th>\n",
       "      <td>2261406</td>\n",
       "      <td>Poured from a 750ml bottle (batch 1 - 02Apr15)...</td>\n",
       "      <td>1492</td>\n",
       "    </tr>\n",
       "    <tr>\n",
       "      <th>291</th>\n",
       "      <td>2281624</td>\n",
       "      <td>Drank from a 12 fl oz. bottleServed in a snift...</td>\n",
       "      <td>1602</td>\n",
       "    </tr>\n",
       "    <tr>\n",
       "      <th>164</th>\n",
       "      <td>2270324</td>\n",
       "      <td>The flip-top bottles of authentic Altbier from...</td>\n",
       "      <td>1824</td>\n",
       "    </tr>\n",
       "    <tr>\n",
       "      <th>158</th>\n",
       "      <td>2270119</td>\n",
       "      <td>Shiner Pale Ale has some golden edging but, on...</td>\n",
       "      <td>1865</td>\n",
       "    </tr>\n",
       "    <tr>\n",
       "      <th>113</th>\n",
       "      <td>2265669</td>\n",
       "      <td>Today (25 Febrewary 2016) is my beerthday &amp;amp...</td>\n",
       "      <td>1870</td>\n",
       "    </tr>\n",
       "  </tbody>\n",
       "</table>\n",
       "<p>359 rows × 3 columns</p>\n",
       "</div>"
      ],
      "text/plain": [
       "     Row Index                                               Text   len\n",
       "92     2262806  Pours a clear golden color with white head. Br...   152\n",
       "351    2285622  Aroma is wheaty, grainy, and very grapefruit f...   153\n",
       "38     2259862  Nice cherry flavour, not overpowering but unmi...   154\n",
       "201    2272880  Nice, murky yellow color.  Smell is clove, ban...   154\n",
       "32     2258834  Sampled at Vices &amp; Versa's anniversary, on...   155\n",
       "..         ...                                                ...   ...\n",
       "67     2261406  Poured from a 750ml bottle (batch 1 - 02Apr15)...  1492\n",
       "291    2281624  Drank from a 12 fl oz. bottleServed in a snift...  1602\n",
       "164    2270324  The flip-top bottles of authentic Altbier from...  1824\n",
       "158    2270119  Shiner Pale Ale has some golden edging but, on...  1865\n",
       "113    2265669  Today (25 Febrewary 2016) is my beerthday &amp...  1870\n",
       "\n",
       "[359 rows x 3 columns]"
      ]
     },
     "execution_count": 25,
     "metadata": {},
     "output_type": "execute_result"
    }
   ],
   "source": [
    "error2.sort_values('len')"
   ]
  },
  {
   "cell_type": "code",
   "execution_count": 28,
   "id": "b88946b6",
   "metadata": {},
   "outputs": [],
   "source": [
    "error2 = error2.drop(index=158)"
   ]
  },
  {
   "cell_type": "code",
   "execution_count": 29,
   "id": "d202ede5",
   "metadata": {},
   "outputs": [
    {
     "data": {
      "text/html": [
       "<div>\n",
       "<style scoped>\n",
       "    .dataframe tbody tr th:only-of-type {\n",
       "        vertical-align: middle;\n",
       "    }\n",
       "\n",
       "    .dataframe tbody tr th {\n",
       "        vertical-align: top;\n",
       "    }\n",
       "\n",
       "    .dataframe thead th {\n",
       "        text-align: right;\n",
       "    }\n",
       "</style>\n",
       "<table border=\"1\" class=\"dataframe\">\n",
       "  <thead>\n",
       "    <tr style=\"text-align: right;\">\n",
       "      <th></th>\n",
       "      <th>Row Index</th>\n",
       "      <th>Text</th>\n",
       "      <th>len</th>\n",
       "    </tr>\n",
       "  </thead>\n",
       "  <tbody>\n",
       "    <tr>\n",
       "      <th>92</th>\n",
       "      <td>2262806</td>\n",
       "      <td>Pours a clear golden color with white head. Br...</td>\n",
       "      <td>152</td>\n",
       "    </tr>\n",
       "    <tr>\n",
       "      <th>351</th>\n",
       "      <td>2285622</td>\n",
       "      <td>Aroma is wheaty, grainy, and very grapefruit f...</td>\n",
       "      <td>153</td>\n",
       "    </tr>\n",
       "    <tr>\n",
       "      <th>201</th>\n",
       "      <td>2272880</td>\n",
       "      <td>Nice, murky yellow color.  Smell is clove, ban...</td>\n",
       "      <td>154</td>\n",
       "    </tr>\n",
       "    <tr>\n",
       "      <th>38</th>\n",
       "      <td>2259862</td>\n",
       "      <td>Nice cherry flavour, not overpowering but unmi...</td>\n",
       "      <td>154</td>\n",
       "    </tr>\n",
       "    <tr>\n",
       "      <th>32</th>\n",
       "      <td>2258834</td>\n",
       "      <td>Sampled at Vices &amp;amp; Versa's anniversary, on...</td>\n",
       "      <td>155</td>\n",
       "    </tr>\n",
       "    <tr>\n",
       "      <th>...</th>\n",
       "      <td>...</td>\n",
       "      <td>...</td>\n",
       "      <td>...</td>\n",
       "    </tr>\n",
       "    <tr>\n",
       "      <th>272</th>\n",
       "      <td>2279398</td>\n",
       "      <td>12oz bottle.  I can't say that I've ever looke...</td>\n",
       "      <td>1365</td>\n",
       "    </tr>\n",
       "    <tr>\n",
       "      <th>240</th>\n",
       "      <td>2275892</td>\n",
       "      <td>355ml can, the Canadian version distributed by...</td>\n",
       "      <td>1479</td>\n",
       "    </tr>\n",
       "    <tr>\n",
       "      <th>67</th>\n",
       "      <td>2261406</td>\n",
       "      <td>Poured from a 750ml bottle (batch 1 - 02Apr15)...</td>\n",
       "      <td>1492</td>\n",
       "    </tr>\n",
       "    <tr>\n",
       "      <th>291</th>\n",
       "      <td>2281624</td>\n",
       "      <td>Drank from a 12 fl oz. bottleServed in a snift...</td>\n",
       "      <td>1602</td>\n",
       "    </tr>\n",
       "    <tr>\n",
       "      <th>164</th>\n",
       "      <td>2270324</td>\n",
       "      <td>The flip-top bottles of authentic Altbier from...</td>\n",
       "      <td>1824</td>\n",
       "    </tr>\n",
       "  </tbody>\n",
       "</table>\n",
       "<p>357 rows × 3 columns</p>\n",
       "</div>"
      ],
      "text/plain": [
       "     Row Index                                               Text   len\n",
       "92     2262806  Pours a clear golden color with white head. Br...   152\n",
       "351    2285622  Aroma is wheaty, grainy, and very grapefruit f...   153\n",
       "201    2272880  Nice, murky yellow color.  Smell is clove, ban...   154\n",
       "38     2259862  Nice cherry flavour, not overpowering but unmi...   154\n",
       "32     2258834  Sampled at Vices &amp; Versa's anniversary, on...   155\n",
       "..         ...                                                ...   ...\n",
       "272    2279398  12oz bottle.  I can't say that I've ever looke...  1365\n",
       "240    2275892  355ml can, the Canadian version distributed by...  1479\n",
       "67     2261406  Poured from a 750ml bottle (batch 1 - 02Apr15)...  1492\n",
       "291    2281624  Drank from a 12 fl oz. bottleServed in a snift...  1602\n",
       "164    2270324  The flip-top bottles of authentic Altbier from...  1824\n",
       "\n",
       "[357 rows x 3 columns]"
      ]
     },
     "execution_count": 29,
     "metadata": {},
     "output_type": "execute_result"
    }
   ],
   "source": [
    "error2.sort_values('len')"
   ]
  },
  {
   "cell_type": "code",
   "execution_count": 30,
   "id": "c574a2b7",
   "metadata": {},
   "outputs": [],
   "source": [
    "error2[['Row Index','Text']].to_csv(os.path.join(batch_folder, '107.csv'), index=False)"
   ]
  },
  {
   "cell_type": "code",
   "execution_count": null,
   "id": "cb913b7e",
   "metadata": {},
   "outputs": [],
   "source": []
  },
  {
   "cell_type": "markdown",
   "id": "3ab06e79",
   "metadata": {},
   "source": [
    "### Seeing the results"
   ]
  },
  {
   "cell_type": "code",
   "execution_count": 82,
   "id": "185c25f7",
   "metadata": {},
   "outputs": [],
   "source": [
    "file_number = 123\n",
    "results_folder = './datasets/results/'"
   ]
  },
  {
   "cell_type": "code",
   "execution_count": 83,
   "id": "9c6711cf",
   "metadata": {
    "scrolled": true
   },
   "outputs": [],
   "source": [
    "results = pd.DataFrame()\n",
    "for i in range(file_number):\n",
    "    batch_res = pd.read_csv(os.path.join(results_folder, '{}_done.csv'.format(i)))\n",
    "    results = pd.concat([results, batch_res], ignore_index=True)"
   ]
  },
  {
   "cell_type": "code",
   "execution_count": 84,
   "id": "6fe6a440",
   "metadata": {},
   "outputs": [
    {
     "data": {
      "text/plain": [
       "(44155, 14)"
      ]
     },
     "execution_count": 84,
     "metadata": {},
     "output_type": "execute_result"
    }
   ],
   "source": [
    "results.shape"
   ]
  },
  {
   "cell_type": "code",
   "execution_count": 85,
   "id": "d72743be",
   "metadata": {},
   "outputs": [
    {
     "data": {
      "text/html": [
       "<div>\n",
       "<style scoped>\n",
       "    .dataframe tbody tr th:only-of-type {\n",
       "        vertical-align: middle;\n",
       "    }\n",
       "\n",
       "    .dataframe tbody tr th {\n",
       "        vertical-align: top;\n",
       "    }\n",
       "\n",
       "    .dataframe thead th {\n",
       "        text-align: right;\n",
       "    }\n",
       "</style>\n",
       "<table border=\"1\" class=\"dataframe\">\n",
       "  <thead>\n",
       "    <tr style=\"text-align: right;\">\n",
       "      <th></th>\n",
       "      <th>Row Index</th>\n",
       "      <th>Text</th>\n",
       "      <th>Appearance Positive</th>\n",
       "      <th>Appearance Neutral</th>\n",
       "      <th>Appearance Negative</th>\n",
       "      <th>Aroma Positive</th>\n",
       "      <th>Aroma Neutral</th>\n",
       "      <th>Aroma Negative</th>\n",
       "      <th>Palate Positive</th>\n",
       "      <th>Palate Neutral</th>\n",
       "      <th>Palate Negative</th>\n",
       "      <th>Taste Positive</th>\n",
       "      <th>Taste Neutral</th>\n",
       "      <th>Taste Negative</th>\n",
       "    </tr>\n",
       "  </thead>\n",
       "  <tbody>\n",
       "    <tr>\n",
       "      <th>0</th>\n",
       "      <td>216</td>\n",
       "      <td>Poured from a bottle into a Bull &amp;amp; Castle ...</td>\n",
       "      <td>0.974481</td>\n",
       "      <td>0.005291</td>\n",
       "      <td>0.020228</td>\n",
       "      <td>0.982895</td>\n",
       "      <td>0.002254</td>\n",
       "      <td>0.014850</td>\n",
       "      <td>0.710195</td>\n",
       "      <td>0.022451</td>\n",
       "      <td>0.267354</td>\n",
       "      <td>0.633389</td>\n",
       "      <td>0.021023</td>\n",
       "      <td>0.345588</td>\n",
       "    </tr>\n",
       "    <tr>\n",
       "      <th>1</th>\n",
       "      <td>292</td>\n",
       "      <td>On tap at the brewery, Belfast. Hazy blonde wi...</td>\n",
       "      <td>0.593674</td>\n",
       "      <td>0.215933</td>\n",
       "      <td>0.190393</td>\n",
       "      <td>0.493198</td>\n",
       "      <td>0.191977</td>\n",
       "      <td>0.314825</td>\n",
       "      <td>0.648823</td>\n",
       "      <td>0.206792</td>\n",
       "      <td>0.144386</td>\n",
       "      <td>0.502106</td>\n",
       "      <td>0.292476</td>\n",
       "      <td>0.205419</td>\n",
       "    </tr>\n",
       "    <tr>\n",
       "      <th>2</th>\n",
       "      <td>298</td>\n",
       "      <td>Poured from the bottle. The beer was a solid, ...</td>\n",
       "      <td>0.427067</td>\n",
       "      <td>0.377558</td>\n",
       "      <td>0.195375</td>\n",
       "      <td>0.702528</td>\n",
       "      <td>0.127771</td>\n",
       "      <td>0.169701</td>\n",
       "      <td>0.285166</td>\n",
       "      <td>0.687439</td>\n",
       "      <td>0.027395</td>\n",
       "      <td>0.994922</td>\n",
       "      <td>0.003798</td>\n",
       "      <td>0.001280</td>\n",
       "    </tr>\n",
       "    <tr>\n",
       "      <th>3</th>\n",
       "      <td>343</td>\n",
       "      <td>500ml bottle from Reilly's, Lisnaskea (£2.29):...</td>\n",
       "      <td>0.651201</td>\n",
       "      <td>0.049745</td>\n",
       "      <td>0.299054</td>\n",
       "      <td>0.911328</td>\n",
       "      <td>0.012691</td>\n",
       "      <td>0.075981</td>\n",
       "      <td>0.600418</td>\n",
       "      <td>0.066736</td>\n",
       "      <td>0.332846</td>\n",
       "      <td>0.583243</td>\n",
       "      <td>0.046122</td>\n",
       "      <td>0.370635</td>\n",
       "    </tr>\n",
       "    <tr>\n",
       "      <th>4</th>\n",
       "      <td>348</td>\n",
       "      <td>Look: pale straw, a little murky, generous foa...</td>\n",
       "      <td>0.941425</td>\n",
       "      <td>0.023591</td>\n",
       "      <td>0.034984</td>\n",
       "      <td>0.998509</td>\n",
       "      <td>0.000367</td>\n",
       "      <td>0.001124</td>\n",
       "      <td>0.918099</td>\n",
       "      <td>0.031206</td>\n",
       "      <td>0.050695</td>\n",
       "      <td>0.881918</td>\n",
       "      <td>0.042310</td>\n",
       "      <td>0.075772</td>\n",
       "    </tr>\n",
       "  </tbody>\n",
       "</table>\n",
       "</div>"
      ],
      "text/plain": [
       "   Row Index                                               Text  \\\n",
       "0        216  Poured from a bottle into a Bull &amp; Castle ...   \n",
       "1        292  On tap at the brewery, Belfast. Hazy blonde wi...   \n",
       "2        298  Poured from the bottle. The beer was a solid, ...   \n",
       "3        343  500ml bottle from Reilly's, Lisnaskea (£2.29):...   \n",
       "4        348  Look: pale straw, a little murky, generous foa...   \n",
       "\n",
       "   Appearance Positive  Appearance Neutral  Appearance Negative  \\\n",
       "0             0.974481            0.005291             0.020228   \n",
       "1             0.593674            0.215933             0.190393   \n",
       "2             0.427067            0.377558             0.195375   \n",
       "3             0.651201            0.049745             0.299054   \n",
       "4             0.941425            0.023591             0.034984   \n",
       "\n",
       "   Aroma Positive  Aroma Neutral  Aroma Negative  Palate Positive  \\\n",
       "0        0.982895       0.002254        0.014850         0.710195   \n",
       "1        0.493198       0.191977        0.314825         0.648823   \n",
       "2        0.702528       0.127771        0.169701         0.285166   \n",
       "3        0.911328       0.012691        0.075981         0.600418   \n",
       "4        0.998509       0.000367        0.001124         0.918099   \n",
       "\n",
       "   Palate Neutral  Palate Negative  Taste Positive  Taste Neutral  \\\n",
       "0        0.022451         0.267354        0.633389       0.021023   \n",
       "1        0.206792         0.144386        0.502106       0.292476   \n",
       "2        0.687439         0.027395        0.994922       0.003798   \n",
       "3        0.066736         0.332846        0.583243       0.046122   \n",
       "4        0.031206         0.050695        0.881918       0.042310   \n",
       "\n",
       "   Taste Negative  \n",
       "0        0.345588  \n",
       "1        0.205419  \n",
       "2        0.001280  \n",
       "3        0.370635  \n",
       "4        0.075772  "
      ]
     },
     "execution_count": 85,
     "metadata": {},
     "output_type": "execute_result"
    }
   ],
   "source": [
    "results.head()"
   ]
  },
  {
   "cell_type": "code",
   "execution_count": 86,
   "id": "2c59a3a6",
   "metadata": {},
   "outputs": [],
   "source": [
    "results.to_csv(os.path.join(results_folder, 'results_aggregated.csv'), index=False)"
   ]
  },
  {
   "cell_type": "code",
   "execution_count": null,
   "id": "ad2a0e4c",
   "metadata": {},
   "outputs": [],
   "source": []
  }
 ],
 "metadata": {
  "kernelspec": {
   "display_name": "Python 3 (ipykernel)",
   "language": "python",
   "name": "python3"
  },
  "language_info": {
   "codemirror_mode": {
    "name": "ipython",
    "version": 3
   },
   "file_extension": ".py",
   "mimetype": "text/x-python",
   "name": "python",
   "nbconvert_exporter": "python",
   "pygments_lexer": "ipython3",
   "version": "3.9.12"
  }
 },
 "nbformat": 4,
 "nbformat_minor": 5
}
