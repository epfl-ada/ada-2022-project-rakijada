{
 "cells": [
  {
   "cell_type": "code",
   "execution_count": 1,
   "id": "b7df75b3-fdd9-43dc-9f88-6b1a72773461",
   "metadata": {},
   "outputs": [],
   "source": [
    "import pandas as pd\n",
    "import numpy as np\n",
    "import os.path"
   ]
  },
  {
   "cell_type": "code",
   "execution_count": 2,
   "id": "2965bf95-97cd-4344-af27-10dcf2a6cfeb",
   "metadata": {},
   "outputs": [],
   "source": [
    "DATAFOLDER = './datasets/results'"
   ]
  },
  {
   "cell_type": "code",
   "execution_count": 3,
   "id": "9b9855ab-eb80-4066-bf4c-8f3125e9d126",
   "metadata": {},
   "outputs": [],
   "source": [
    "summer_pairs = pd.read_csv(os.path.join(DATAFOLDER, 'summer_pairs.csv'))\n",
    "winter_pairs = pd.read_csv(os.path.join(DATAFOLDER, 'winter_pairs.csv'))\n",
    "autumn_pairs = pd.read_csv(os.path.join(DATAFOLDER, 'autumn_pairs.csv'))\n",
    "spring_pairs = pd.read_csv(os.path.join(DATAFOLDER, 'spring_pairs.csv'))"
   ]
  },
  {
   "cell_type": "code",
   "execution_count": 4,
   "id": "9c642c6d-294e-4e89-b1b9-de04ebfdbb2a",
   "metadata": {},
   "outputs": [
    {
     "name": "stdout",
     "output_type": "stream",
     "text": [
      "Number of summer pairs: 14375\n",
      "Number of winter pairs: 14757\n",
      "Number of autumn pairs: 13591\n",
      "Number of spring pairs: 19234\n"
     ]
    }
   ],
   "source": [
    "print('Number of summer pairs: {}'.format(len(summer_pairs)))\n",
    "print('Number of winter pairs: {}'.format(len(winter_pairs)))\n",
    "print('Number of autumn pairs: {}'.format(len(autumn_pairs)))\n",
    "print('Number of spring pairs: {}'.format(len(spring_pairs)))"
   ]
  },
  {
   "cell_type": "code",
   "execution_count": 5,
   "id": "b0c672df-1992-42de-9477-5e182cb4d6d4",
   "metadata": {},
   "outputs": [
    {
     "data": {
      "text/html": [
       "<div>\n",
       "<style scoped>\n",
       "    .dataframe tbody tr th:only-of-type {\n",
       "        vertical-align: middle;\n",
       "    }\n",
       "\n",
       "    .dataframe tbody tr th {\n",
       "        vertical-align: top;\n",
       "    }\n",
       "\n",
       "    .dataframe thead th {\n",
       "        text-align: right;\n",
       "    }\n",
       "</style>\n",
       "<table border=\"1\" class=\"dataframe\">\n",
       "  <thead>\n",
       "    <tr style=\"text-align: right;\">\n",
       "      <th></th>\n",
       "      <th>Beer Id1</th>\n",
       "      <th>Brewery Id1</th>\n",
       "      <th>Style</th>\n",
       "      <th>Abv</th>\n",
       "      <th>Date1</th>\n",
       "      <th>User Id</th>\n",
       "      <th>Appearance1</th>\n",
       "      <th>Aroma1</th>\n",
       "      <th>Palate1</th>\n",
       "      <th>Taste1</th>\n",
       "      <th>...</th>\n",
       "      <th>Palate Positive2</th>\n",
       "      <th>Palate Neutral2</th>\n",
       "      <th>Palate Negative2</th>\n",
       "      <th>Taste Positive2</th>\n",
       "      <th>Taste Neutral2</th>\n",
       "      <th>Taste Negative2</th>\n",
       "      <th>Month1</th>\n",
       "      <th>Month2</th>\n",
       "      <th>Text Length1</th>\n",
       "      <th>Text Length2</th>\n",
       "    </tr>\n",
       "  </thead>\n",
       "  <tbody>\n",
       "    <tr>\n",
       "      <th>0</th>\n",
       "      <td>4720</td>\n",
       "      <td>323</td>\n",
       "      <td>English Pale Ale</td>\n",
       "      <td>4.2</td>\n",
       "      <td>2011-07-31 12:00:00</td>\n",
       "      <td>flyingpig.524986</td>\n",
       "      <td>4.00</td>\n",
       "      <td>3.50</td>\n",
       "      <td>4.00</td>\n",
       "      <td>4.0</td>\n",
       "      <td>...</td>\n",
       "      <td>0.600418</td>\n",
       "      <td>0.066736</td>\n",
       "      <td>0.332846</td>\n",
       "      <td>0.583243</td>\n",
       "      <td>0.046122</td>\n",
       "      <td>0.370635</td>\n",
       "      <td>7</td>\n",
       "      <td>8</td>\n",
       "      <td>813</td>\n",
       "      <td>720</td>\n",
       "    </tr>\n",
       "    <tr>\n",
       "      <th>1</th>\n",
       "      <td>1166</td>\n",
       "      <td>71</td>\n",
       "      <td>English Pale Ale</td>\n",
       "      <td>5.0</td>\n",
       "      <td>2012-09-14 12:00:00</td>\n",
       "      <td>bark.4217</td>\n",
       "      <td>4.00</td>\n",
       "      <td>3.50</td>\n",
       "      <td>3.00</td>\n",
       "      <td>4.0</td>\n",
       "      <td>...</td>\n",
       "      <td>0.642493</td>\n",
       "      <td>0.272138</td>\n",
       "      <td>0.085369</td>\n",
       "      <td>0.942808</td>\n",
       "      <td>0.028565</td>\n",
       "      <td>0.028627</td>\n",
       "      <td>9</td>\n",
       "      <td>9</td>\n",
       "      <td>726</td>\n",
       "      <td>774</td>\n",
       "    </tr>\n",
       "    <tr>\n",
       "      <th>2</th>\n",
       "      <td>99005</td>\n",
       "      <td>23394</td>\n",
       "      <td>Euro Pale Lager</td>\n",
       "      <td>5.0</td>\n",
       "      <td>2013-09-06 12:00:00</td>\n",
       "      <td>blackhaddock.90923</td>\n",
       "      <td>3.25</td>\n",
       "      <td>3.25</td>\n",
       "      <td>3.25</td>\n",
       "      <td>3.5</td>\n",
       "      <td>...</td>\n",
       "      <td>0.045273</td>\n",
       "      <td>0.086728</td>\n",
       "      <td>0.868000</td>\n",
       "      <td>0.305613</td>\n",
       "      <td>0.220263</td>\n",
       "      <td>0.474125</td>\n",
       "      <td>9</td>\n",
       "      <td>7</td>\n",
       "      <td>759</td>\n",
       "      <td>669</td>\n",
       "    </tr>\n",
       "    <tr>\n",
       "      <th>3</th>\n",
       "      <td>99005</td>\n",
       "      <td>23394</td>\n",
       "      <td>Euro Pale Lager</td>\n",
       "      <td>5.0</td>\n",
       "      <td>2013-09-06 12:00:00</td>\n",
       "      <td>blackhaddock.90923</td>\n",
       "      <td>3.25</td>\n",
       "      <td>3.25</td>\n",
       "      <td>3.25</td>\n",
       "      <td>3.5</td>\n",
       "      <td>...</td>\n",
       "      <td>0.470252</td>\n",
       "      <td>0.159512</td>\n",
       "      <td>0.370236</td>\n",
       "      <td>0.025083</td>\n",
       "      <td>0.032215</td>\n",
       "      <td>0.942701</td>\n",
       "      <td>9</td>\n",
       "      <td>8</td>\n",
       "      <td>759</td>\n",
       "      <td>760</td>\n",
       "    </tr>\n",
       "    <tr>\n",
       "      <th>4</th>\n",
       "      <td>99123</td>\n",
       "      <td>8412</td>\n",
       "      <td>English Bitter</td>\n",
       "      <td>5.0</td>\n",
       "      <td>2013-09-08 12:00:00</td>\n",
       "      <td>blackhaddock.90923</td>\n",
       "      <td>3.50</td>\n",
       "      <td>3.25</td>\n",
       "      <td>3.25</td>\n",
       "      <td>3.5</td>\n",
       "      <td>...</td>\n",
       "      <td>0.038635</td>\n",
       "      <td>0.045161</td>\n",
       "      <td>0.916204</td>\n",
       "      <td>0.010040</td>\n",
       "      <td>0.005884</td>\n",
       "      <td>0.984076</td>\n",
       "      <td>9</td>\n",
       "      <td>8</td>\n",
       "      <td>415</td>\n",
       "      <td>364</td>\n",
       "    </tr>\n",
       "  </tbody>\n",
       "</table>\n",
       "<p>5 rows × 53 columns</p>\n",
       "</div>"
      ],
      "text/plain": [
       "   Beer Id1  Brewery Id1             Style  Abv                Date1  \\\n",
       "0      4720          323  English Pale Ale  4.2  2011-07-31 12:00:00   \n",
       "1      1166           71  English Pale Ale  5.0  2012-09-14 12:00:00   \n",
       "2     99005        23394   Euro Pale Lager  5.0  2013-09-06 12:00:00   \n",
       "3     99005        23394   Euro Pale Lager  5.0  2013-09-06 12:00:00   \n",
       "4     99123         8412    English Bitter  5.0  2013-09-08 12:00:00   \n",
       "\n",
       "              User Id  Appearance1  Aroma1  Palate1  Taste1  ...  \\\n",
       "0    flyingpig.524986         4.00    3.50     4.00     4.0  ...   \n",
       "1           bark.4217         4.00    3.50     3.00     4.0  ...   \n",
       "2  blackhaddock.90923         3.25    3.25     3.25     3.5  ...   \n",
       "3  blackhaddock.90923         3.25    3.25     3.25     3.5  ...   \n",
       "4  blackhaddock.90923         3.50    3.25     3.25     3.5  ...   \n",
       "\n",
       "   Palate Positive2  Palate Neutral2 Palate Negative2  Taste Positive2  \\\n",
       "0          0.600418         0.066736         0.332846         0.583243   \n",
       "1          0.642493         0.272138         0.085369         0.942808   \n",
       "2          0.045273         0.086728         0.868000         0.305613   \n",
       "3          0.470252         0.159512         0.370236         0.025083   \n",
       "4          0.038635         0.045161         0.916204         0.010040   \n",
       "\n",
       "   Taste Neutral2  Taste Negative2  Month1  Month2  Text Length1  Text Length2  \n",
       "0        0.046122         0.370635       7       8           813           720  \n",
       "1        0.028565         0.028627       9       9           726           774  \n",
       "2        0.220263         0.474125       9       7           759           669  \n",
       "3        0.032215         0.942701       9       8           759           760  \n",
       "4        0.005884         0.984076       9       8           415           364  \n",
       "\n",
       "[5 rows x 53 columns]"
      ]
     },
     "execution_count": 5,
     "metadata": {},
     "output_type": "execute_result"
    }
   ],
   "source": [
    "summer_pairs.head()"
   ]
  },
  {
   "cell_type": "code",
   "execution_count": 6,
   "id": "70dc6b03-25ce-4ab7-a200-53a102b440ec",
   "metadata": {},
   "outputs": [],
   "source": [
    "features = ['Appearance Positive1', 'Appearance Negative1', 'Appearance Neutral1',\\\n",
    "            'Appearance Positive2', 'Appearance Negative2', 'Appearance Neutral2',\\\n",
    "            'Aroma Positive1', 'Aroma Negative1', 'Aroma Neutral1',\\\n",
    "            'Aroma Positive2', 'Aroma Negative2', 'Aroma Neutral2',\\\n",
    "            'Palate Positive1', 'Palate Negative1', 'Palate Neutral1',\\\n",
    "            'Palate Positive2', 'Palate Negative2', 'Palate Neutral2',\\\n",
    "            'Taste Positive1', 'Taste Negative1', 'Taste Neutral1',\\\n",
    "            'Taste Positive2', 'Taste Negative2', 'Taste Neutral2'\n",
    "           ]"
   ]
  },
  {
   "cell_type": "code",
   "execution_count": 7,
   "id": "ef79fe9a-d4a4-4af5-a8fd-82707375ab9d",
   "metadata": {},
   "outputs": [],
   "source": [
    "thresh = 0.9\n",
    "\n",
    "for feature in features:\n",
    "    summer_pairs[feature + '_ind'] = 1*(summer_pairs[feature] > thresh)\n",
    "    winter_pairs[feature + '_ind'] = 1*(winter_pairs[feature] > thresh)\n",
    "    autumn_pairs[feature + '_ind'] = 1*(autumn_pairs[feature] > thresh)\n",
    "    spring_pairs[feature + '_ind'] = 1*(spring_pairs[feature] > thresh)"
   ]
  },
  {
   "cell_type": "code",
   "execution_count": 8,
   "id": "e2a60a52-f007-4da7-b4e3-b749c8051469",
   "metadata": {},
   "outputs": [],
   "source": [
    "effects = [\n",
    "    'Appearance Positive', 'Appearance Negative', 'Appearance Neutral',\\\n",
    "    'Aroma Positive', 'Aroma Negative', 'Aroma Neutral',\\\n",
    "    'Palate Positive', 'Palate Negative', 'Palate Neutral',\\\n",
    "    'Taste Positive', 'Taste Negative', 'Taste Neutral'\n",
    "]\n",
    "\n",
    "summer_effects = []\n",
    "winter_effects = []\n",
    "autumn_effects = []\n",
    "spring_effects = []\n",
    "for effect in effects:\n",
    "    summer_effects.append(summer_pairs[effect + '1_ind'] - summer_pairs[effect + '2_ind'])\n",
    "    winter_effects.append(winter_pairs[effect + '1_ind'] - winter_pairs[effect + '2_ind'])\n",
    "    autumn_effects.append(autumn_pairs[effect + '1_ind'] - autumn_pairs[effect + '2_ind'])\n",
    "    spring_effects.append(spring_pairs[effect + '1_ind'] - spring_pairs[effect + '2_ind'])"
   ]
  },
  {
   "cell_type": "code",
   "execution_count": 9,
   "id": "9576d2d8-811d-4c56-a588-01ea7f876adf",
   "metadata": {},
   "outputs": [],
   "source": [
    "summer_effects = pd.DataFrame( dict(zip(effects, summer_effects)) )\n",
    "winter_effects = pd.DataFrame( dict(zip(effects, winter_effects)) )\n",
    "autumn_effects = pd.DataFrame( dict(zip(effects, autumn_effects)) )\n",
    "spring_effects = pd.DataFrame( dict(zip(effects, spring_effects)) )"
   ]
  },
  {
   "cell_type": "code",
   "execution_count": 10,
   "id": "66107792-b9a8-4d1c-af96-21664f5608a6",
   "metadata": {},
   "outputs": [
    {
     "data": {
      "text/html": [
       "<div>\n",
       "<style scoped>\n",
       "    .dataframe tbody tr th:only-of-type {\n",
       "        vertical-align: middle;\n",
       "    }\n",
       "\n",
       "    .dataframe tbody tr th {\n",
       "        vertical-align: top;\n",
       "    }\n",
       "\n",
       "    .dataframe thead th {\n",
       "        text-align: right;\n",
       "    }\n",
       "</style>\n",
       "<table border=\"1\" class=\"dataframe\">\n",
       "  <thead>\n",
       "    <tr style=\"text-align: right;\">\n",
       "      <th></th>\n",
       "      <th>Appearance Positive</th>\n",
       "      <th>Appearance Negative</th>\n",
       "      <th>Appearance Neutral</th>\n",
       "      <th>Aroma Positive</th>\n",
       "      <th>Aroma Negative</th>\n",
       "      <th>Aroma Neutral</th>\n",
       "      <th>Palate Positive</th>\n",
       "      <th>Palate Negative</th>\n",
       "      <th>Palate Neutral</th>\n",
       "      <th>Taste Positive</th>\n",
       "      <th>Taste Negative</th>\n",
       "      <th>Taste Neutral</th>\n",
       "    </tr>\n",
       "  </thead>\n",
       "  <tbody>\n",
       "    <tr>\n",
       "      <th>0</th>\n",
       "      <td>1</td>\n",
       "      <td>0</td>\n",
       "      <td>0</td>\n",
       "      <td>0</td>\n",
       "      <td>0</td>\n",
       "      <td>0</td>\n",
       "      <td>1</td>\n",
       "      <td>0</td>\n",
       "      <td>0</td>\n",
       "      <td>1</td>\n",
       "      <td>0</td>\n",
       "      <td>0</td>\n",
       "    </tr>\n",
       "    <tr>\n",
       "      <th>1</th>\n",
       "      <td>1</td>\n",
       "      <td>0</td>\n",
       "      <td>0</td>\n",
       "      <td>0</td>\n",
       "      <td>0</td>\n",
       "      <td>0</td>\n",
       "      <td>1</td>\n",
       "      <td>0</td>\n",
       "      <td>0</td>\n",
       "      <td>0</td>\n",
       "      <td>0</td>\n",
       "      <td>0</td>\n",
       "    </tr>\n",
       "    <tr>\n",
       "      <th>2</th>\n",
       "      <td>0</td>\n",
       "      <td>0</td>\n",
       "      <td>0</td>\n",
       "      <td>-1</td>\n",
       "      <td>0</td>\n",
       "      <td>0</td>\n",
       "      <td>0</td>\n",
       "      <td>0</td>\n",
       "      <td>0</td>\n",
       "      <td>0</td>\n",
       "      <td>0</td>\n",
       "      <td>0</td>\n",
       "    </tr>\n",
       "    <tr>\n",
       "      <th>3</th>\n",
       "      <td>0</td>\n",
       "      <td>0</td>\n",
       "      <td>0</td>\n",
       "      <td>0</td>\n",
       "      <td>-1</td>\n",
       "      <td>0</td>\n",
       "      <td>0</td>\n",
       "      <td>0</td>\n",
       "      <td>0</td>\n",
       "      <td>0</td>\n",
       "      <td>-1</td>\n",
       "      <td>0</td>\n",
       "    </tr>\n",
       "    <tr>\n",
       "      <th>4</th>\n",
       "      <td>1</td>\n",
       "      <td>0</td>\n",
       "      <td>0</td>\n",
       "      <td>1</td>\n",
       "      <td>-1</td>\n",
       "      <td>0</td>\n",
       "      <td>0</td>\n",
       "      <td>-1</td>\n",
       "      <td>0</td>\n",
       "      <td>1</td>\n",
       "      <td>-1</td>\n",
       "      <td>0</td>\n",
       "    </tr>\n",
       "  </tbody>\n",
       "</table>\n",
       "</div>"
      ],
      "text/plain": [
       "   Appearance Positive  Appearance Negative  Appearance Neutral  \\\n",
       "0                    1                    0                   0   \n",
       "1                    1                    0                   0   \n",
       "2                    0                    0                   0   \n",
       "3                    0                    0                   0   \n",
       "4                    1                    0                   0   \n",
       "\n",
       "   Aroma Positive  Aroma Negative  Aroma Neutral  Palate Positive  \\\n",
       "0               0               0              0                1   \n",
       "1               0               0              0                1   \n",
       "2              -1               0              0                0   \n",
       "3               0              -1              0                0   \n",
       "4               1              -1              0                0   \n",
       "\n",
       "   Palate Negative  Palate Neutral  Taste Positive  Taste Negative  \\\n",
       "0                0               0               1               0   \n",
       "1                0               0               0               0   \n",
       "2                0               0               0               0   \n",
       "3                0               0               0              -1   \n",
       "4               -1               0               1              -1   \n",
       "\n",
       "   Taste Neutral  \n",
       "0              0  \n",
       "1              0  \n",
       "2              0  \n",
       "3              0  \n",
       "4              0  "
      ]
     },
     "execution_count": 10,
     "metadata": {},
     "output_type": "execute_result"
    }
   ],
   "source": [
    "summer_effects.head()"
   ]
  },
  {
   "cell_type": "code",
   "execution_count": 11,
   "id": "d0412a65-c29f-4936-8817-b30496b590ca",
   "metadata": {},
   "outputs": [
    {
     "data": {
      "text/html": [
       "<div>\n",
       "<style scoped>\n",
       "    .dataframe tbody tr th:only-of-type {\n",
       "        vertical-align: middle;\n",
       "    }\n",
       "\n",
       "    .dataframe tbody tr th {\n",
       "        vertical-align: top;\n",
       "    }\n",
       "\n",
       "    .dataframe thead th {\n",
       "        text-align: right;\n",
       "    }\n",
       "</style>\n",
       "<table border=\"1\" class=\"dataframe\">\n",
       "  <thead>\n",
       "    <tr style=\"text-align: right;\">\n",
       "      <th></th>\n",
       "      <th>Appearance Positive</th>\n",
       "      <th>Appearance Negative</th>\n",
       "      <th>Appearance Neutral</th>\n",
       "      <th>Aroma Positive</th>\n",
       "      <th>Aroma Negative</th>\n",
       "      <th>Aroma Neutral</th>\n",
       "      <th>Palate Positive</th>\n",
       "      <th>Palate Negative</th>\n",
       "      <th>Palate Neutral</th>\n",
       "      <th>Taste Positive</th>\n",
       "      <th>Taste Negative</th>\n",
       "      <th>Taste Neutral</th>\n",
       "    </tr>\n",
       "  </thead>\n",
       "  <tbody>\n",
       "    <tr>\n",
       "      <th>0</th>\n",
       "      <td>1</td>\n",
       "      <td>-1</td>\n",
       "      <td>0</td>\n",
       "      <td>1</td>\n",
       "      <td>0</td>\n",
       "      <td>0</td>\n",
       "      <td>0</td>\n",
       "      <td>-1</td>\n",
       "      <td>0</td>\n",
       "      <td>0</td>\n",
       "      <td>-1</td>\n",
       "      <td>0</td>\n",
       "    </tr>\n",
       "    <tr>\n",
       "      <th>1</th>\n",
       "      <td>0</td>\n",
       "      <td>0</td>\n",
       "      <td>0</td>\n",
       "      <td>0</td>\n",
       "      <td>0</td>\n",
       "      <td>0</td>\n",
       "      <td>0</td>\n",
       "      <td>0</td>\n",
       "      <td>0</td>\n",
       "      <td>0</td>\n",
       "      <td>0</td>\n",
       "      <td>0</td>\n",
       "    </tr>\n",
       "    <tr>\n",
       "      <th>2</th>\n",
       "      <td>0</td>\n",
       "      <td>0</td>\n",
       "      <td>0</td>\n",
       "      <td>0</td>\n",
       "      <td>0</td>\n",
       "      <td>0</td>\n",
       "      <td>0</td>\n",
       "      <td>0</td>\n",
       "      <td>0</td>\n",
       "      <td>0</td>\n",
       "      <td>0</td>\n",
       "      <td>0</td>\n",
       "    </tr>\n",
       "    <tr>\n",
       "      <th>3</th>\n",
       "      <td>0</td>\n",
       "      <td>0</td>\n",
       "      <td>0</td>\n",
       "      <td>0</td>\n",
       "      <td>0</td>\n",
       "      <td>0</td>\n",
       "      <td>0</td>\n",
       "      <td>0</td>\n",
       "      <td>0</td>\n",
       "      <td>-1</td>\n",
       "      <td>0</td>\n",
       "      <td>0</td>\n",
       "    </tr>\n",
       "    <tr>\n",
       "      <th>4</th>\n",
       "      <td>1</td>\n",
       "      <td>0</td>\n",
       "      <td>0</td>\n",
       "      <td>0</td>\n",
       "      <td>0</td>\n",
       "      <td>0</td>\n",
       "      <td>1</td>\n",
       "      <td>0</td>\n",
       "      <td>0</td>\n",
       "      <td>0</td>\n",
       "      <td>0</td>\n",
       "      <td>0</td>\n",
       "    </tr>\n",
       "  </tbody>\n",
       "</table>\n",
       "</div>"
      ],
      "text/plain": [
       "   Appearance Positive  Appearance Negative  Appearance Neutral  \\\n",
       "0                    1                   -1                   0   \n",
       "1                    0                    0                   0   \n",
       "2                    0                    0                   0   \n",
       "3                    0                    0                   0   \n",
       "4                    1                    0                   0   \n",
       "\n",
       "   Aroma Positive  Aroma Negative  Aroma Neutral  Palate Positive  \\\n",
       "0               1               0              0                0   \n",
       "1               0               0              0                0   \n",
       "2               0               0              0                0   \n",
       "3               0               0              0                0   \n",
       "4               0               0              0                1   \n",
       "\n",
       "   Palate Negative  Palate Neutral  Taste Positive  Taste Negative  \\\n",
       "0               -1               0               0              -1   \n",
       "1                0               0               0               0   \n",
       "2                0               0               0               0   \n",
       "3                0               0              -1               0   \n",
       "4                0               0               0               0   \n",
       "\n",
       "   Taste Neutral  \n",
       "0              0  \n",
       "1              0  \n",
       "2              0  \n",
       "3              0  \n",
       "4              0  "
      ]
     },
     "execution_count": 11,
     "metadata": {},
     "output_type": "execute_result"
    }
   ],
   "source": [
    "winter_effects.head()"
   ]
  },
  {
   "cell_type": "code",
   "execution_count": 12,
   "id": "9fb0caf2-4c85-4163-b2a1-64f986741a1f",
   "metadata": {},
   "outputs": [],
   "source": [
    "def sidak(k, alpha=0.05):\n",
    "    alpha_c = 1 - (1 - alpha) ** (1/k)\n",
    "    return alpha_c"
   ]
  },
  {
   "cell_type": "code",
   "execution_count": 13,
   "id": "c1d4f684-2c5b-4015-9c59-ec0c2ea9b880",
   "metadata": {},
   "outputs": [
    {
     "name": "stdout",
     "output_type": "stream",
     "text": [
      "Adjusted significance level: 0.0043\n",
      "Confidence interval of 99.5735% needs to be calculated\n"
     ]
    }
   ],
   "source": [
    "significance_level = sidak(k=len(effects), alpha=0.05)\n",
    "print('Adjusted significance level: {:.4f}'.format(significance_level))\n",
    "\n",
    "gamma = (1 - significance_level) * 100\n",
    "print('Confidence interval of {:.4f}% needs to be calculated'.format(gamma))"
   ]
  },
  {
   "cell_type": "code",
   "execution_count": 14,
   "id": "ee195b08-0be9-4a10-bdae-a29e4f98ab29",
   "metadata": {},
   "outputs": [],
   "source": [
    "def effect_diff(population1, population2, gamma, nboot=1000):\n",
    "    n1 = len(population1); n2 = len(population2)\n",
    "    mean_diff = np.mean( np.random.choice(population1, size=(nboot,n1)), axis=1) - \\\n",
    "                np.mean( np.random.choice(population2, size=(nboot,n2)), axis=1)\n",
    "    effect_avg = np.mean(mean_diff)\n",
    "    [effect_low, effect_high] = np.percentile(mean_diff, [(100-gamma)/2, 100-(100-gamma)/2])\n",
    "    return effect_avg, effect_low, effect_high"
   ]
  },
  {
   "cell_type": "code",
   "execution_count": 15,
   "id": "b029cd2c-1117-4fc9-af85-a6caee8c4e4b",
   "metadata": {},
   "outputs": [],
   "source": [
    "effect_avg, effect_low, effect_high = {}, {}, {}\n",
    "\n",
    "for effect in effects:\n",
    "    effect_avg[effect], effect_low[effect], effect_high[effect] = effect_diff(winter_effects[effect], summer_effects[effect], gamma)"
   ]
  },
  {
   "cell_type": "code",
   "execution_count": 16,
   "id": "97c4663e-f6b7-4574-a1a1-e40ddc733ce3",
   "metadata": {},
   "outputs": [
    {
     "name": "stdout",
     "output_type": "stream",
     "text": [
      "The gap was bigger during winter than summer for : []\n",
      "The gap was smaller during winter than summer for : []\n"
     ]
    }
   ],
   "source": [
    "gap_smaller = [k for k, v in effect_low.items() if v >= 0]\n",
    "gap_bigger = [k for k, v in effect_high.items() if v <= 0]\n",
    "print('The gap was bigger during winter than summer for : {}'.format(gap_smaller))\n",
    "print('The gap was smaller during winter than summer for : {}'.format(gap_bigger))"
   ]
  },
  {
   "cell_type": "markdown",
   "id": "51290776-f328-4d1d-b09d-1867173e1e88",
   "metadata": {},
   "source": [
    "Checking for the following changes in sentiment:\n",
    "- Autumn - Winter\n",
    "- Winter - Spring\n",
    "- Spring - Summer\n",
    "- Summer - Autumn"
   ]
  },
  {
   "cell_type": "markdown",
   "id": "6c2c41ac-ccde-4694-87d8-8c0fbe71a4f6",
   "metadata": {},
   "source": [
    "### Autumn - Winter"
   ]
  },
  {
   "cell_type": "code",
   "execution_count": 17,
   "id": "52d6040c-5b41-46db-ac52-626635899bb9",
   "metadata": {},
   "outputs": [],
   "source": [
    "effect_avg, effect_low, effect_high = {}, {}, {}\n",
    "\n",
    "for effect in effects:\n",
    "    effect_avg[effect], effect_low[effect], effect_high[effect] = effect_diff(autumn_effects[effect], winter_effects[effect], gamma)"
   ]
  },
  {
   "cell_type": "code",
   "execution_count": 18,
   "id": "c09e3688-a8ad-4175-84f9-479da1188f4e",
   "metadata": {},
   "outputs": [
    {
     "name": "stdout",
     "output_type": "stream",
     "text": [
      "The gap was bigger during autumn than winter for : []\n",
      "The gap was smaller during autumn than winter for : ['Appearance Negative', 'Palate Negative', 'Taste Negative']\n"
     ]
    }
   ],
   "source": [
    "gap_smaller = [k for k, v in effect_low.items() if v >= 0]\n",
    "gap_bigger = [k for k, v in effect_high.items() if v <= 0]\n",
    "print('The gap was bigger during autumn than winter for : {}'.format(gap_smaller))\n",
    "print('The gap was smaller during autumn than winter for : {}'.format(gap_bigger))"
   ]
  },
  {
   "cell_type": "markdown",
   "id": "e1fe4989-1667-4610-8e6e-455e6d49aec5",
   "metadata": {},
   "source": [
    "### Winter - Spring"
   ]
  },
  {
   "cell_type": "code",
   "execution_count": 19,
   "id": "365615b2-a0ee-4607-9645-393960e61c25",
   "metadata": {},
   "outputs": [],
   "source": [
    "effect_avg, effect_low, effect_high = {}, {}, {}\n",
    "\n",
    "for effect in effects:\n",
    "    effect_avg[effect], effect_low[effect], effect_high[effect] = effect_diff(winter_effects[effect], spring_effects[effect], gamma)"
   ]
  },
  {
   "cell_type": "code",
   "execution_count": 20,
   "id": "f58b031e-048e-4ecf-97c5-385cf2b9bf8a",
   "metadata": {},
   "outputs": [
    {
     "name": "stdout",
     "output_type": "stream",
     "text": [
      "The gap was bigger during winter than spring for : ['Palate Neutral']\n",
      "The gap was smaller during winter than spring for : ['Appearance Negative', 'Aroma Negative', 'Palate Negative']\n"
     ]
    }
   ],
   "source": [
    "gap_smaller = [k for k, v in effect_low.items() if v >= 0]\n",
    "gap_bigger = [k for k, v in effect_high.items() if v <= 0]\n",
    "print('The gap was bigger during winter than spring for : {}'.format(gap_smaller))\n",
    "print('The gap was smaller during winter than spring for : {}'.format(gap_bigger))"
   ]
  },
  {
   "cell_type": "markdown",
   "id": "1a3df2a0-920e-456c-9bc6-21193b4415b8",
   "metadata": {},
   "source": [
    "### Spring - Summer"
   ]
  },
  {
   "cell_type": "code",
   "execution_count": 21,
   "id": "272cc110-7b34-452c-8c48-d180a879b4e7",
   "metadata": {},
   "outputs": [],
   "source": [
    "effect_avg, effect_low, effect_high = {}, {}, {}\n",
    "\n",
    "for effect in effects:\n",
    "    effect_avg[effect], effect_low[effect], effect_high[effect] = effect_diff(spring_effects[effect], summer_effects[effect], gamma)"
   ]
  },
  {
   "cell_type": "code",
   "execution_count": 22,
   "id": "f4a75681-78ad-4c2c-9318-c5c51228105f",
   "metadata": {},
   "outputs": [
    {
     "name": "stdout",
     "output_type": "stream",
     "text": [
      "The gap was bigger during spring than summer for : ['Aroma Negative', 'Palate Negative', 'Taste Negative']\n",
      "The gap was smaller during spring than summer for : ['Appearance Neutral', 'Palate Neutral']\n"
     ]
    }
   ],
   "source": [
    "gap_smaller = [k for k, v in effect_low.items() if v >= 0]\n",
    "gap_bigger = [k for k, v in effect_high.items() if v <= 0]\n",
    "print('The gap was bigger during spring than summer for : {}'.format(gap_smaller))\n",
    "print('The gap was smaller during spring than summer for : {}'.format(gap_bigger))"
   ]
  },
  {
   "cell_type": "markdown",
   "id": "924e16c0-7f59-4615-a720-775abdfd9cff",
   "metadata": {},
   "source": [
    "### Summer - Autumn"
   ]
  },
  {
   "cell_type": "code",
   "execution_count": 23,
   "id": "3bbafa90-4fbe-43e6-8a37-3cda55bc82e8",
   "metadata": {},
   "outputs": [],
   "source": [
    "effect_avg, effect_low, effect_high = {}, {}, {}\n",
    "\n",
    "for effect in effects:\n",
    "    effect_avg[effect], effect_low[effect], effect_high[effect] = effect_diff(summer_effects[effect], autumn_effects[effect], gamma)"
   ]
  },
  {
   "cell_type": "code",
   "execution_count": 24,
   "id": "97f7dea4-1b4b-43a0-861b-f60ffb2367da",
   "metadata": {},
   "outputs": [
    {
     "name": "stdout",
     "output_type": "stream",
     "text": [
      "The gap was bigger during summer than autumn for : ['Aroma Neutral', 'Palate Negative', 'Taste Negative']\n",
      "The gap was smaller during summer than autumn for : ['Taste Positive']\n"
     ]
    }
   ],
   "source": [
    "gap_smaller = [k for k, v in effect_low.items() if v >= 0]\n",
    "gap_bigger = [k for k, v in effect_high.items() if v <= 0]\n",
    "print('The gap was bigger during summer than autumn for : {}'.format(gap_smaller))\n",
    "print('The gap was smaller during summer than autumn for : {}'.format(gap_bigger))"
   ]
  }
 ],
 "metadata": {
  "kernelspec": {
   "display_name": "Python 3 (ipykernel)",
   "language": "python",
   "name": "python3"
  },
  "language_info": {
   "codemirror_mode": {
    "name": "ipython",
    "version": 3
   },
   "file_extension": ".py",
   "mimetype": "text/x-python",
   "name": "python",
   "nbconvert_exporter": "python",
   "pygments_lexer": "ipython3",
   "version": "3.9.12"
  }
 },
 "nbformat": 4,
 "nbformat_minor": 5
}
