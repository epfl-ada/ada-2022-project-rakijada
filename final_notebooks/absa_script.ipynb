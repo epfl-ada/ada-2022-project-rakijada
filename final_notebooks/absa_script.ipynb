{
 "cells": [
  {
   "cell_type": "code",
   "execution_count": null,
   "id": "7275d8ab",
   "metadata": {},
   "outputs": [],
   "source": [
    "!pip install aspect_based_sentiment_analysis #installing module for aspect based sentiment analyisis"
   ]
  },
  {
   "cell_type": "code",
   "execution_count": null,
   "id": "ac948791",
   "metadata": {},
   "outputs": [],
   "source": [
    "# useful imports\n",
    "import aspect_based_sentiment_analysis as absa\n",
    "import pandas as pd\n",
    "import os.path\n",
    "from google.colab import drive\n",
    "from pathlib import Path"
   ]
  },
  {
   "cell_type": "code",
   "execution_count": null,
   "id": "6f6bc4b7",
   "metadata": {},
   "outputs": [],
   "source": [
    "drive.mount('/content/drive', force_remount=True)"
   ]
  },
  {
   "cell_type": "code",
   "execution_count": null,
   "id": "a6d8bac0",
   "metadata": {},
   "outputs": [],
   "source": [
    "# loading the nlp model for aspect based sentiment analysis\n",
    "nlp = absa.load() "
   ]
  },
  {
   "cell_type": "code",
   "execution_count": null,
   "id": "e080d95d",
   "metadata": {},
   "outputs": [],
   "source": [
    "def sentiment_analysis(text_series, sentiments = {'Positive': 2, 'Neutral': 0, 'Negative': 1}, aspects = ['Appearance', 'Aroma', 'Palate', 'Taste']):\n",
    "    \"\"\"\n",
    "    Function that does sentiment analyisis based on the text.\n",
    "\n",
    "    Input:\n",
    "        - text_series: pandas series containing textual reviews that users wrote\n",
    "        - sentiments: dictionary of sentiments\n",
    "        - aspects: list of aspects we're interested in\n",
    "\n",
    "    Returns:\n",
    "        - dataframe containing scores for each sentiment towards each aspect of \n",
    "      textual reviews from text_series.\n",
    "    \"\"\"\n",
    "  \n",
    "    # we're applying model to each textual review\n",
    "    try:\n",
    "        tasks = text_series.apply(lambda text: nlp(text, aspects=aspects)) \n",
    "    except :\n",
    "        print('An error occured during sentiment analysis!')\n",
    "        return\n",
    "        \n",
    "    # dictionary that maps each (aspect,sentiment) pair to a list containing scores of \n",
    "    # the specifc sentiment to the specific aspects for each of the given reviews\n",
    "    columns = {} \n",
    "    for aspect in aspects:\n",
    "        for sentiment_str, _ in sentiments.items():\n",
    "          # initially, list is empty\n",
    "          columns[aspect + ' ' + sentiment_str] = [] \n",
    "\n",
    "    for task in tasks:\n",
    "        for aspect_index in range(len(aspects)):\n",
    "            scores = task.examples[aspect_index].scores\n",
    "            for sentiment_str, i in sentiments.items():\n",
    "                columns[aspects[aspect_index] + ' ' + sentiment_str].append(scores[i])\n",
    "  \n",
    "    # converting dictionary to pandas dataframe\n",
    "    return pd.DataFrame(columns).set_index(text_series.index)"
   ]
  },
  {
   "cell_type": "code",
   "execution_count": null,
   "id": "4531c967",
   "metadata": {},
   "outputs": [],
   "source": [
    "def sentiment_analysis_of_batch(batch_folder, output_folder, filename):\n",
    "    Path(output_folder).mkdir(parents=True, exist_ok=True)\n",
    "    \n",
    "    # Example of path on Google Colab: /content/drive/My Drive/batches/test.csv\n",
    "    data = pd.read_csv(os.path.join(batch_folder, '{}.csv'.format(filename)))\n",
    "    \n",
    "    # getting sentiment analysis from the function\n",
    "    columns = sentiment_analysis(data['Text'])\n",
    "    \n",
    "    # concatenating scores in each row\n",
    "    expanded_data = pd.concat([data, columns], axis=1)\n",
    "    \n",
    "    # write the results\n",
    "    expanded_data.to_csv(os.path.join(output_folder, '{}_done.csv'.format(filename)), index=False)"
   ]
  },
  {
   "cell_type": "code",
   "execution_count": null,
   "id": "b631f1df",
   "metadata": {},
   "outputs": [],
   "source": [
    "# Check if it is the same path for you!\n",
    "batch_folder = '/content/drive/My Drive/batches/'\n",
    "output_folder = '/content/drive/My Drive/results/'"
   ]
  },
  {
   "cell_type": "code",
   "execution_count": null,
   "id": "4082678d",
   "metadata": {},
   "outputs": [],
   "source": [
    "# Example\n",
    "# Change filename with file you want to work on!\n",
    "filename = 'test'\n",
    "sentiment_analysis_of_batch(batch_folder, output_folder, filename)"
   ]
  }
 ],
 "metadata": {
  "kernelspec": {
   "display_name": "Python 3 (ipykernel)",
   "language": "python",
   "name": "python3"
  },
  "language_info": {
   "codemirror_mode": {
    "name": "ipython",
    "version": 3
   },
   "file_extension": ".py",
   "mimetype": "text/x-python",
   "name": "python",
   "nbconvert_exporter": "python",
   "pygments_lexer": "ipython3",
   "version": "3.9.12"
  }
 },
 "nbformat": 4,
 "nbformat_minor": 5
}
