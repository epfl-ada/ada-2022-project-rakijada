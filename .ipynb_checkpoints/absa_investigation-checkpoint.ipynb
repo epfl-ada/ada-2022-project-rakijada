{
 "cells": [
  {
   "cell_type": "code",
   "execution_count": 1,
   "id": "0a339674",
   "metadata": {},
   "outputs": [],
   "source": [
    "# Useful imports\n",
    "import pandas as pd\n",
    "import seaborn as sns\n",
    "import numpy as np\n",
    "import random\n",
    "import math\n",
    "import os.path\n",
    "from pathlib import Path\n",
    "import matplotlib.pyplot as plt"
   ]
  },
  {
   "cell_type": "code",
   "execution_count": null,
   "id": "dc1ef92a",
   "metadata": {},
   "outputs": [],
   "source": []
  },
  {
   "cell_type": "code",
   "execution_count": null,
   "id": "9a16cd1d",
   "metadata": {},
   "outputs": [],
   "source": []
  },
  {
   "cell_type": "code",
   "execution_count": 2,
   "id": "e793f4a5",
   "metadata": {},
   "outputs": [],
   "source": [
    "absa_results = pd.read_csv('./datasets/results/results_aggregated.csv')"
   ]
  },
  {
   "cell_type": "code",
   "execution_count": 3,
   "id": "f04c3bf4",
   "metadata": {},
   "outputs": [],
   "source": [
    "absa_results = absa_results.drop('Text', axis=1)"
   ]
  },
  {
   "cell_type": "code",
   "execution_count": 4,
   "id": "0650614d",
   "metadata": {},
   "outputs": [
    {
     "data": {
      "text/plain": [
       "Index(['Appearance Positive', 'Appearance Neutral', 'Appearance Negative',\n",
       "       'Aroma Positive', 'Aroma Neutral', 'Aroma Negative', 'Palate Positive',\n",
       "       'Palate Neutral', 'Palate Negative', 'Taste Positive', 'Taste Neutral',\n",
       "       'Taste Negative'],\n",
       "      dtype='object')"
      ]
     },
     "execution_count": 4,
     "metadata": {},
     "output_type": "execute_result"
    }
   ],
   "source": [
    "features = absa_results.columns[1:]\n",
    "features"
   ]
  },
  {
   "cell_type": "code",
   "execution_count": 5,
   "id": "aa66e2e8",
   "metadata": {},
   "outputs": [
    {
     "data": {
      "text/html": [
       "<div>\n",
       "<style scoped>\n",
       "    .dataframe tbody tr th:only-of-type {\n",
       "        vertical-align: middle;\n",
       "    }\n",
       "\n",
       "    .dataframe tbody tr th {\n",
       "        vertical-align: top;\n",
       "    }\n",
       "\n",
       "    .dataframe thead th {\n",
       "        text-align: right;\n",
       "    }\n",
       "</style>\n",
       "<table border=\"1\" class=\"dataframe\">\n",
       "  <thead>\n",
       "    <tr style=\"text-align: right;\">\n",
       "      <th></th>\n",
       "      <th>Row Index</th>\n",
       "      <th>Appearance Positive</th>\n",
       "      <th>Appearance Neutral</th>\n",
       "      <th>Appearance Negative</th>\n",
       "      <th>Aroma Positive</th>\n",
       "      <th>Aroma Neutral</th>\n",
       "      <th>Aroma Negative</th>\n",
       "      <th>Palate Positive</th>\n",
       "      <th>Palate Neutral</th>\n",
       "      <th>Palate Negative</th>\n",
       "      <th>Taste Positive</th>\n",
       "      <th>Taste Neutral</th>\n",
       "      <th>Taste Negative</th>\n",
       "    </tr>\n",
       "  </thead>\n",
       "  <tbody>\n",
       "    <tr>\n",
       "      <th>0</th>\n",
       "      <td>216</td>\n",
       "      <td>0.974481</td>\n",
       "      <td>0.005291</td>\n",
       "      <td>0.020228</td>\n",
       "      <td>0.982895</td>\n",
       "      <td>0.002254</td>\n",
       "      <td>0.014850</td>\n",
       "      <td>0.710195</td>\n",
       "      <td>0.022451</td>\n",
       "      <td>0.267354</td>\n",
       "      <td>0.633389</td>\n",
       "      <td>0.021023</td>\n",
       "      <td>0.345588</td>\n",
       "    </tr>\n",
       "    <tr>\n",
       "      <th>1</th>\n",
       "      <td>292</td>\n",
       "      <td>0.593674</td>\n",
       "      <td>0.215933</td>\n",
       "      <td>0.190393</td>\n",
       "      <td>0.493198</td>\n",
       "      <td>0.191977</td>\n",
       "      <td>0.314825</td>\n",
       "      <td>0.648823</td>\n",
       "      <td>0.206792</td>\n",
       "      <td>0.144386</td>\n",
       "      <td>0.502106</td>\n",
       "      <td>0.292476</td>\n",
       "      <td>0.205419</td>\n",
       "    </tr>\n",
       "    <tr>\n",
       "      <th>2</th>\n",
       "      <td>298</td>\n",
       "      <td>0.427067</td>\n",
       "      <td>0.377558</td>\n",
       "      <td>0.195375</td>\n",
       "      <td>0.702528</td>\n",
       "      <td>0.127771</td>\n",
       "      <td>0.169701</td>\n",
       "      <td>0.285166</td>\n",
       "      <td>0.687439</td>\n",
       "      <td>0.027395</td>\n",
       "      <td>0.994922</td>\n",
       "      <td>0.003798</td>\n",
       "      <td>0.001280</td>\n",
       "    </tr>\n",
       "    <tr>\n",
       "      <th>3</th>\n",
       "      <td>343</td>\n",
       "      <td>0.651201</td>\n",
       "      <td>0.049745</td>\n",
       "      <td>0.299054</td>\n",
       "      <td>0.911328</td>\n",
       "      <td>0.012691</td>\n",
       "      <td>0.075981</td>\n",
       "      <td>0.600418</td>\n",
       "      <td>0.066736</td>\n",
       "      <td>0.332846</td>\n",
       "      <td>0.583243</td>\n",
       "      <td>0.046122</td>\n",
       "      <td>0.370635</td>\n",
       "    </tr>\n",
       "    <tr>\n",
       "      <th>4</th>\n",
       "      <td>348</td>\n",
       "      <td>0.941425</td>\n",
       "      <td>0.023591</td>\n",
       "      <td>0.034984</td>\n",
       "      <td>0.998509</td>\n",
       "      <td>0.000367</td>\n",
       "      <td>0.001124</td>\n",
       "      <td>0.918099</td>\n",
       "      <td>0.031206</td>\n",
       "      <td>0.050695</td>\n",
       "      <td>0.881918</td>\n",
       "      <td>0.042310</td>\n",
       "      <td>0.075772</td>\n",
       "    </tr>\n",
       "  </tbody>\n",
       "</table>\n",
       "</div>"
      ],
      "text/plain": [
       "   Row Index  Appearance Positive  Appearance Neutral  Appearance Negative  \\\n",
       "0        216             0.974481            0.005291             0.020228   \n",
       "1        292             0.593674            0.215933             0.190393   \n",
       "2        298             0.427067            0.377558             0.195375   \n",
       "3        343             0.651201            0.049745             0.299054   \n",
       "4        348             0.941425            0.023591             0.034984   \n",
       "\n",
       "   Aroma Positive  Aroma Neutral  Aroma Negative  Palate Positive  \\\n",
       "0        0.982895       0.002254        0.014850         0.710195   \n",
       "1        0.493198       0.191977        0.314825         0.648823   \n",
       "2        0.702528       0.127771        0.169701         0.285166   \n",
       "3        0.911328       0.012691        0.075981         0.600418   \n",
       "4        0.998509       0.000367        0.001124         0.918099   \n",
       "\n",
       "   Palate Neutral  Palate Negative  Taste Positive  Taste Neutral  \\\n",
       "0        0.022451         0.267354        0.633389       0.021023   \n",
       "1        0.206792         0.144386        0.502106       0.292476   \n",
       "2        0.687439         0.027395        0.994922       0.003798   \n",
       "3        0.066736         0.332846        0.583243       0.046122   \n",
       "4        0.031206         0.050695        0.881918       0.042310   \n",
       "\n",
       "   Taste Negative  \n",
       "0        0.345588  \n",
       "1        0.205419  \n",
       "2        0.001280  \n",
       "3        0.370635  \n",
       "4        0.075772  "
      ]
     },
     "execution_count": 5,
     "metadata": {},
     "output_type": "execute_result"
    }
   ],
   "source": [
    "absa_results.head()"
   ]
  },
  {
   "cell_type": "code",
   "execution_count": 6,
   "id": "523d8226",
   "metadata": {},
   "outputs": [
    {
     "data": {
      "text/plain": [
       "Row Index              44155\n",
       "Appearance Positive    44155\n",
       "Appearance Neutral     44155\n",
       "Appearance Negative    44155\n",
       "Aroma Positive         44155\n",
       "Aroma Neutral          44155\n",
       "Aroma Negative         44155\n",
       "Palate Positive        44155\n",
       "Palate Neutral         44155\n",
       "Palate Negative        44155\n",
       "Taste Positive         44155\n",
       "Taste Neutral          44155\n",
       "Taste Negative         44155\n",
       "dtype: int64"
      ]
     },
     "execution_count": 6,
     "metadata": {},
     "output_type": "execute_result"
    }
   ],
   "source": [
    "absa_results.count()"
   ]
  },
  {
   "cell_type": "code",
   "execution_count": 7,
   "id": "8ccd3e69",
   "metadata": {},
   "outputs": [
    {
     "data": {
      "text/plain": [
       "<AxesSubplot:xlabel='Appearance Positive', ylabel='Count'>"
      ]
     },
     "execution_count": 7,
     "metadata": {},
     "output_type": "execute_result"
    },
    {
     "data": {
      "image/png": "[encoded data removed]",
      "text/plain": [
       "<Figure size 432x288 with 1 Axes>"
      ]
     },
     "metadata": {
      "needs_background": "light"
     },
     "output_type": "display_data"
    }
   ],
   "source": [
    "sns.histplot(absa_results['Appearance Positive'], bins=50)"
   ]
  },
  {
   "cell_type": "code",
   "execution_count": 8,
   "id": "2089f75a",
   "metadata": {
    "scrolled": true
   },
   "outputs": [
    {
     "data": {
      "text/plain": [
       "<AxesSubplot:xlabel='Aroma Positive', ylabel='Count'>"
      ]
     },
     "execution_count": 8,
     "metadata": {},
     "output_type": "execute_result"
    },
    {
     "data": {
      "image/png": "[encoded data removed]",
      "text/plain": [
       "<Figure size 432x288 with 1 Axes>"
      ]
     },
     "metadata": {
      "needs_background": "light"
     },
     "output_type": "display_data"
    }
   ],
   "source": [
    "sns.histplot(absa_results['Aroma Positive'], bins=50)"
   ]
  },
  {
   "cell_type": "code",
   "execution_count": null,
   "id": "b4734e10",
   "metadata": {},
   "outputs": [],
   "source": []
  },
  {
   "cell_type": "code",
   "execution_count": 9,
   "id": "0013187a",
   "metadata": {},
   "outputs": [
    {
     "name": "stdout",
     "output_type": "stream",
     "text": [
      "(2589587, 17)\n"
     ]
    }
   ],
   "source": [
    "# Loading in the data\n",
    "reviews = pd.read_pickle('./datasets/BeerAdvocate/reviews.pkl')\n",
    "print(reviews.shape)"
   ]
  },
  {
   "cell_type": "code",
   "execution_count": 10,
   "id": "3b020b55",
   "metadata": {},
   "outputs": [],
   "source": [
    "# setting row index as a column - useful later\n",
    "reviews['Row Index'] = reviews.index"
   ]
  },
  {
   "cell_type": "code",
   "execution_count": 11,
   "id": "9350a420",
   "metadata": {},
   "outputs": [],
   "source": [
    "# selecting necessary columns\n",
    "reviews_clean = reviews[['Beer Id','Brewery Id','Style','Abv','Date','User Id','Appearance','Aroma',\\\n",
    "                         'Palate','Taste','Overall','Rating','Text', 'Row Index']]"
   ]
  },
  {
   "cell_type": "code",
   "execution_count": 12,
   "id": "edbd2dcd",
   "metadata": {},
   "outputs": [],
   "source": [
    "reviews_clean = reviews_clean.merge(absa_results, on='Row Index')"
   ]
  },
  {
   "cell_type": "code",
   "execution_count": 13,
   "id": "95545d2e",
   "metadata": {},
   "outputs": [],
   "source": [
    "# matching on User Id, Style and Abv\n",
    "reviews_cartesian = reviews_clean.merge(reviews_clean, on=['User Id','Style','Abv'], suffixes=('1', '2'))"
   ]
  },
  {
   "cell_type": "code",
   "execution_count": 14,
   "id": "761bb9b3",
   "metadata": {},
   "outputs": [],
   "source": [
    "# filtering pairs where first one is absolutely better\n",
    "reviews_pairs = reviews_cartesian[(reviews_cartesian['Rating1'] > reviews_cartesian['Rating2']) & \\\n",
    "                                  (reviews_cartesian['Overall1'] > reviews_cartesian['Overall2']) & \\\n",
    "                                  (reviews_cartesian['Aroma1'] > reviews_cartesian['Aroma2']) & \\\n",
    "                                  (reviews_cartesian['Appearance1'] > reviews_cartesian['Appearance2']) & \\\n",
    "                                  (reviews_cartesian['Taste1'] > reviews_cartesian['Taste2']) & \\\n",
    "                                  (reviews_cartesian['Palate1'] > reviews_cartesian['Palate2'])].copy()"
   ]
  },
  {
   "cell_type": "code",
   "execution_count": 15,
   "id": "9b9e441f",
   "metadata": {},
   "outputs": [],
   "source": [
    "# adding month columns to filtered data\n",
    "reviews_pairs['Month1'] = reviews_pairs['Date1'].apply(lambda x: x.month)\n",
    "reviews_pairs['Month2'] = reviews_pairs['Date2'].apply(lambda x: x.month)\n",
    "reviews_pairs['Text Length1'] = reviews_pairs['Text1'].apply(len)\n",
    "reviews_pairs['Text Length2'] = reviews_pairs['Text2'].apply(len)\n",
    "# sns.lineplot(data=reviews_pairs, y='Rating1', x='Month1')\n",
    "# sns.lineplot(data=reviews_pairs, y='Rating2', x='Month2')"
   ]
  },
  {
   "cell_type": "code",
   "execution_count": 16,
   "id": "4508dc6d",
   "metadata": {},
   "outputs": [],
   "source": [
    "matched_len_reviews_pairs = reviews_pairs[abs(reviews_pairs['Text Length1'] - \\\n",
    "                                               reviews_pairs['Text Length2']) <100]"
   ]
  },
  {
   "cell_type": "code",
   "execution_count": 17,
   "id": "2fc40d73",
   "metadata": {},
   "outputs": [],
   "source": [
    "winter_review_pairs = matched_len_reviews_pairs[(matched_len_reviews_pairs['Month1']>=1) & (matched_len_reviews_pairs['Month1']<=3) & \\\n",
    "              (matched_len_reviews_pairs['Month2']>=1) & (matched_len_reviews_pairs['Month2']<=3)]\n",
    "summer_review_pairs = matched_len_reviews_pairs[(matched_len_reviews_pairs['Month1']>=7) & (matched_len_reviews_pairs['Month1']<=9) & \\\n",
    "              (matched_len_reviews_pairs['Month2']>=7) & (matched_len_reviews_pairs['Month2']<=9)]"
   ]
  },
  {
   "cell_type": "code",
   "execution_count": 18,
   "id": "1f4fdb6f",
   "metadata": {},
   "outputs": [],
   "source": [
    "long_reviews_winter = winter_review_pairs[(winter_review_pairs['Text Length1']>2000) | \\\n",
    "                                   (winter_review_pairs['Text Length2']>2000)]\n",
    "long_reviews_summer = summer_review_pairs[(summer_review_pairs['Text Length1']>2000) | \\\n",
    "                                   (summer_review_pairs['Text Length2']>2000)]"
   ]
  },
  {
   "cell_type": "code",
   "execution_count": 19,
   "id": "532beb38",
   "metadata": {},
   "outputs": [
    {
     "name": "stdout",
     "output_type": "stream",
     "text": [
      "Matched winter review pairs shape after dropping too long texts: (14757, 53)\n",
      "Matched summer review pairs shape after dropping too long texts: (14375, 53)\n"
     ]
    }
   ],
   "source": [
    "matched_winter_pairs = winter_review_pairs.drop(index = long_reviews_winter.index)\n",
    "matched_summer_pairs = summer_review_pairs.drop(index = long_reviews_summer.index)\n",
    "print('Matched winter review pairs shape after dropping too long texts: {}'.format(matched_winter_pairs.shape))\n",
    "print('Matched summer review pairs shape after dropping too long texts: {}'.format(matched_summer_pairs.shape))"
   ]
  },
  {
   "cell_type": "code",
   "execution_count": 20,
   "id": "6de3d9fe",
   "metadata": {},
   "outputs": [],
   "source": [
    "# Task 3.8 : Helper function for confidence intervals\n",
    "\n",
    "# confidence interval for data returned as : average, lower bound, upper bound\n",
    "# boot count is number of data points tosample\n",
    "def confidence_interval(data, boot_count=1000):\n",
    "    # generating samples from data, boot_count times generate subsamples of length equal to the length of data\n",
    "    boot_data = np.mean(np.random.choice(data, size=(boot_count, len(data)), replace=True), axis=1)\n",
    "    \n",
    "    # calculating average\n",
    "    avg = np.mean(boot_data)\n",
    "    \n",
    "    # calculating boundaries for confidence interval\n",
    "    [lo,hi] = np.percentile(boot_data,[2.5, 97.5])\n",
    "    return avg, lo, hi"
   ]
  },
  {
   "cell_type": "code",
   "execution_count": 21,
   "id": "aadeac90",
   "metadata": {},
   "outputs": [],
   "source": [
    "def absa_effects(df, features, boot_count=1000):\n",
    "    # initialize dictionary keys with headline effects \n",
    "    boot_effects = {}\n",
    "    boot_effects.update({key : np.zeros(3) for key in features})\n",
    "    \n",
    "    for key in boot_effects:\n",
    "        boot_effects[key] = confidence_interval(df[key+'1']-df[key+'2'])\n",
    "    \n",
    "    return boot_effects"
   ]
  },
  {
   "cell_type": "code",
   "execution_count": null,
   "id": "e0c6afd1",
   "metadata": {},
   "outputs": [],
   "source": []
  },
  {
   "cell_type": "code",
   "execution_count": 22,
   "id": "28b678d6",
   "metadata": {},
   "outputs": [
    {
     "data": {
      "text/plain": [
       "Aroma2         3.320848\n",
       "Taste2         3.288033\n",
       "Appearance2    3.451379\n",
       "Palate2        3.302721\n",
       "dtype: float64"
      ]
     },
     "execution_count": 22,
     "metadata": {},
     "output_type": "execute_result"
    }
   ],
   "source": [
    "matched_winter_pairs[['Aroma2', 'Taste2', 'Appearance2', 'Palate2']].mean()"
   ]
  },
  {
   "cell_type": "code",
   "execution_count": 23,
   "id": "88055b19",
   "metadata": {},
   "outputs": [
    {
     "data": {
      "text/plain": [
       "Aroma1         4.100901\n",
       "Taste1         4.137850\n",
       "Appearance1    4.134987\n",
       "Palate1        4.094481\n",
       "dtype: float64"
      ]
     },
     "execution_count": 23,
     "metadata": {},
     "output_type": "execute_result"
    }
   ],
   "source": [
    "matched_winter_pairs[['Aroma1', 'Taste1', 'Appearance1', 'Palate1']].mean()"
   ]
  },
  {
   "cell_type": "code",
   "execution_count": 31,
   "id": "03928a73",
   "metadata": {},
   "outputs": [
    {
     "data": {
      "text/plain": [
       "(14757, 53)"
      ]
     },
     "execution_count": 31,
     "metadata": {},
     "output_type": "execute_result"
    }
   ],
   "source": [
    "test = matched_winter_pairs.copy()\n",
    "test.shape"
   ]
  },
  {
   "cell_type": "code",
   "execution_count": 32,
   "id": "e2dbf636",
   "metadata": {},
   "outputs": [],
   "source": [
    "for feature in features:\n",
    "    test[feature + '1'] = 1*(test[feature + '1'] > 0.9)\n",
    "    test[feature + '2'] = 1*(test[feature + '2'] > 0.9)"
   ]
  },
  {
   "cell_type": "code",
   "execution_count": 34,
   "id": "7c0478ac",
   "metadata": {},
   "outputs": [],
   "source": [
    "boot_effects = absa_effects(test, ['Aroma Negative', 'Taste Negative', 'Appearance Negative', 'Palate Negative'])"
   ]
  },
  {
   "cell_type": "code",
   "execution_count": 35,
   "id": "35bf6b64",
   "metadata": {},
   "outputs": [
    {
     "data": {
      "image/png": "[encoded data removed]",
      "text/plain": [
       "<Figure size 640x480 with 1 Axes>"
      ]
     },
     "metadata": {
      "needs_background": "light"
     },
     "output_type": "display_data"
    }
   ],
   "source": [
    "# create dataframe from dictionary of data\n",
    "boot_effects_dataframe = pd.DataFrame.from_dict(data=boot_effects, orient='index', columns=['average_difference', '2.5%', '97.5%'])\n",
    "\n",
    "# calculating errors between mean and confidence intervals boundaries\n",
    "errors = [boot_effects_dataframe['average_difference'] -boot_effects_dataframe['2.5%'], boot_effects_dataframe['97.5%'] - boot_effects_dataframe['average_difference']]\n",
    "\n",
    "# plot the results\n",
    "plt.figure(figsize=(8, 6), dpi=80)\n",
    "\n",
    "plt.title('Average difference with 95% confidence intervals per feature between winner and loser headlines')\n",
    "plt.xlabel('Difference between winner and loser headlines')\n",
    "plt.ylabel('Features')\n",
    "plt.errorbar(y=boot_effects_dataframe.index, x=boot_effects_dataframe['average_difference'], xerr=errors, fmt=\"o\", markersize=4, capsize=4)\n",
    "\n",
    "# vertical line through zero as a reference for no effect\n",
    "#plt.axvline(x = 0, color = 'black', linestyle = '--')\n",
    "\n",
    "plt.show()"
   ]
  },
  {
   "cell_type": "code",
   "execution_count": null,
   "id": "7e3d4d91",
   "metadata": {},
   "outputs": [],
   "source": []
  },
  {
   "cell_type": "code",
   "execution_count": 402,
   "id": "7dd1739a",
   "metadata": {},
   "outputs": [
    {
     "data": {
      "text/plain": [
       "(14757, 53)"
      ]
     },
     "execution_count": 402,
     "metadata": {},
     "output_type": "execute_result"
    }
   ],
   "source": [
    "test = matched_winter_pairs.copy()\n",
    "test.shape"
   ]
  },
  {
   "cell_type": "code",
   "execution_count": 403,
   "id": "eb3703e4",
   "metadata": {},
   "outputs": [],
   "source": [
    "test['AppearanceDiff'] = test['Appearance1'] - test['Appearance2']\n",
    "for feature in features:\n",
    "    test[feature + 'Diff'] = test[feature + '1'] - test[feature + '2']"
   ]
  },
  {
   "cell_type": "code",
   "execution_count": 404,
   "id": "a67d3ac9",
   "metadata": {},
   "outputs": [
    {
     "data": {
      "text/plain": [
       "(1117, 66)"
      ]
     },
     "execution_count": 404,
     "metadata": {},
     "output_type": "execute_result"
    }
   ],
   "source": [
    "test[(test['Appearance PositiveDiff']<0) & (test['Aroma PositiveDiff']<0) & (test['Taste PositiveDiff']<0) & (test['Palate PositiveDiff']<0)].shape"
   ]
  },
  {
   "cell_type": "code",
   "execution_count": 375,
   "id": "a8dc9b98",
   "metadata": {},
   "outputs": [
    {
     "data": {
      "text/plain": [
       "<AxesSubplot:xlabel='Appearance PositiveDiff', ylabel='Count'>"
      ]
     },
     "execution_count": 375,
     "metadata": {},
     "output_type": "execute_result"
    },
    {
     "data": {
      "image/png": "[encoded data removed]",
      "text/plain": [
       "<Figure size 432x288 with 1 Axes>"
      ]
     },
     "metadata": {
      "needs_background": "light"
     },
     "output_type": "display_data"
    }
   ],
   "source": [
    "sns.histplot(test['Appearance PositiveDiff'])"
   ]
  },
  {
   "cell_type": "code",
   "execution_count": 376,
   "id": "4d869680",
   "metadata": {},
   "outputs": [
    {
     "data": {
      "text/plain": [
       "<AxesSubplot:xlabel='Aroma PositiveDiff', ylabel='Count'>"
      ]
     },
     "execution_count": 376,
     "metadata": {},
     "output_type": "execute_result"
    },
    {
     "data": {
      "image/png": "[encoded data removed]",
      "text/plain": [
       "<Figure size 432x288 with 1 Axes>"
      ]
     },
     "metadata": {
      "needs_background": "light"
     },
     "output_type": "display_data"
    }
   ],
   "source": [
    "sns.histplot(test['Aroma PositiveDiff'])"
   ]
  },
  {
   "cell_type": "code",
   "execution_count": 385,
   "id": "d9b6ca69",
   "metadata": {},
   "outputs": [
    {
     "data": {
      "text/plain": [
       "<AxesSubplot:xlabel='Appearance NegativeDiff', ylabel='Count'>"
      ]
     },
     "execution_count": 385,
     "metadata": {},
     "output_type": "execute_result"
    },
    {
     "data": {
      "image/png": "[encoded data removed]",
      "text/plain": [
       "<Figure size 432x288 with 1 Axes>"
      ]
     },
     "metadata": {
      "needs_background": "light"
     },
     "output_type": "display_data"
    }
   ],
   "source": [
    "sns.histplot(test['Appearance NegativeDiff'])"
   ]
  },
  {
   "cell_type": "code",
   "execution_count": 386,
   "id": "0701624d",
   "metadata": {},
   "outputs": [
    {
     "data": {
      "text/plain": [
       "<AxesSubplot:xlabel='Aroma NegativeDiff', ylabel='Count'>"
      ]
     },
     "execution_count": 386,
     "metadata": {},
     "output_type": "execute_result"
    },
    {
     "data": {
      "image/png": "[encoded data removed]",
      "text/plain": [
       "<Figure size 432x288 with 1 Axes>"
      ]
     },
     "metadata": {
      "needs_background": "light"
     },
     "output_type": "display_data"
    }
   ],
   "source": [
    "sns.histplot(test['Aroma NegativeDiff'])"
   ]
  },
  {
   "cell_type": "code",
   "execution_count": 381,
   "id": "77428b2d",
   "metadata": {},
   "outputs": [
    {
     "name": "stdout",
     "output_type": "stream",
     "text": [
      "Appearance Positive: 11.714782608695652\n",
      "Appearance Neutral: 14.191304347826087\n",
      "Appearance Negative: 56.61217391304348\n",
      "Aroma Positive: 10.685217391304349\n",
      "Aroma Neutral: 10.386086956521739\n",
      "Aroma Negative: 49.26608695652174\n",
      "Palate Positive: 10.845217391304347\n",
      "Palate Neutral: 21.89217391304348\n",
      "Palate Negative: 55.23478260869565\n",
      "Taste Positive: 13.565217391304348\n",
      "Taste Neutral: 20.27130434782609\n",
      "Taste Negative: 51.42260869565217\n"
     ]
    }
   ],
   "source": [
    "for feature in features:\n",
    "    print('{}: {:2}'.format(feature, 100*(test[feature +'Diff']<-0.15).sum()/test.shape[0]))"
   ]
  },
  {
   "cell_type": "code",
   "execution_count": null,
   "id": "6a1fddab",
   "metadata": {},
   "outputs": [],
   "source": []
  }
 ],
 "metadata": {
  "kernelspec": {
   "display_name": "Python 3 (ipykernel)",
   "language": "python",
   "name": "python3"
  },
  "language_info": {
   "codemirror_mode": {
    "name": "ipython",
    "version": 3
   },
   "file_extension": ".py",
   "mimetype": "text/x-python",
   "name": "python",
   "nbconvert_exporter": "python",
   "pygments_lexer": "ipython3",
   "version": "3.9.12"
  }
 },
 "nbformat": 4,
 "nbformat_minor": 5
}
