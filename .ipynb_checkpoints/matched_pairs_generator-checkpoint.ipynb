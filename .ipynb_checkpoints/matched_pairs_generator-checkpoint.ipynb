{
 "cells": [
  {
   "cell_type": "code",
   "execution_count": 4,
   "id": "3ddedc44",
   "metadata": {},
   "outputs": [],
   "source": [
    "import pandas as pd\n",
    "import os.path"
   ]
  },
  {
   "cell_type": "code",
   "execution_count": 7,
   "id": "1ffdf102",
   "metadata": {},
   "outputs": [],
   "source": [
    "DATA_FOLDER = './datasets/'\n",
    "ABSA_RESULTS_PATH = 'results/absa_results.csv'\n",
    "REVIEWS_PATH = 'BeerAdvocate/reviews.pkl'"
   ]
  },
  {
   "cell_type": "code",
   "execution_count": 8,
   "id": "fedd6e62",
   "metadata": {},
   "outputs": [],
   "source": [
    "# Loading in the data\n",
    "absa_results = pd.read_csv(os.path.join(DATA_FOLDER, ABSA_RESULTS_PATH))\n",
    "reviews = pd.read_pickle(os.path.join(DATA_FOLDER, REVIEWS_PATH))"
   ]
  },
  {
   "cell_type": "code",
   "execution_count": 9,
   "id": "4c747a40",
   "metadata": {},
   "outputs": [],
   "source": [
    "# dropping unnecessary column\n",
    "absa_results = absa_results.drop('Text', axis=1)"
   ]
  },
  {
   "cell_type": "code",
   "execution_count": 10,
   "id": "3cdc5eb5",
   "metadata": {},
   "outputs": [],
   "source": [
    "# setting row index as a column - useful later\n",
    "reviews['Row Index'] = reviews.index"
   ]
  },
  {
   "cell_type": "code",
   "execution_count": 11,
   "id": "43617cda",
   "metadata": {},
   "outputs": [],
   "source": [
    "# selecting important columns\n",
    "reviews_clean = reviews[['Beer Id','Brewery Id','Style','Abv','Date','User Id','Appearance','Aroma',\\\n",
    "                         'Palate','Taste','Overall','Rating','Text', 'Row Index']]"
   ]
  },
  {
   "cell_type": "code",
   "execution_count": 12,
   "id": "79f3ec1d",
   "metadata": {},
   "outputs": [],
   "source": [
    "# merging absa results\n",
    "reviews_clean = reviews_clean.merge(absa_results, on='Row Index')"
   ]
  },
  {
   "cell_type": "code",
   "execution_count": 13,
   "id": "3035139b",
   "metadata": {},
   "outputs": [],
   "source": [
    "# matching on User Id, Style and Abv\n",
    "reviews_cartesian = reviews_clean.merge(reviews_clean, on=['User Id','Style','Abv'], suffixes=('1', '2'))"
   ]
  },
  {
   "cell_type": "code",
   "execution_count": 14,
   "id": "3e72d283",
   "metadata": {},
   "outputs": [],
   "source": [
    "# filtering pairs where first one is absolutely better\n",
    "reviews_pairs = reviews_cartesian[(reviews_cartesian['Rating1'] > reviews_cartesian['Rating2']) & \\\n",
    "                                  (reviews_cartesian['Overall1'] > reviews_cartesian['Overall2']) & \\\n",
    "                                  (reviews_cartesian['Aroma1'] > reviews_cartesian['Aroma2']) & \\\n",
    "                                  (reviews_cartesian['Appearance1'] > reviews_cartesian['Appearance2']) & \\\n",
    "                                  (reviews_cartesian['Taste1'] > reviews_cartesian['Taste2']) & \\\n",
    "                                  (reviews_cartesian['Palate1'] > reviews_cartesian['Palate2'])].copy()"
   ]
  },
  {
   "cell_type": "code",
   "execution_count": 15,
   "id": "b809d3da",
   "metadata": {},
   "outputs": [],
   "source": [
    "# adding month and text length columns to filtered data\n",
    "reviews_pairs['Month1'] = reviews_pairs['Date1'].apply(lambda x: x.month)\n",
    "reviews_pairs['Month2'] = reviews_pairs['Date2'].apply(lambda x: x.month)\n",
    "reviews_pairs['Text Length1'] = reviews_pairs['Text1'].apply(len)\n",
    "reviews_pairs['Text Length2'] = reviews_pairs['Text2'].apply(len)"
   ]
  },
  {
   "cell_type": "code",
   "execution_count": 16,
   "id": "80fc6871",
   "metadata": {},
   "outputs": [],
   "source": [
    "winter_months = [1, 2, 3]\n",
    "spring_months = [4, 5, 6]\n",
    "summer_months = [7, 8, 9]\n",
    "autumn_months = [10, 11, 12]"
   ]
  },
  {
   "cell_type": "code",
   "execution_count": 17,
   "id": "586856f6",
   "metadata": {},
   "outputs": [],
   "source": [
    "# matching pairs on seasonality\n",
    "seasonal_pairs = reviews_pairs[\n",
    "            ((reviews_pairs['Month1'].isin(winter_months) & reviews_pairs['Month2'].isin(winter_months)) | \\\n",
    "             (reviews_pairs['Month1'].isin(spring_months) & reviews_pairs['Month2'].isin(spring_months)) | \\\n",
    "             (reviews_pairs['Month1'].isin(summer_months) & reviews_pairs['Month2'].isin(summer_months)) | \\\n",
    "             (reviews_pairs['Month1'].isin(autumn_months) & reviews_pairs['Month2'].isin(autumn_months)))\n",
    "                              ]"
   ]
  },
  {
   "cell_type": "code",
   "execution_count": 18,
   "id": "05723629",
   "metadata": {},
   "outputs": [],
   "source": [
    "matched_text_difference = 100\n",
    "maximum_text_size = 2000"
   ]
  },
  {
   "cell_type": "code",
   "execution_count": 19,
   "id": "e21e0fb2",
   "metadata": {},
   "outputs": [],
   "source": [
    "matched_len_reviews_pairs = seasonal_pairs[abs(seasonal_pairs['Text Length1'] - \\\n",
    "                                               seasonal_pairs['Text Length2']) < matched_text_difference]"
   ]
  },
  {
   "cell_type": "code",
   "execution_count": 20,
   "id": "b2f21cc1",
   "metadata": {},
   "outputs": [],
   "source": [
    "long_reviews = matched_len_reviews_pairs[(matched_len_reviews_pairs['Text Length1']> maximum_text_size) | \\\n",
    "                                           (matched_len_reviews_pairs['Text Length2']> maximum_text_size)]"
   ]
  },
  {
   "cell_type": "code",
   "execution_count": 21,
   "id": "c5cb9037",
   "metadata": {},
   "outputs": [
    {
     "name": "stdout",
     "output_type": "stream",
     "text": [
      "Matched review pairs shape after dropping too long texts: (61957, 53)\n"
     ]
    }
   ],
   "source": [
    "matched_pairs = matched_len_reviews_pairs.drop(index = long_reviews.index)\n",
    "print('Matched review pairs shape after dropping too long texts: {}'.format(matched_pairs.shape))"
   ]
  },
  {
   "cell_type": "code",
   "execution_count": 22,
   "id": "606db2c3",
   "metadata": {},
   "outputs": [
    {
     "name": "stdout",
     "output_type": "stream",
     "text": [
      "Matched winter review pairs shape: (14757, 53)\n",
      "Matched spring review pairs shape: (19234, 53)\n",
      "Matched summer review pairs shape: (14375, 53)\n",
      "Matched autumn review pairs shape: (13591, 53)\n"
     ]
    }
   ],
   "source": [
    "winter_pairs = matched_pairs[matched_pairs['Month1'].isin(winter_months)].copy()\n",
    "spring_pairs = matched_pairs[matched_pairs['Month1'].isin(spring_months)].copy()\n",
    "summer_pairs = matched_pairs[matched_pairs['Month1'].isin(summer_months)].copy()\n",
    "autumn_pairs = matched_pairs[matched_pairs['Month1'].isin(autumn_months)].copy()\n",
    "\n",
    "print('Matched winter review pairs shape: {}'.format(winter_pairs.shape))\n",
    "print('Matched spring review pairs shape: {}'.format(spring_pairs.shape))\n",
    "print('Matched summer review pairs shape: {}'.format(summer_pairs.shape))\n",
    "print('Matched autumn review pairs shape: {}'.format(autumn_pairs.shape))"
   ]
  },
  {
   "cell_type": "code",
   "execution_count": null,
   "id": "3cb51716",
   "metadata": {},
   "outputs": [],
   "source": []
  }
 ],
 "metadata": {
  "kernelspec": {
   "display_name": "Python 3 (ipykernel)",
   "language": "python",
   "name": "python3"
  },
  "language_info": {
   "codemirror_mode": {
    "name": "ipython",
    "version": 3
   },
   "file_extension": ".py",
   "mimetype": "text/x-python",
   "name": "python",
   "nbconvert_exporter": "python",
   "pygments_lexer": "ipython3",
   "version": "3.9.12"
  }
 },
 "nbformat": 4,
 "nbformat_minor": 5
}
