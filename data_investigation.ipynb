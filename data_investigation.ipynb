{
 "cells": [
  {
   "cell_type": "markdown",
   "id": "46b25452",
   "metadata": {},
   "source": [
    "# DATA INVESTIGATION\n",
    "    ## Analysis on BeerAdvocate\n",
    "        ### Handling missing values\n",
    "        ### Checking for data inconsistencies\n",
    "        ### Initial data analysis\n",
    "            #### Initial analysis on BeerTypes\n",
    "            #### Initial analysis on Grading columns\n",
    "            #### Initial analysis on grading over time\n",
    "                ##### Days of the week analysis\n",
    "                ##### Monthly analysis\n",
    "            "
   ]
  },
  {
   "cell_type": "code",
   "execution_count": 1,
   "id": "d72ab604",
   "metadata": {},
   "outputs": [],
   "source": [
    "import pandas as pd\n",
    "import seaborn as sns\n",
    "import matplotlib.pyplot as plt\n",
    "import scipy.stats"
   ]
  },
  {
   "cell_type": "markdown",
   "id": "9e524f0e",
   "metadata": {},
   "source": [
    "### Analysis on BeerAdvocate"
   ]
  },
  {
   "cell_type": "markdown",
   "id": "a3a3c606",
   "metadata": {},
   "source": [
    "Load data from pickles. To obtain pickles run the notebook _data_import.ipynb_"
   ]
  },
  {
   "cell_type": "code",
   "execution_count": 2,
   "id": "f7fe1569",
   "metadata": {},
   "outputs": [],
   "source": [
    "# load Beer Advocate data from pickles\n",
    "ratings = pd.read_pickle('./datasets/BeerAdvocate/ratings.pkl')\n",
    "reviews = pd.read_pickle('./datasets/BeerAdvocate/reviews.pkl')"
   ]
  },
  {
   "cell_type": "code",
   "execution_count": 3,
   "id": "3dce6083",
   "metadata": {
    "scrolled": false
   },
   "outputs": [
    {
     "name": "stdout",
     "output_type": "stream",
     "text": [
      "Ratings - Rows : 8393033, columns 17\n",
      "Reviews - Rows : 2589587, columns 17\n"
     ]
    },
    {
     "data": {
      "text/html": [
       "<div>\n",
       "<style scoped>\n",
       "    .dataframe tbody tr th:only-of-type {\n",
       "        vertical-align: middle;\n",
       "    }\n",
       "\n",
       "    .dataframe tbody tr th {\n",
       "        vertical-align: top;\n",
       "    }\n",
       "\n",
       "    .dataframe thead th {\n",
       "        text-align: right;\n",
       "    }\n",
       "</style>\n",
       "<table border=\"1\" class=\"dataframe\">\n",
       "  <thead>\n",
       "    <tr style=\"text-align: right;\">\n",
       "      <th></th>\n",
       "      <th>Beer Name</th>\n",
       "      <th>Beer Id</th>\n",
       "      <th>Brewery Name</th>\n",
       "      <th>Brewery Id</th>\n",
       "      <th>Style</th>\n",
       "      <th>Abv</th>\n",
       "      <th>Date</th>\n",
       "      <th>Username</th>\n",
       "      <th>User Id</th>\n",
       "      <th>Appearance</th>\n",
       "      <th>Aroma</th>\n",
       "      <th>Palate</th>\n",
       "      <th>Taste</th>\n",
       "      <th>Overall</th>\n",
       "      <th>Rating</th>\n",
       "      <th>Text</th>\n",
       "      <th>Review</th>\n",
       "    </tr>\n",
       "  </thead>\n",
       "  <tbody>\n",
       "    <tr>\n",
       "      <th>0</th>\n",
       "      <td>Régab</td>\n",
       "      <td>142544</td>\n",
       "      <td>Societe des Brasseries du Gabon (SOBRAGA)</td>\n",
       "      <td>37262</td>\n",
       "      <td>Euro Pale Lager</td>\n",
       "      <td>4.5</td>\n",
       "      <td>2015-08-20 12:00:00</td>\n",
       "      <td>nmann08</td>\n",
       "      <td>nmann08.184925</td>\n",
       "      <td>3.25</td>\n",
       "      <td>2.75</td>\n",
       "      <td>3.25</td>\n",
       "      <td>2.75</td>\n",
       "      <td>3.0</td>\n",
       "      <td>2.88</td>\n",
       "      <td>From a bottle, pours a piss yellow color with ...</td>\n",
       "      <td>None</td>\n",
       "    </tr>\n",
       "    <tr>\n",
       "      <th>1</th>\n",
       "      <td>Barelegs Brew</td>\n",
       "      <td>19590</td>\n",
       "      <td>Strangford Lough Brewing Company Ltd</td>\n",
       "      <td>10093</td>\n",
       "      <td>English Pale Ale</td>\n",
       "      <td>4.5</td>\n",
       "      <td>2009-02-20 12:00:00</td>\n",
       "      <td>StJamesGate</td>\n",
       "      <td>stjamesgate.163714</td>\n",
       "      <td>3.00</td>\n",
       "      <td>3.50</td>\n",
       "      <td>3.50</td>\n",
       "      <td>4.00</td>\n",
       "      <td>3.5</td>\n",
       "      <td>3.67</td>\n",
       "      <td>Pours pale copper with a thin head that quickl...</td>\n",
       "      <td>None</td>\n",
       "    </tr>\n",
       "  </tbody>\n",
       "</table>\n",
       "</div>"
      ],
      "text/plain": [
       "       Beer Name  Beer Id                               Brewery Name  \\\n",
       "0          Régab   142544  Societe des Brasseries du Gabon (SOBRAGA)   \n",
       "1  Barelegs Brew    19590       Strangford Lough Brewing Company Ltd   \n",
       "\n",
       "   Brewery Id             Style  Abv                Date     Username  \\\n",
       "0       37262   Euro Pale Lager  4.5 2015-08-20 12:00:00      nmann08   \n",
       "1       10093  English Pale Ale  4.5 2009-02-20 12:00:00  StJamesGate   \n",
       "\n",
       "              User Id  Appearance  Aroma  Palate  Taste  Overall  Rating  \\\n",
       "0      nmann08.184925        3.25   2.75    3.25   2.75      3.0    2.88   \n",
       "1  stjamesgate.163714        3.00   3.50    3.50   4.00      3.5    3.67   \n",
       "\n",
       "                                                Text Review  \n",
       "0  From a bottle, pours a piss yellow color with ...   None  \n",
       "1  Pours pale copper with a thin head that quickl...   None  "
      ]
     },
     "execution_count": 3,
     "metadata": {},
     "output_type": "execute_result"
    }
   ],
   "source": [
    "print('Ratings - Rows: {}, columns {}'.format(ratings.shape[0], ratings.shape[1]))\n",
    "print('Reviews - Rows: {}, columns {}'.format(reviews.shape[0], reviews.shape[1]))\n",
    "reviews.head(2)"
   ]
  },
  {
   "cell_type": "markdown",
   "id": "ff093d83",
   "metadata": {},
   "source": [
    "### Handling missing values\n",
    "\n",
    "We investigate missing values for ratings and reviews. The datapoint with uknown beer that is rated is invalid."
   ]
  },
  {
   "cell_type": "code",
   "execution_count": 4,
   "id": "7ea27670",
   "metadata": {},
   "outputs": [],
   "source": [
    "ratings = ratings[ratings['Beer Id'].notna()]\n",
    "reviews = reviews[reviews['Beer Id'].notna()]"
   ]
  },
  {
   "cell_type": "markdown",
   "id": "27550789",
   "metadata": {},
   "source": [
    "We always know who rated the beer and when the beer is rated : "
   ]
  },
  {
   "cell_type": "code",
   "execution_count": 5,
   "id": "7c3e4eca",
   "metadata": {},
   "outputs": [],
   "source": [
    "assert len(ratings) == len(ratings[ratings['User Id'].notna()])\n",
    "assert len(ratings) == len(ratings[ratings['Date'].notna()])\n",
    "\n",
    "assert len(reviews) == len(reviews[reviews['User Id'].notna()])\n",
    "assert len(reviews) == len(reviews[reviews['Date'].notna()])"
   ]
  },
  {
   "cell_type": "markdown",
   "id": "a0833898",
   "metadata": {},
   "source": [
    "##### How many ratings/reviews do not have grades for certain aspects, total rating or review?"
   ]
  },
  {
   "cell_type": "code",
   "execution_count": 6,
   "id": "c5194de7",
   "metadata": {},
   "outputs": [
    {
     "data": {
      "text/html": [
       "<style type=\"text/css\">\n",
       "</style>\n",
       "<table id=\"T_24a6a\">\n",
       "  <caption>Reviews :</caption>\n",
       "  <thead>\n",
       "    <tr>\n",
       "      <th class=\"blank level0\" >&nbsp;</th>\n",
       "      <th id=\"T_24a6a_level0_col0\" class=\"col_heading level0 col0\" >Percentage of present entries (%)</th>\n",
       "    </tr>\n",
       "    <tr>\n",
       "      <th class=\"index_name level0\" >Variables</th>\n",
       "      <th class=\"blank col0\" >&nbsp;</th>\n",
       "    </tr>\n",
       "  </thead>\n",
       "  <tbody>\n",
       "    <tr>\n",
       "      <th id=\"T_24a6a_level0_row0\" class=\"row_heading level0 row0\" >Appearance</th>\n",
       "      <td id=\"T_24a6a_row0_col0\" class=\"data row0 col0\" >98.763934</td>\n",
       "    </tr>\n",
       "    <tr>\n",
       "      <th id=\"T_24a6a_level0_row1\" class=\"row_heading level0 row1\" >Aroma</th>\n",
       "      <td id=\"T_24a6a_row1_col0\" class=\"data row1 col0\" >98.763934</td>\n",
       "    </tr>\n",
       "    <tr>\n",
       "      <th id=\"T_24a6a_level0_row2\" class=\"row_heading level0 row2\" >Palate</th>\n",
       "      <td id=\"T_24a6a_row2_col0\" class=\"data row2 col0\" >98.763934</td>\n",
       "    </tr>\n",
       "    <tr>\n",
       "      <th id=\"T_24a6a_level0_row3\" class=\"row_heading level0 row3\" >Taste</th>\n",
       "      <td id=\"T_24a6a_row3_col0\" class=\"data row3 col0\" >98.763934</td>\n",
       "    </tr>\n",
       "    <tr>\n",
       "      <th id=\"T_24a6a_level0_row4\" class=\"row_heading level0 row4\" >Overall</th>\n",
       "      <td id=\"T_24a6a_row4_col0\" class=\"data row4 col0\" >98.763934</td>\n",
       "    </tr>\n",
       "    <tr>\n",
       "      <th id=\"T_24a6a_level0_row5\" class=\"row_heading level0 row5\" >Rating</th>\n",
       "      <td id=\"T_24a6a_row5_col0\" class=\"data row5 col0\" >100.000000</td>\n",
       "    </tr>\n",
       "    <tr>\n",
       "      <th id=\"T_24a6a_level0_row6\" class=\"row_heading level0 row6\" >Text</th>\n",
       "      <td id=\"T_24a6a_row6_col0\" class=\"data row6 col0\" >100.000000</td>\n",
       "    </tr>\n",
       "  </tbody>\n",
       "</table>\n"
      ],
      "text/plain": [
       "<pandas.io.formats.style.Styler at 0x7feda0b538e0>"
      ]
     },
     "execution_count": 6,
     "metadata": {},
     "output_type": "execute_result"
    }
   ],
   "source": [
    "# reviws\n",
    "d = {'Percentage of present entries (%)': [100*len(reviews[reviews['Appearance'].notna()])/len(reviews),\n",
    "    100*len(reviews[reviews['Aroma'].notna()])/len(reviews), 100*len(reviews[reviews['Palate'].notna()])/len(reviews),\n",
    "    100*len(reviews[reviews['Taste'].notna()])/len(reviews), 100*len(reviews[reviews['Overall'].notna()])/len(reviews),\n",
    "    100*len(reviews[reviews['Rating'].notna()])/len(reviews), 100*len(reviews[reviews['Text'].notna()])/len(reviews),], \n",
    "     'Variables': ['Appearance','Aroma','Palate','Taste','Overall','Rating','Text']}\n",
    "\n",
    "# dataframe to display data\n",
    "power_stats_dataframe = pd.DataFrame.from_dict(data=d).set_index('Variables')\n",
    "power_stats_dataframe.style.set_caption('Reviews :')"
   ]
  },
  {
   "cell_type": "code",
   "execution_count": 7,
   "id": "237d01b9",
   "metadata": {},
   "outputs": [
    {
     "data": {
      "text/html": [
       "<style type=\"text/css\">\n",
       "</style>\n",
       "<table id=\"T_89c30\">\n",
       "  <caption>Ratings :</caption>\n",
       "  <thead>\n",
       "    <tr>\n",
       "      <th class=\"blank level0\" >&nbsp;</th>\n",
       "      <th id=\"T_89c30_level0_col0\" class=\"col_heading level0 col0\" >Percentage of present entries (%)</th>\n",
       "    </tr>\n",
       "    <tr>\n",
       "      <th class=\"index_name level0\" >Variables</th>\n",
       "      <th class=\"blank col0\" >&nbsp;</th>\n",
       "    </tr>\n",
       "  </thead>\n",
       "  <tbody>\n",
       "    <tr>\n",
       "      <th id=\"T_89c30_level0_row0\" class=\"row_heading level0 row0\" >Appearance</th>\n",
       "      <td id=\"T_89c30_row0_col0\" class=\"data row0 col0\" >56.828986</td>\n",
       "    </tr>\n",
       "    <tr>\n",
       "      <th id=\"T_89c30_level0_row1\" class=\"row_heading level0 row1\" >Aroma</th>\n",
       "      <td id=\"T_89c30_row1_col0\" class=\"data row1 col0\" >56.828986</td>\n",
       "    </tr>\n",
       "    <tr>\n",
       "      <th id=\"T_89c30_level0_row2\" class=\"row_heading level0 row2\" >Palate</th>\n",
       "      <td id=\"T_89c30_row2_col0\" class=\"data row2 col0\" >56.828986</td>\n",
       "    </tr>\n",
       "    <tr>\n",
       "      <th id=\"T_89c30_level0_row3\" class=\"row_heading level0 row3\" >Taste</th>\n",
       "      <td id=\"T_89c30_row3_col0\" class=\"data row3 col0\" >56.828986</td>\n",
       "    </tr>\n",
       "    <tr>\n",
       "      <th id=\"T_89c30_level0_row4\" class=\"row_heading level0 row4\" >Overall</th>\n",
       "      <td id=\"T_89c30_row4_col0\" class=\"data row4 col0\" >56.828986</td>\n",
       "    </tr>\n",
       "    <tr>\n",
       "      <th id=\"T_89c30_level0_row5\" class=\"row_heading level0 row5\" >Rating</th>\n",
       "      <td id=\"T_89c30_row5_col0\" class=\"data row5 col0\" >100.000000</td>\n",
       "    </tr>\n",
       "    <tr>\n",
       "      <th id=\"T_89c30_level0_row6\" class=\"row_heading level0 row6\" >Text</th>\n",
       "      <td id=\"T_89c30_row6_col0\" class=\"data row6 col0\" >100.000000</td>\n",
       "    </tr>\n",
       "  </tbody>\n",
       "</table>\n"
      ],
      "text/plain": [
       "<pandas.io.formats.style.Styler at 0x7feaf1bca520>"
      ]
     },
     "execution_count": 7,
     "metadata": {},
     "output_type": "execute_result"
    }
   ],
   "source": [
    "# ratings\n",
    "d = {'Percentage of present entries (%)': [100*len(ratings[ratings['Appearance'].notna()])/len(ratings),\n",
    "    100*len(ratings[ratings['Aroma'].notna()])/len(ratings), 100*len(ratings[ratings['Palate'].notna()])/len(ratings),\n",
    "    100*len(ratings[ratings['Taste'].notna()])/len(ratings), 100*len(ratings[ratings['Overall'].notna()])/len(ratings),\n",
    "    100*len(ratings[ratings['Rating'].notna()])/len(ratings), 100*len(ratings[ratings['Text'].notna()])/len(ratings),], \n",
    "     'Variables': ['Appearance','Aroma','Palate','Taste','Overall','Rating','Text']}\n",
    "\n",
    "# dataframe to display data\n",
    "power_stats_dataframe = pd.DataFrame.from_dict(data=d).set_index('Variables')\n",
    "power_stats_dataframe.style.set_caption('Ratings :')"
   ]
  },
  {
   "cell_type": "markdown",
   "id": "978151a9",
   "metadata": {},
   "source": [
    "The presence of non-values for Appearance, Aroma, Palate, Taste and Overall are the same. Do they correspond to the same datapoints?"
   ]
  },
  {
   "cell_type": "code",
   "execution_count": 8,
   "id": "7848b23e",
   "metadata": {},
   "outputs": [
    {
     "name": "stdout",
     "output_type": "stream",
     "text": [
      "Ratings - Correspond to the same datapoints: \n"
     ]
    },
    {
     "data": {
      "text/plain": [
       "True"
      ]
     },
     "execution_count": 8,
     "metadata": {},
     "output_type": "execute_result"
    }
   ],
   "source": [
    "print('Ratings - Correspond to the same datapoints: ')\n",
    "(ratings[ratings['Appearance'].isna()].equals(ratings[ratings['Aroma'].isna()])) and \\\n",
    "(ratings[ratings['Appearance'].isna()].equals(ratings[ratings['Taste'].isna()])) and \\\n",
    "(ratings[ratings['Appearance'].isna()].equals(ratings[ratings['Overall'].isna()]))"
   ]
  },
  {
   "cell_type": "code",
   "execution_count": 9,
   "id": "41ff4fb6",
   "metadata": {
    "scrolled": true
   },
   "outputs": [
    {
     "name": "stdout",
     "output_type": "stream",
     "text": [
      "Reviews - Correspond to the same datapoints: \n"
     ]
    },
    {
     "data": {
      "text/plain": [
       "True"
      ]
     },
     "execution_count": 9,
     "metadata": {},
     "output_type": "execute_result"
    }
   ],
   "source": [
    "print('Reviews - Correspond to the same datapoints: ')\n",
    "(reviews[reviews['Appearance'].isna()].equals(reviews[reviews['Aroma'].isna()])) and \\\n",
    "(reviews[reviews['Appearance'].isna()].equals(reviews[reviews['Taste'].isna()])) and \\\n",
    "(reviews[reviews['Appearance'].isna()].equals(reviews[reviews['Overall'].isna()]))"
   ]
  },
  {
   "cell_type": "markdown",
   "id": "9f4547a7",
   "metadata": {},
   "source": [
    "Therefore, the reviews that have an aspect missing, have all the aspects missing.\n",
    "Since there are 1.24% of missing aspects in the Reviews and  43.18% of missing aspects in the Ratings, we won't discard them, but we will be aware of them."
   ]
  },
  {
   "cell_type": "markdown",
   "id": "0c27a3ba",
   "metadata": {},
   "source": [
    "### Checking for data inconsistencies"
   ]
  },
  {
   "cell_type": "markdown",
   "id": "7f77a3dd",
   "metadata": {},
   "source": [
    "Check for duplicates in ratings and reviews."
   ]
  },
  {
   "cell_type": "code",
   "execution_count": 44,
   "id": "67241b84",
   "metadata": {},
   "outputs": [
    {
     "name": "stdout",
     "output_type": "stream",
     "text": [
      "Duplicated rows in ratings : 0\n",
      "Duplicated rows in reviews : 0\n"
     ]
    }
   ],
   "source": [
    "print('Duplicated rows in ratings : {}'.format(sum(ratings.duplicated())))\n",
    "print('Duplicated rows in reviews : {}'.format(sum(reviews.duplicated())))"
   ]
  },
  {
   "cell_type": "markdown",
   "id": "4ada9c1d",
   "metadata": {},
   "source": [
    "Are there reviews in the intersection of ratings and reviws dataframes?"
   ]
  },
  {
   "cell_type": "code",
   "execution_count": 65,
   "id": "24e602f5",
   "metadata": {},
   "outputs": [],
   "source": [
    "# Since there are no duplicates in both dataframes, we compare the len of the intersection and the length of \n",
    "# the smaller dataframe. We obtain the intersection by merging between ratings and reviews\n",
    "# We exclude only Review column for merge since it's None in reviews\n",
    "assert len(ratings.merge(reviews, how='inner', on=ratings.columns.to_list()[:16])) == len(reviews)"
   ]
  },
  {
   "cell_type": "markdown",
   "id": "56c72e9f",
   "metadata": {},
   "source": [
    "Since the lengths are the same, we conclude the reviews dataframe is strict subset of ratings dataframe and we continue the analysis only for ratings dataframe."
   ]
  },
  {
   "cell_type": "markdown",
   "id": "f00dd8e2",
   "metadata": {},
   "source": [
    "Are there multiple ratings from the same user for the same beer? "
   ]
  },
  {
   "cell_type": "code",
   "execution_count": 10,
   "id": "b3b9f17d",
   "metadata": {},
   "outputs": [
    {
     "name": "stdout",
     "output_type": "stream",
     "text": [
      "No repetitions for the same beer and user\n"
     ]
    }
   ],
   "source": [
    "multiple_ratings = ratings.groupby(['Beer Id','User Id']).agg('count') > 1\n",
    "if sum(multiple_ratings.any()) == 0:\n",
    "    print('No repetitions for the same beer and user')"
   ]
  },
  {
   "cell_type": "markdown",
   "id": "a850316e",
   "metadata": {},
   "source": [
    "Is there an invalid rating (not in range 1-5)?"
   ]
  },
  {
   "cell_type": "code",
   "execution_count": 11,
   "id": "a3fc0236",
   "metadata": {},
   "outputs": [],
   "source": [
    "assert len(ratings[(ratings['Appearance'] < 1) | (ratings['Appearance'] > 5)]) == 0\n",
    "assert len(ratings[(ratings['Aroma'] < 1) | (ratings['Aroma'] > 5)]) == 0\n",
    "assert len(ratings[(ratings['Taste'] < 1) | (ratings['Taste'] > 5)]) == 0\n",
    "assert len(ratings[(ratings['Overall'] < 1) | (ratings['Overall'] > 5)]) == 0\n",
    "assert len(ratings[(ratings['Rating'] < 1) | (ratings['Rating'] > 5)]) == 0"
   ]
  },
  {
   "cell_type": "markdown",
   "id": "b5b8d0be",
   "metadata": {},
   "source": [
    "Is there invalid ABVs?"
   ]
  },
  {
   "cell_type": "code",
   "execution_count": 27,
   "id": "21fd6c91",
   "metadata": {},
   "outputs": [],
   "source": [
    "assert len(ratings[ratings['Abv'] < 0]) == 0\n",
    "assert len(ratings[ratings['Abv'] > 70]) == 0"
   ]
  },
  {
   "cell_type": "markdown",
   "id": "30b83595",
   "metadata": {},
   "source": [
    "There are no inconsistencies in BeerAdvocate datasets."
   ]
  },
  {
   "cell_type": "markdown",
   "id": "c94bc823",
   "metadata": {},
   "source": [
    "## Initial data analysis"
   ]
  },
  {
   "cell_type": "markdown",
   "id": "3a0407eb",
   "metadata": {},
   "source": [
    "#### Initial analysis on Style\n",
    "Each beer has its Style. Let's group the beers based on style and have a glane at the data."
   ]
  },
  {
   "cell_type": "code",
   "execution_count": 71,
   "id": "a78f9896",
   "metadata": {
    "scrolled": false
   },
   "outputs": [
    {
     "data": {
      "text/html": [
       "<div>\n",
       "<style scoped>\n",
       "    .dataframe tbody tr th:only-of-type {\n",
       "        vertical-align: middle;\n",
       "    }\n",
       "\n",
       "    .dataframe tbody tr th {\n",
       "        vertical-align: top;\n",
       "    }\n",
       "\n",
       "    .dataframe thead th {\n",
       "        text-align: right;\n",
       "    }\n",
       "</style>\n",
       "<table border=\"1\" class=\"dataframe\">\n",
       "  <thead>\n",
       "    <tr style=\"text-align: right;\">\n",
       "      <th></th>\n",
       "      <th>Beer Id</th>\n",
       "      <th>Brewery Id</th>\n",
       "      <th>Abv</th>\n",
       "      <th>Appearance</th>\n",
       "      <th>Aroma</th>\n",
       "      <th>Palate</th>\n",
       "      <th>Taste</th>\n",
       "      <th>Overall</th>\n",
       "      <th>Rating</th>\n",
       "    </tr>\n",
       "    <tr>\n",
       "      <th>Style</th>\n",
       "      <th></th>\n",
       "      <th></th>\n",
       "      <th></th>\n",
       "      <th></th>\n",
       "      <th></th>\n",
       "      <th></th>\n",
       "      <th></th>\n",
       "      <th></th>\n",
       "      <th></th>\n",
       "    </tr>\n",
       "  </thead>\n",
       "  <tbody>\n",
       "    <tr>\n",
       "      <th>Light Lager</th>\n",
       "      <td>18038.509265</td>\n",
       "      <td>1122.64075</td>\n",
       "      <td>4.128620</td>\n",
       "      <td>2.483369</td>\n",
       "      <td>2.243034</td>\n",
       "      <td>2.395945</td>\n",
       "      <td>2.335784</td>\n",
       "      <td>2.551422</td>\n",
       "      <td>2.220336</td>\n",
       "    </tr>\n",
       "    <tr>\n",
       "      <th>Low Alcohol Beer</th>\n",
       "      <td>34456.858252</td>\n",
       "      <td>2176.660907</td>\n",
       "      <td>0.591579</td>\n",
       "      <td>2.924174</td>\n",
       "      <td>2.541306</td>\n",
       "      <td>2.551239</td>\n",
       "      <td>2.498918</td>\n",
       "      <td>2.579170</td>\n",
       "      <td>2.454067</td>\n",
       "    </tr>\n",
       "    <tr>\n",
       "      <th>American Malt Liquor</th>\n",
       "      <td>36197.75599</td>\n",
       "      <td>1835.28412</td>\n",
       "      <td>7.254881</td>\n",
       "      <td>2.801211</td>\n",
       "      <td>2.485947</td>\n",
       "      <td>2.647849</td>\n",
       "      <td>2.557949</td>\n",
       "      <td>2.638730</td>\n",
       "      <td>2.429489</td>\n",
       "    </tr>\n",
       "    <tr>\n",
       "      <th>American Adjunct Lager</th>\n",
       "      <td>11525.757261</td>\n",
       "      <td>1730.614414</td>\n",
       "      <td>4.856284</td>\n",
       "      <td>2.834799</td>\n",
       "      <td>2.557520</td>\n",
       "      <td>2.768130</td>\n",
       "      <td>2.722332</td>\n",
       "      <td>2.881181</td>\n",
       "      <td>2.622378</td>\n",
       "    </tr>\n",
       "    <tr>\n",
       "      <th>Euro Strong Lager</th>\n",
       "      <td>34759.287774</td>\n",
       "      <td>4025.544608</td>\n",
       "      <td>8.270904</td>\n",
       "      <td>3.209042</td>\n",
       "      <td>2.900377</td>\n",
       "      <td>2.975996</td>\n",
       "      <td>2.864639</td>\n",
       "      <td>2.896448</td>\n",
       "      <td>2.905391</td>\n",
       "    </tr>\n",
       "    <tr>\n",
       "      <th>...</th>\n",
       "      <td>...</td>\n",
       "      <td>...</td>\n",
       "      <td>...</td>\n",
       "      <td>...</td>\n",
       "      <td>...</td>\n",
       "      <td>...</td>\n",
       "      <td>...</td>\n",
       "      <td>...</td>\n",
       "      <td>...</td>\n",
       "    </tr>\n",
       "    <tr>\n",
       "      <th>Russian Imperial Stout</th>\n",
       "      <td>52437.259287</td>\n",
       "      <td>7158.319342</td>\n",
       "      <td>10.574000</td>\n",
       "      <td>4.238174</td>\n",
       "      <td>4.136580</td>\n",
       "      <td>4.143917</td>\n",
       "      <td>4.186838</td>\n",
       "      <td>4.132943</td>\n",
       "      <td>4.189310</td>\n",
       "    </tr>\n",
       "    <tr>\n",
       "      <th>American Double / Imperial IPA</th>\n",
       "      <td>84052.38902</td>\n",
       "      <td>11564.621192</td>\n",
       "      <td>9.092228</td>\n",
       "      <td>4.155796</td>\n",
       "      <td>4.158329</td>\n",
       "      <td>4.121966</td>\n",
       "      <td>4.166498</td>\n",
       "      <td>4.135216</td>\n",
       "      <td>4.163593</td>\n",
       "    </tr>\n",
       "    <tr>\n",
       "      <th>Quadrupel (Quad)</th>\n",
       "      <td>44154.849822</td>\n",
       "      <td>4787.733191</td>\n",
       "      <td>10.706392</td>\n",
       "      <td>4.136286</td>\n",
       "      <td>4.147425</td>\n",
       "      <td>4.132461</td>\n",
       "      <td>4.205725</td>\n",
       "      <td>4.137940</td>\n",
       "      <td>4.199219</td>\n",
       "    </tr>\n",
       "    <tr>\n",
       "      <th>Gueuze</th>\n",
       "      <td>39308.794016</td>\n",
       "      <td>5173.434145</td>\n",
       "      <td>5.892755</td>\n",
       "      <td>4.165865</td>\n",
       "      <td>4.225699</td>\n",
       "      <td>4.190193</td>\n",
       "      <td>4.250202</td>\n",
       "      <td>4.223992</td>\n",
       "      <td>4.276374</td>\n",
       "    </tr>\n",
       "    <tr>\n",
       "      <th>American Double / Imperial Stout</th>\n",
       "      <td>86105.248854</td>\n",
       "      <td>11410.599618</td>\n",
       "      <td>11.206646</td>\n",
       "      <td>4.277000</td>\n",
       "      <td>4.253963</td>\n",
       "      <td>4.215883</td>\n",
       "      <td>4.269088</td>\n",
       "      <td>4.229748</td>\n",
       "      <td>4.269590</td>\n",
       "    </tr>\n",
       "  </tbody>\n",
       "</table>\n",
       "<p>104 rows × 9 columns</p>\n",
       "</div>"
      ],
      "text/plain": [
       "                                       Beer Id    Brewery Id        Abv  \\\n",
       "Style                                                                     \n",
       "Light Lager                       18038.509265    1122.64075   4.128620   \n",
       "Low Alcohol Beer                  34456.858252   2176.660907   0.591579   \n",
       "American Malt Liquor               36197.75599    1835.28412   7.254881   \n",
       "American Adjunct Lager            11525.757261   1730.614414   4.856284   \n",
       "Euro Strong Lager                 34759.287774   4025.544608   8.270904   \n",
       "...                                        ...           ...        ...   \n",
       "Russian Imperial Stout            52437.259287   7158.319342  10.574000   \n",
       "American Double / Imperial IPA     84052.38902  11564.621192   9.092228   \n",
       "Quadrupel (Quad)                  44154.849822   4787.733191  10.706392   \n",
       "Gueuze                            39308.794016   5173.434145   5.892755   \n",
       "American Double / Imperial Stout  86105.248854  11410.599618  11.206646   \n",
       "\n",
       "                                  Appearance     Aroma    Palate     Taste  \\\n",
       "Style                                                                        \n",
       "Light Lager                         2.483369  2.243034  2.395945  2.335784   \n",
       "Low Alcohol Beer                    2.924174  2.541306  2.551239  2.498918   \n",
       "American Malt Liquor                2.801211  2.485947  2.647849  2.557949   \n",
       "American Adjunct Lager              2.834799  2.557520  2.768130  2.722332   \n",
       "Euro Strong Lager                   3.209042  2.900377  2.975996  2.864639   \n",
       "...                                      ...       ...       ...       ...   \n",
       "Russian Imperial Stout              4.238174  4.136580  4.143917  4.186838   \n",
       "American Double / Imperial IPA      4.155796  4.158329  4.121966  4.166498   \n",
       "Quadrupel (Quad)                    4.136286  4.147425  4.132461  4.205725   \n",
       "Gueuze                              4.165865  4.225699  4.190193  4.250202   \n",
       "American Double / Imperial Stout    4.277000  4.253963  4.215883  4.269088   \n",
       "\n",
       "                                   Overall    Rating  \n",
       "Style                                                 \n",
       "Light Lager                       2.551422  2.220336  \n",
       "Low Alcohol Beer                  2.579170  2.454067  \n",
       "American Malt Liquor              2.638730  2.429489  \n",
       "American Adjunct Lager            2.881181  2.622378  \n",
       "Euro Strong Lager                 2.896448  2.905391  \n",
       "...                                    ...       ...  \n",
       "Russian Imperial Stout            4.132943  4.189310  \n",
       "American Double / Imperial IPA    4.135216  4.163593  \n",
       "Quadrupel (Quad)                  4.137940  4.199219  \n",
       "Gueuze                            4.223992  4.276374  \n",
       "American Double / Imperial Stout  4.229748  4.269590  \n",
       "\n",
       "[104 rows x 9 columns]"
      ]
     },
     "execution_count": 71,
     "metadata": {},
     "output_type": "execute_result"
    }
   ],
   "source": [
    "# group by styles and take means (meaningful for given grades)\n",
    "ratings_by_style = ratings.groupby('Style').mean().sort_values('Overall')\n",
    "ratings_by_style"
   ]
  },
  {
   "cell_type": "markdown",
   "id": "73283234",
   "metadata": {},
   "source": [
    "There are 104 beer styles. \n",
    "It seems that better rated beers have higher ABV. We can execute further analysis to conclude it."
   ]
  },
  {
   "cell_type": "code",
   "execution_count": 163,
   "id": "0a872994",
   "metadata": {},
   "outputs": [
    {
     "name": "stdout",
     "output_type": "stream",
     "text": [
      "Top rated mean of ABV : 5.6939 %\n",
      "Bottom rated mean of ABV : 7.3981 %\n"
     ]
    }
   ],
   "source": [
    "# top half styles (by Overall grade)\n",
    "ratings_style_head = ratings_by_style.head(52)\n",
    "# bottom half styles (by Overall grade)\n",
    "ratings_style_tail = ratings_by_style.tail(52)\n",
    "# compare alcholol levels for top and bottom halves\n",
    "print('Top rated mean of ABV : {:.4f} %'.format(reviews_style_head['Abv'].mean()))\n",
    "print('Bottom rated mean of ABV : {:.4f} %'.format(reviews_style_tail['Abv'].mean()))"
   ]
  },
  {
   "cell_type": "markdown",
   "id": "9edb7cca",
   "metadata": {},
   "source": [
    "It seems like the beers with higher ABV are more liked. We execute the test to compare the findings. Populations are bottom ABV and top ABV halves and we compare are the means of the overall ratings different for these populations."
   ]
  },
  {
   "cell_type": "code",
   "execution_count": 72,
   "id": "1d18e560",
   "metadata": {},
   "outputs": [
    {
     "data": {
      "text/plain": [
       "Ttest_indResult(statistic=-3.545907935145777, pvalue=0.000603427706744739)"
      ]
     },
     "execution_count": 72,
     "metadata": {},
     "output_type": "execute_result"
    }
   ],
   "source": [
    "# is there a difference in ratings between beers with lower and high alcohol levels\n",
    "ratings_by_style = ratings.groupby('Style').mean().sort_values('Abv')\n",
    "# less alcohol\n",
    "ratings_style_head = ratings_by_style.head(52)\n",
    "# more alcohol\n",
    "ratings_style_tail = ratings_by_style.tail(52)\n",
    "t_indep = scipy.stats.ttest_ind(ratings_style_head['Overall'], ratings_style_tail['Overall'], equal_var=False)\n",
    "t_indep"
   ]
  },
  {
   "cell_type": "markdown",
   "id": "517ca5c6",
   "metadata": {},
   "source": [
    "We reject the null hypothesis the means are the same. Since the test statistic is negative and the first group is the group with lower ABV, we conclude that beers with higher ABV obtain better ratings. "
   ]
  },
  {
   "cell_type": "markdown",
   "id": "7956611c",
   "metadata": {},
   "source": [
    "#### Initial analysis on Grading columns\n",
    "\n",
    "People rated different aspects of beers, namely appearance, aroma, palate, taste and overall. We visually inspect what are the distributions of grades. We show only granularity by full grades, since people more rarely gave grades which end on 0.25 or 0.75."
   ]
  },
  {
   "cell_type": "code",
   "execution_count": 74,
   "id": "1707bc4b",
   "metadata": {
    "scrolled": true
   },
   "outputs": [
    {
     "name": "stdout",
     "output_type": "stream",
     "text": [
      "Index(['Appearance', 'Aroma', 'Palate', 'Taste', 'Overall', 'Rating'], dtype='object')\n"
     ]
    }
   ],
   "source": [
    "grading_columns = ratings.columns[9:15]\n",
    "print(grading_columns)"
   ]
  },
  {
   "cell_type": "code",
   "execution_count": 75,
   "id": "5fec6624",
   "metadata": {
    "scrolled": true
   },
   "outputs": [
    {
     "data": {
      "image/png": "[encoded data removed]",
      "text/plain": [
       "<Figure size 1100x1100 with 6 Axes>"
      ]
     },
     "metadata": {},
     "output_type": "display_data"
    }
   ],
   "source": [
    "# one figure with multiple axes\n",
    "fig, axes = plt.subplots(3,2)\n",
    "    \n",
    "for grading_index in range(len(grading_columns)):\n",
    "    sns.histplot(ax=axes[grading_index%3, grading_index//3], data = ratings[grading_columns[grading_index]], discrete=True)\n",
    "    \n",
    "\n",
    "# set figure size\n",
    "fig.set_size_inches(11, 11)\n",
    "\n",
    "# adjust spacing\n",
    "plt.subplots_adjust(left=0, bottom=0, right=1, top=1, wspace=0.2, hspace=0.4)"
   ]
  },
  {
   "cell_type": "markdown",
   "id": "0543a9eb",
   "metadata": {},
   "source": [
    "#### Initial analysis on grading over time"
   ]
  },
  {
   "cell_type": "markdown",
   "id": "aa7b5876",
   "metadata": {},
   "source": [
    "##### Days of the week analysis"
   ]
  },
  {
   "cell_type": "code",
   "execution_count": 77,
   "id": "863e4e68",
   "metadata": {},
   "outputs": [],
   "source": [
    "ratings['weekday'] = ratings['Date'].apply(lambda x: x.weekday())"
   ]
  },
  {
   "cell_type": "code",
   "execution_count": 78,
   "id": "fdb1e7f4",
   "metadata": {},
   "outputs": [
    {
     "data": {
      "text/plain": [
       "<AxesSubplot:xlabel='weekday', ylabel='Count'>"
      ]
     },
     "execution_count": 78,
     "metadata": {},
     "output_type": "execute_result"
    },
    {
     "data": {
      "image/png": "[encoded data removed]",
      "text/plain": [
       "<Figure size 640x480 with 1 Axes>"
      ]
     },
     "metadata": {},
     "output_type": "display_data"
    }
   ],
   "source": [
    "sns.histplot(data = ratings['weekday'], discrete=True)"
   ]
  },
  {
   "cell_type": "code",
   "execution_count": 79,
   "id": "9bc68d33",
   "metadata": {},
   "outputs": [
    {
     "data": {
      "text/plain": [
       "<AxesSubplot:xlabel='weekday'>"
      ]
     },
     "execution_count": 79,
     "metadata": {},
     "output_type": "execute_result"
    },
    {
     "data": {
      "image/png": "[encoded data removed]",
      "text/plain": [
       "<Figure size 640x480 with 1 Axes>"
      ]
     },
     "metadata": {},
     "output_type": "display_data"
    }
   ],
   "source": [
    "sns.lineplot(data = ratings.groupby('weekday').size())"
   ]
  },
  {
   "cell_type": "code",
   "execution_count": 81,
   "id": "09aa8a47",
   "metadata": {},
   "outputs": [
    {
     "name": "stdout",
     "output_type": "stream",
     "text": [
      "Sunday : 1446787\n",
      "Saturday : 1343168\n",
      "Tuesday : 1068373\n"
     ]
    }
   ],
   "source": [
    "print ('Sunday : {}'.format((ratings['weekday']==6).sum()))\n",
    "print ('Saturday : {}'.format((ratings['weekday']==5).sum()))\n",
    "print ('Tuesday : {}'.format((ratings['weekday']==2).sum()))"
   ]
  },
  {
   "cell_type": "markdown",
   "id": "852ccd03",
   "metadata": {},
   "source": [
    "## Todo : comment differences between Tuesday and Weekend"
   ]
  },
  {
   "cell_type": "code",
   "execution_count": 89,
   "id": "0ed0316a",
   "metadata": {},
   "outputs": [
    {
     "data": {
      "text/html": [
       "<div>\n",
       "<style scoped>\n",
       "    .dataframe tbody tr th:only-of-type {\n",
       "        vertical-align: middle;\n",
       "    }\n",
       "\n",
       "    .dataframe tbody tr th {\n",
       "        vertical-align: top;\n",
       "    }\n",
       "\n",
       "    .dataframe thead th {\n",
       "        text-align: right;\n",
       "    }\n",
       "</style>\n",
       "<table border=\"1\" class=\"dataframe\">\n",
       "  <thead>\n",
       "    <tr style=\"text-align: right;\">\n",
       "      <th></th>\n",
       "      <th>Beer Id</th>\n",
       "      <th>Brewery Id</th>\n",
       "      <th>Abv</th>\n",
       "      <th>Appearance</th>\n",
       "      <th>Aroma</th>\n",
       "      <th>Palate</th>\n",
       "      <th>Taste</th>\n",
       "      <th>Overall</th>\n",
       "      <th>Rating</th>\n",
       "      <th>month</th>\n",
       "    </tr>\n",
       "    <tr>\n",
       "      <th>weekday</th>\n",
       "      <th></th>\n",
       "      <th></th>\n",
       "      <th></th>\n",
       "      <th></th>\n",
       "      <th></th>\n",
       "      <th></th>\n",
       "      <th></th>\n",
       "      <th></th>\n",
       "      <th></th>\n",
       "      <th></th>\n",
       "    </tr>\n",
       "  </thead>\n",
       "  <tbody>\n",
       "    <tr>\n",
       "      <th>0</th>\n",
       "      <td>67228.105912</td>\n",
       "      <td>9320.40559</td>\n",
       "      <td>7.383152</td>\n",
       "      <td>3.937552</td>\n",
       "      <td>3.874968</td>\n",
       "      <td>3.869142</td>\n",
       "      <td>3.905575</td>\n",
       "      <td>3.902595</td>\n",
       "      <td>3.891265</td>\n",
       "      <td>6.558802</td>\n",
       "    </tr>\n",
       "    <tr>\n",
       "      <th>1</th>\n",
       "      <td>63460.12543</td>\n",
       "      <td>8731.869188</td>\n",
       "      <td>7.329286</td>\n",
       "      <td>3.931138</td>\n",
       "      <td>3.865280</td>\n",
       "      <td>3.859874</td>\n",
       "      <td>3.896549</td>\n",
       "      <td>3.896102</td>\n",
       "      <td>3.881024</td>\n",
       "      <td>6.637483</td>\n",
       "    </tr>\n",
       "    <tr>\n",
       "      <th>2</th>\n",
       "      <td>63338.322335</td>\n",
       "      <td>8675.241959</td>\n",
       "      <td>7.311374</td>\n",
       "      <td>3.930138</td>\n",
       "      <td>3.862899</td>\n",
       "      <td>3.857302</td>\n",
       "      <td>3.895105</td>\n",
       "      <td>3.895302</td>\n",
       "      <td>3.876695</td>\n",
       "      <td>6.572659</td>\n",
       "    </tr>\n",
       "    <tr>\n",
       "      <th>3</th>\n",
       "      <td>64220.774939</td>\n",
       "      <td>8771.7015</td>\n",
       "      <td>7.312582</td>\n",
       "      <td>3.935856</td>\n",
       "      <td>3.866054</td>\n",
       "      <td>3.862548</td>\n",
       "      <td>3.899429</td>\n",
       "      <td>3.898606</td>\n",
       "      <td>3.880521</td>\n",
       "      <td>6.544876</td>\n",
       "    </tr>\n",
       "    <tr>\n",
       "      <th>4</th>\n",
       "      <td>66494.580997</td>\n",
       "      <td>9015.858125</td>\n",
       "      <td>7.302453</td>\n",
       "      <td>3.935914</td>\n",
       "      <td>3.865647</td>\n",
       "      <td>3.861857</td>\n",
       "      <td>3.899688</td>\n",
       "      <td>3.897734</td>\n",
       "      <td>3.880269</td>\n",
       "      <td>6.529164</td>\n",
       "    </tr>\n",
       "    <tr>\n",
       "      <th>5</th>\n",
       "      <td>70126.041039</td>\n",
       "      <td>9523.566921</td>\n",
       "      <td>7.317608</td>\n",
       "      <td>3.944233</td>\n",
       "      <td>3.874182</td>\n",
       "      <td>3.872695</td>\n",
       "      <td>3.910210</td>\n",
       "      <td>3.904607</td>\n",
       "      <td>3.882639</td>\n",
       "      <td>6.448879</td>\n",
       "    </tr>\n",
       "    <tr>\n",
       "      <th>6</th>\n",
       "      <td>70313.257846</td>\n",
       "      <td>9593.832208</td>\n",
       "      <td>7.346891</td>\n",
       "      <td>3.941897</td>\n",
       "      <td>3.874633</td>\n",
       "      <td>3.872914</td>\n",
       "      <td>3.911457</td>\n",
       "      <td>3.905648</td>\n",
       "      <td>3.881398</td>\n",
       "      <td>6.396725</td>\n",
       "    </tr>\n",
       "  </tbody>\n",
       "</table>\n",
       "</div>"
      ],
      "text/plain": [
       "              Beer Id   Brewery Id       Abv  Appearance     Aroma    Palate  \\\n",
       "weekday                                                                        \n",
       "0        67228.105912   9320.40559  7.383152    3.937552  3.874968  3.869142   \n",
       "1         63460.12543  8731.869188  7.329286    3.931138  3.865280  3.859874   \n",
       "2        63338.322335  8675.241959  7.311374    3.930138  3.862899  3.857302   \n",
       "3        64220.774939    8771.7015  7.312582    3.935856  3.866054  3.862548   \n",
       "4        66494.580997  9015.858125  7.302453    3.935914  3.865647  3.861857   \n",
       "5        70126.041039  9523.566921  7.317608    3.944233  3.874182  3.872695   \n",
       "6        70313.257846  9593.832208  7.346891    3.941897  3.874633  3.872914   \n",
       "\n",
       "            Taste   Overall    Rating     month  \n",
       "weekday                                          \n",
       "0        3.905575  3.902595  3.891265  6.558802  \n",
       "1        3.896549  3.896102  3.881024  6.637483  \n",
       "2        3.895105  3.895302  3.876695  6.572659  \n",
       "3        3.899429  3.898606  3.880521  6.544876  \n",
       "4        3.899688  3.897734  3.880269  6.529164  \n",
       "5        3.910210  3.904607  3.882639  6.448879  \n",
       "6        3.911457  3.905648  3.881398  6.396725  "
      ]
     },
     "execution_count": 89,
     "metadata": {},
     "output_type": "execute_result"
    }
   ],
   "source": [
    "ratings_by_weekday = ratings.groupby('weekday').mean()\n",
    "ratings_by_weekday"
   ]
  },
  {
   "cell_type": "code",
   "execution_count": 90,
   "id": "800419cd",
   "metadata": {},
   "outputs": [
    {
     "data": {
      "image/png": "[encoded data removed]",
      "text/plain": [
       "<Figure size 1100x1100 with 6 Axes>"
      ]
     },
     "metadata": {},
     "output_type": "display_data"
    }
   ],
   "source": [
    "# one figure with multiple axes\n",
    "fig, axes = plt.subplots(3,2)\n",
    "    \n",
    "for grading_index in range(len(grading_columns)):\n",
    "    sns.lineplot(ax=axes[grading_index%3, grading_index//3], data = ratings_by_weekday[grading_columns[grading_index]])\n",
    "    \n",
    "\n",
    "# set figure size\n",
    "fig.set_size_inches(11, 11)\n",
    "\n",
    "# adjust spacing\n",
    "plt.subplots_adjust(left=0, bottom=0, right=1, top=1, wspace=0.2, hspace=0.4)"
   ]
  },
  {
   "cell_type": "markdown",
   "id": "477ac899",
   "metadata": {},
   "source": [
    "##### Monthly analysis"
   ]
  },
  {
   "cell_type": "code",
   "execution_count": 84,
   "id": "b78d0bba",
   "metadata": {},
   "outputs": [],
   "source": [
    "ratings['month'] = ratings['Date'].apply(lambda x: x.month)"
   ]
  },
  {
   "cell_type": "code",
   "execution_count": 85,
   "id": "920ae6af",
   "metadata": {
    "scrolled": true
   },
   "outputs": [
    {
     "data": {
      "text/plain": [
       "<AxesSubplot:xlabel='month', ylabel='Count'>"
      ]
     },
     "execution_count": 85,
     "metadata": {},
     "output_type": "execute_result"
    },
    {
     "data": {
      "image/png": "[encoded data removed]",
      "text/plain": [
       "<Figure size 640x480 with 1 Axes>"
      ]
     },
     "metadata": {},
     "output_type": "display_data"
    }
   ],
   "source": [
    "sns.histplot(data = ratings['month'], discrete=True)"
   ]
  },
  {
   "cell_type": "markdown",
   "id": "8e06e2d3",
   "metadata": {},
   "source": [
    "Have a glance at the dataframe obtained by grouping by month to see are differences between grades or alcohol levels."
   ]
  },
  {
   "cell_type": "code",
   "execution_count": 86,
   "id": "c25117e0",
   "metadata": {
    "scrolled": false
   },
   "outputs": [
    {
     "data": {
      "text/html": [
       "<div>\n",
       "<style scoped>\n",
       "    .dataframe tbody tr th:only-of-type {\n",
       "        vertical-align: middle;\n",
       "    }\n",
       "\n",
       "    .dataframe tbody tr th {\n",
       "        vertical-align: top;\n",
       "    }\n",
       "\n",
       "    .dataframe thead th {\n",
       "        text-align: right;\n",
       "    }\n",
       "</style>\n",
       "<table border=\"1\" class=\"dataframe\">\n",
       "  <thead>\n",
       "    <tr style=\"text-align: right;\">\n",
       "      <th></th>\n",
       "      <th>Beer Id</th>\n",
       "      <th>Brewery Id</th>\n",
       "      <th>Abv</th>\n",
       "      <th>Appearance</th>\n",
       "      <th>Aroma</th>\n",
       "      <th>Palate</th>\n",
       "      <th>Taste</th>\n",
       "      <th>Overall</th>\n",
       "      <th>Rating</th>\n",
       "      <th>weekday</th>\n",
       "    </tr>\n",
       "    <tr>\n",
       "      <th>month</th>\n",
       "      <th></th>\n",
       "      <th></th>\n",
       "      <th></th>\n",
       "      <th></th>\n",
       "      <th></th>\n",
       "      <th></th>\n",
       "      <th></th>\n",
       "      <th></th>\n",
       "      <th></th>\n",
       "      <th></th>\n",
       "    </tr>\n",
       "  </thead>\n",
       "  <tbody>\n",
       "    <tr>\n",
       "      <th>1</th>\n",
       "      <td>62904.297048</td>\n",
       "      <td>8464.488517</td>\n",
       "      <td>7.531958</td>\n",
       "      <td>3.956382</td>\n",
       "      <td>3.888755</td>\n",
       "      <td>3.879938</td>\n",
       "      <td>3.921893</td>\n",
       "      <td>3.916933</td>\n",
       "      <td>3.888557</td>\n",
       "      <td>3.220875</td>\n",
       "    </tr>\n",
       "    <tr>\n",
       "      <th>2</th>\n",
       "      <td>67222.702499</td>\n",
       "      <td>8999.991657</td>\n",
       "      <td>7.497626</td>\n",
       "      <td>3.962165</td>\n",
       "      <td>3.895324</td>\n",
       "      <td>3.888202</td>\n",
       "      <td>3.928088</td>\n",
       "      <td>3.923332</td>\n",
       "      <td>3.897956</td>\n",
       "      <td>3.180830</td>\n",
       "    </tr>\n",
       "    <tr>\n",
       "      <th>3</th>\n",
       "      <td>69198.482189</td>\n",
       "      <td>9518.185956</td>\n",
       "      <td>7.479663</td>\n",
       "      <td>3.962169</td>\n",
       "      <td>3.893380</td>\n",
       "      <td>3.888002</td>\n",
       "      <td>3.927785</td>\n",
       "      <td>3.922109</td>\n",
       "      <td>3.906566</td>\n",
       "      <td>3.241043</td>\n",
       "    </tr>\n",
       "    <tr>\n",
       "      <th>4</th>\n",
       "      <td>70886.974659</td>\n",
       "      <td>9603.324699</td>\n",
       "      <td>7.398861</td>\n",
       "      <td>3.952866</td>\n",
       "      <td>3.886800</td>\n",
       "      <td>3.884384</td>\n",
       "      <td>3.921799</td>\n",
       "      <td>3.916477</td>\n",
       "      <td>3.900407</td>\n",
       "      <td>3.175312</td>\n",
       "    </tr>\n",
       "    <tr>\n",
       "      <th>5</th>\n",
       "      <td>72469.165091</td>\n",
       "      <td>9807.119266</td>\n",
       "      <td>7.287710</td>\n",
       "      <td>3.934043</td>\n",
       "      <td>3.868856</td>\n",
       "      <td>3.869998</td>\n",
       "      <td>3.905211</td>\n",
       "      <td>3.902568</td>\n",
       "      <td>3.880284</td>\n",
       "      <td>3.139498</td>\n",
       "    </tr>\n",
       "    <tr>\n",
       "      <th>6</th>\n",
       "      <td>73348.835322</td>\n",
       "      <td>10042.588336</td>\n",
       "      <td>7.191877</td>\n",
       "      <td>3.928846</td>\n",
       "      <td>3.862535</td>\n",
       "      <td>3.865047</td>\n",
       "      <td>3.898661</td>\n",
       "      <td>3.896155</td>\n",
       "      <td>3.873973</td>\n",
       "      <td>3.124841</td>\n",
       "    </tr>\n",
       "    <tr>\n",
       "      <th>7</th>\n",
       "      <td>71360.208162</td>\n",
       "      <td>9705.385187</td>\n",
       "      <td>7.117093</td>\n",
       "      <td>3.920364</td>\n",
       "      <td>3.855839</td>\n",
       "      <td>3.858467</td>\n",
       "      <td>3.889234</td>\n",
       "      <td>3.887745</td>\n",
       "      <td>3.856780</td>\n",
       "      <td>3.082666</td>\n",
       "    </tr>\n",
       "    <tr>\n",
       "      <th>8</th>\n",
       "      <td>63347.194768</td>\n",
       "      <td>8893.071911</td>\n",
       "      <td>7.098323</td>\n",
       "      <td>3.907526</td>\n",
       "      <td>3.836838</td>\n",
       "      <td>3.836635</td>\n",
       "      <td>3.871450</td>\n",
       "      <td>3.873341</td>\n",
       "      <td>3.844434</td>\n",
       "      <td>3.168829</td>\n",
       "    </tr>\n",
       "    <tr>\n",
       "      <th>9</th>\n",
       "      <td>63327.40188</td>\n",
       "      <td>8850.179338</td>\n",
       "      <td>7.116822</td>\n",
       "      <td>3.909370</td>\n",
       "      <td>3.838080</td>\n",
       "      <td>3.836963</td>\n",
       "      <td>3.872294</td>\n",
       "      <td>3.873957</td>\n",
       "      <td>3.849111</td>\n",
       "      <td>3.101547</td>\n",
       "    </tr>\n",
       "    <tr>\n",
       "      <th>10</th>\n",
       "      <td>65748.307179</td>\n",
       "      <td>9154.53523</td>\n",
       "      <td>7.223150</td>\n",
       "      <td>3.914678</td>\n",
       "      <td>3.847631</td>\n",
       "      <td>3.841602</td>\n",
       "      <td>3.879504</td>\n",
       "      <td>3.880347</td>\n",
       "      <td>3.866964</td>\n",
       "      <td>3.126258</td>\n",
       "    </tr>\n",
       "    <tr>\n",
       "      <th>11</th>\n",
       "      <td>60142.656576</td>\n",
       "      <td>8305.881088</td>\n",
       "      <td>7.440543</td>\n",
       "      <td>3.930729</td>\n",
       "      <td>3.863469</td>\n",
       "      <td>3.854134</td>\n",
       "      <td>3.894062</td>\n",
       "      <td>3.891090</td>\n",
       "      <td>3.920209</td>\n",
       "      <td>3.094075</td>\n",
       "    </tr>\n",
       "    <tr>\n",
       "      <th>12</th>\n",
       "      <td>61214.691918</td>\n",
       "      <td>8255.085971</td>\n",
       "      <td>7.545385</td>\n",
       "      <td>3.943690</td>\n",
       "      <td>3.872683</td>\n",
       "      <td>3.861840</td>\n",
       "      <td>3.903415</td>\n",
       "      <td>3.899432</td>\n",
       "      <td>3.894867</td>\n",
       "      <td>3.095171</td>\n",
       "    </tr>\n",
       "  </tbody>\n",
       "</table>\n",
       "</div>"
      ],
      "text/plain": [
       "            Beer Id    Brewery Id       Abv  Appearance     Aroma    Palate  \\\n",
       "month                                                                         \n",
       "1      62904.297048   8464.488517  7.531958    3.956382  3.888755  3.879938   \n",
       "2      67222.702499   8999.991657  7.497626    3.962165  3.895324  3.888202   \n",
       "3      69198.482189   9518.185956  7.479663    3.962169  3.893380  3.888002   \n",
       "4      70886.974659   9603.324699  7.398861    3.952866  3.886800  3.884384   \n",
       "5      72469.165091   9807.119266  7.287710    3.934043  3.868856  3.869998   \n",
       "6      73348.835322  10042.588336  7.191877    3.928846  3.862535  3.865047   \n",
       "7      71360.208162   9705.385187  7.117093    3.920364  3.855839  3.858467   \n",
       "8      63347.194768   8893.071911  7.098323    3.907526  3.836838  3.836635   \n",
       "9       63327.40188   8850.179338  7.116822    3.909370  3.838080  3.836963   \n",
       "10     65748.307179    9154.53523  7.223150    3.914678  3.847631  3.841602   \n",
       "11     60142.656576   8305.881088  7.440543    3.930729  3.863469  3.854134   \n",
       "12     61214.691918   8255.085971  7.545385    3.943690  3.872683  3.861840   \n",
       "\n",
       "          Taste   Overall    Rating   weekday  \n",
       "month                                          \n",
       "1      3.921893  3.916933  3.888557  3.220875  \n",
       "2      3.928088  3.923332  3.897956  3.180830  \n",
       "3      3.927785  3.922109  3.906566  3.241043  \n",
       "4      3.921799  3.916477  3.900407  3.175312  \n",
       "5      3.905211  3.902568  3.880284  3.139498  \n",
       "6      3.898661  3.896155  3.873973  3.124841  \n",
       "7      3.889234  3.887745  3.856780  3.082666  \n",
       "8      3.871450  3.873341  3.844434  3.168829  \n",
       "9      3.872294  3.873957  3.849111  3.101547  \n",
       "10     3.879504  3.880347  3.866964  3.126258  \n",
       "11     3.894062  3.891090  3.920209  3.094075  \n",
       "12     3.903415  3.899432  3.894867  3.095171  "
      ]
     },
     "execution_count": 86,
     "metadata": {},
     "output_type": "execute_result"
    }
   ],
   "source": [
    "ratings_by_month = ratings.groupby('month').mean()\n",
    "ratings_by_month"
   ]
  },
  {
   "cell_type": "code",
   "execution_count": 88,
   "id": "bf0bd7bd",
   "metadata": {
    "scrolled": true
   },
   "outputs": [
    {
     "data": {
      "image/png": "[encoded data removed]",
      "text/plain": [
       "<Figure size 1100x1100 with 6 Axes>"
      ]
     },
     "metadata": {},
     "output_type": "display_data"
    }
   ],
   "source": [
    "# one figure with multiple axes\n",
    "fig, axes = plt.subplots(3,2)\n",
    "    \n",
    "for grading_index in range(len(grading_columns)):\n",
    "    sns.lineplot(ax=axes[grading_index%3, grading_index//3], data = ratings_by_month[grading_columns[grading_index]])\n",
    "    \n",
    "\n",
    "# set figure size\n",
    "fig.set_size_inches(11, 11)\n",
    "\n",
    "# adjust spacing\n",
    "plt.subplots_adjust(left=0, bottom=0, right=1, top=1, wspace=0.2, hspace=0.4)"
   ]
  },
  {
   "cell_type": "markdown",
   "id": "595d6eec",
   "metadata": {},
   "source": [
    "# TODO :\n",
    "We execute a test to compare are the means for the grades for different aspects different for different months."
   ]
  },
  {
   "cell_type": "code",
   "execution_count": 2,
   "id": "f391da15",
   "metadata": {},
   "outputs": [],
   "source": [
    "beers = pd.read_csv('./datasets/BeerAdvocate/beers.csv')"
   ]
  },
  {
   "cell_type": "code",
   "execution_count": 3,
   "id": "c1799867",
   "metadata": {},
   "outputs": [
    {
     "data": {
      "text/plain": [
       "(280823, 15)"
      ]
     },
     "execution_count": 3,
     "metadata": {},
     "output_type": "execute_result"
    }
   ],
   "source": [
    "beers.shape"
   ]
  },
  {
   "cell_type": "code",
   "execution_count": 4,
   "id": "dea95f7e",
   "metadata": {},
   "outputs": [
    {
     "data": {
      "text/html": [
       "<div>\n",
       "<style scoped>\n",
       "    .dataframe tbody tr th:only-of-type {\n",
       "        vertical-align: middle;\n",
       "    }\n",
       "\n",
       "    .dataframe tbody tr th {\n",
       "        vertical-align: top;\n",
       "    }\n",
       "\n",
       "    .dataframe thead th {\n",
       "        text-align: right;\n",
       "    }\n",
       "</style>\n",
       "<table border=\"1\" class=\"dataframe\">\n",
       "  <thead>\n",
       "    <tr style=\"text-align: right;\">\n",
       "      <th></th>\n",
       "      <th>beer_id</th>\n",
       "      <th>beer_name</th>\n",
       "      <th>brewery_id</th>\n",
       "      <th>brewery_name</th>\n",
       "      <th>style</th>\n",
       "      <th>nbr_ratings</th>\n",
       "      <th>nbr_reviews</th>\n",
       "      <th>avg</th>\n",
       "      <th>ba_score</th>\n",
       "      <th>bros_score</th>\n",
       "      <th>abv</th>\n",
       "      <th>avg_computed</th>\n",
       "      <th>zscore</th>\n",
       "      <th>nbr_matched_valid_ratings</th>\n",
       "      <th>avg_matched_valid_ratings</th>\n",
       "    </tr>\n",
       "  </thead>\n",
       "  <tbody>\n",
       "    <tr>\n",
       "      <th>0</th>\n",
       "      <td>166064</td>\n",
       "      <td>Nashe Moskovskoe</td>\n",
       "      <td>39912</td>\n",
       "      <td>Abdysh-Ata (Абдыш Ата)</td>\n",
       "      <td>Euro Pale Lager</td>\n",
       "      <td>0</td>\n",
       "      <td>0</td>\n",
       "      <td>NaN</td>\n",
       "      <td>NaN</td>\n",
       "      <td>NaN</td>\n",
       "      <td>4.7</td>\n",
       "      <td>NaN</td>\n",
       "      <td>NaN</td>\n",
       "      <td>0</td>\n",
       "      <td>NaN</td>\n",
       "    </tr>\n",
       "    <tr>\n",
       "      <th>1</th>\n",
       "      <td>166065</td>\n",
       "      <td>Nashe Pivovskoe</td>\n",
       "      <td>39912</td>\n",
       "      <td>Abdysh-Ata (Абдыш Ата)</td>\n",
       "      <td>Euro Pale Lager</td>\n",
       "      <td>0</td>\n",
       "      <td>0</td>\n",
       "      <td>NaN</td>\n",
       "      <td>NaN</td>\n",
       "      <td>NaN</td>\n",
       "      <td>3.8</td>\n",
       "      <td>NaN</td>\n",
       "      <td>NaN</td>\n",
       "      <td>0</td>\n",
       "      <td>NaN</td>\n",
       "    </tr>\n",
       "    <tr>\n",
       "      <th>2</th>\n",
       "      <td>166066</td>\n",
       "      <td>Nashe Shakhterskoe</td>\n",
       "      <td>39912</td>\n",
       "      <td>Abdysh-Ata (Абдыш Ата)</td>\n",
       "      <td>Euro Pale Lager</td>\n",
       "      <td>0</td>\n",
       "      <td>0</td>\n",
       "      <td>NaN</td>\n",
       "      <td>NaN</td>\n",
       "      <td>NaN</td>\n",
       "      <td>4.8</td>\n",
       "      <td>NaN</td>\n",
       "      <td>NaN</td>\n",
       "      <td>0</td>\n",
       "      <td>NaN</td>\n",
       "    </tr>\n",
       "    <tr>\n",
       "      <th>3</th>\n",
       "      <td>166067</td>\n",
       "      <td>Nashe Zhigulevskoe</td>\n",
       "      <td>39912</td>\n",
       "      <td>Abdysh-Ata (Абдыш Ата)</td>\n",
       "      <td>Euro Pale Lager</td>\n",
       "      <td>0</td>\n",
       "      <td>0</td>\n",
       "      <td>NaN</td>\n",
       "      <td>NaN</td>\n",
       "      <td>NaN</td>\n",
       "      <td>4.0</td>\n",
       "      <td>NaN</td>\n",
       "      <td>NaN</td>\n",
       "      <td>0</td>\n",
       "      <td>NaN</td>\n",
       "    </tr>\n",
       "    <tr>\n",
       "      <th>4</th>\n",
       "      <td>166063</td>\n",
       "      <td>Zhivoe</td>\n",
       "      <td>39912</td>\n",
       "      <td>Abdysh-Ata (Абдыш Ата)</td>\n",
       "      <td>Euro Pale Lager</td>\n",
       "      <td>0</td>\n",
       "      <td>0</td>\n",
       "      <td>NaN</td>\n",
       "      <td>NaN</td>\n",
       "      <td>NaN</td>\n",
       "      <td>4.5</td>\n",
       "      <td>NaN</td>\n",
       "      <td>NaN</td>\n",
       "      <td>0</td>\n",
       "      <td>NaN</td>\n",
       "    </tr>\n",
       "  </tbody>\n",
       "</table>\n",
       "</div>"
      ],
      "text/plain": [
       "   beer_id           beer_name  brewery_id            brewery_name  \\\n",
       "0   166064    Nashe Moskovskoe       39912  Abdysh-Ata (Абдыш Ата)   \n",
       "1   166065     Nashe Pivovskoe       39912  Abdysh-Ata (Абдыш Ата)   \n",
       "2   166066  Nashe Shakhterskoe       39912  Abdysh-Ata (Абдыш Ата)   \n",
       "3   166067  Nashe Zhigulevskoe       39912  Abdysh-Ata (Абдыш Ата)   \n",
       "4   166063              Zhivoe       39912  Abdysh-Ata (Абдыш Ата)   \n",
       "\n",
       "             style  nbr_ratings  nbr_reviews  avg  ba_score  bros_score  abv  \\\n",
       "0  Euro Pale Lager            0            0  NaN       NaN         NaN  4.7   \n",
       "1  Euro Pale Lager            0            0  NaN       NaN         NaN  3.8   \n",
       "2  Euro Pale Lager            0            0  NaN       NaN         NaN  4.8   \n",
       "3  Euro Pale Lager            0            0  NaN       NaN         NaN  4.0   \n",
       "4  Euro Pale Lager            0            0  NaN       NaN         NaN  4.5   \n",
       "\n",
       "   avg_computed  zscore  nbr_matched_valid_ratings  avg_matched_valid_ratings  \n",
       "0           NaN     NaN                          0                        NaN  \n",
       "1           NaN     NaN                          0                        NaN  \n",
       "2           NaN     NaN                          0                        NaN  \n",
       "3           NaN     NaN                          0                        NaN  \n",
       "4           NaN     NaN                          0                        NaN  "
      ]
     },
     "execution_count": 4,
     "metadata": {},
     "output_type": "execute_result"
    }
   ],
   "source": [
    "beers.head()"
   ]
  },
  {
   "cell_type": "code",
   "execution_count": 7,
   "id": "24008c2f",
   "metadata": {},
   "outputs": [
    {
     "data": {
      "text/plain": [
       "10"
      ]
     },
     "execution_count": 7,
     "metadata": {},
     "output_type": "execute_result"
    }
   ],
   "source": [
    "len(beers[beers['nbr_ratings'] > 11730])"
   ]
  },
  {
   "cell_type": "code",
   "execution_count": 42,
   "id": "ac9b0c7d",
   "metadata": {},
   "outputs": [
    {
     "data": {
      "text/plain": [
       "482"
      ]
     },
     "execution_count": 42,
     "metadata": {},
     "output_type": "execute_result"
    }
   ],
   "source": [
    "len(beers[beers['nbr_reviews'] > 730])"
   ]
  },
  {
   "cell_type": "code",
   "execution_count": 137,
   "id": "1b1f15d6",
   "metadata": {
    "scrolled": true
   },
   "outputs": [
    {
     "data": {
      "text/plain": [
       "7"
      ]
     },
     "execution_count": 137,
     "metadata": {},
     "output_type": "execute_result"
    }
   ],
   "source": [
    "len(beers[(beers['nbr_ratings'] > 730) & (beers['abv']<3.5)])"
   ]
  },
  {
   "cell_type": "code",
   "execution_count": 146,
   "id": "2f56a654",
   "metadata": {},
   "outputs": [
    {
     "data": {
      "text/html": [
       "<div>\n",
       "<style scoped>\n",
       "    .dataframe tbody tr th:only-of-type {\n",
       "        vertical-align: middle;\n",
       "    }\n",
       "\n",
       "    .dataframe tbody tr th {\n",
       "        vertical-align: top;\n",
       "    }\n",
       "\n",
       "    .dataframe thead th {\n",
       "        text-align: right;\n",
       "    }\n",
       "</style>\n",
       "<table border=\"1\" class=\"dataframe\">\n",
       "  <thead>\n",
       "    <tr style=\"text-align: right;\">\n",
       "      <th></th>\n",
       "      <th>beer_id</th>\n",
       "      <th>beer_name</th>\n",
       "      <th>brewery_id</th>\n",
       "      <th>brewery_name</th>\n",
       "      <th>style</th>\n",
       "      <th>nbr_ratings</th>\n",
       "      <th>nbr_reviews</th>\n",
       "      <th>avg</th>\n",
       "      <th>ba_score</th>\n",
       "      <th>bros_score</th>\n",
       "      <th>abv</th>\n",
       "      <th>avg_computed</th>\n",
       "      <th>zscore</th>\n",
       "      <th>nbr_matched_valid_ratings</th>\n",
       "      <th>avg_matched_valid_ratings</th>\n",
       "    </tr>\n",
       "  </thead>\n",
       "  <tbody>\n",
       "    <tr>\n",
       "      <th>137042</th>\n",
       "      <td>79669</td>\n",
       "      <td>Shock Top Lemon Shandy</td>\n",
       "      <td>29</td>\n",
       "      <td>Anheuser-Busch</td>\n",
       "      <td>Fruit / Vegetable Beer</td>\n",
       "      <td>740</td>\n",
       "      <td>107</td>\n",
       "      <td>2.79</td>\n",
       "      <td>66.0</td>\n",
       "      <td>NaN</td>\n",
       "      <td>4.20</td>\n",
       "      <td>2.828919</td>\n",
       "      <td>NaN</td>\n",
       "      <td>0</td>\n",
       "      <td>NaN</td>\n",
       "    </tr>\n",
       "    <tr>\n",
       "      <th>12796</th>\n",
       "      <td>6508</td>\n",
       "      <td>Victoria</td>\n",
       "      <td>75</td>\n",
       "      <td>Grupo Modelo S.A. de C.V.</td>\n",
       "      <td>Vienna Lager</td>\n",
       "      <td>741</td>\n",
       "      <td>179</td>\n",
       "      <td>2.97</td>\n",
       "      <td>70.0</td>\n",
       "      <td>NaN</td>\n",
       "      <td>4.00</td>\n",
       "      <td>2.937031</td>\n",
       "      <td>NaN</td>\n",
       "      <td>0</td>\n",
       "      <td>NaN</td>\n",
       "    </tr>\n",
       "    <tr>\n",
       "      <th>261501</th>\n",
       "      <td>48873</td>\n",
       "      <td>Wyld Extra Pale Ale</td>\n",
       "      <td>1416</td>\n",
       "      <td>Uinta Brewing Company</td>\n",
       "      <td>American Pale Ale (APA)</td>\n",
       "      <td>749</td>\n",
       "      <td>191</td>\n",
       "      <td>3.52</td>\n",
       "      <td>80.0</td>\n",
       "      <td>NaN</td>\n",
       "      <td>4.00</td>\n",
       "      <td>3.524259</td>\n",
       "      <td>-0.634726</td>\n",
       "      <td>198</td>\n",
       "      <td>3.526919</td>\n",
       "    </tr>\n",
       "    <tr>\n",
       "      <th>67686</th>\n",
       "      <td>35735</td>\n",
       "      <td>Miller Chill</td>\n",
       "      <td>105</td>\n",
       "      <td>Miller Brewing Co.</td>\n",
       "      <td>Light Lager</td>\n",
       "      <td>758</td>\n",
       "      <td>341</td>\n",
       "      <td>2.05</td>\n",
       "      <td>52.0</td>\n",
       "      <td>42.0</td>\n",
       "      <td>4.10</td>\n",
       "      <td>1.944802</td>\n",
       "      <td>NaN</td>\n",
       "      <td>0</td>\n",
       "      <td>NaN</td>\n",
       "    </tr>\n",
       "    <tr>\n",
       "      <th>198097</th>\n",
       "      <td>71866</td>\n",
       "      <td>Clara Grisette</td>\n",
       "      <td>22511</td>\n",
       "      <td>Hill Farmstead Brewery</td>\n",
       "      <td>Saison / Farmhouse Ale</td>\n",
       "      <td>766</td>\n",
       "      <td>130</td>\n",
       "      <td>4.11</td>\n",
       "      <td>91.0</td>\n",
       "      <td>NaN</td>\n",
       "      <td>4.00</td>\n",
       "      <td>4.134804</td>\n",
       "      <td>NaN</td>\n",
       "      <td>0</td>\n",
       "      <td>NaN</td>\n",
       "    </tr>\n",
       "    <tr>\n",
       "      <th>...</th>\n",
       "      <td>...</td>\n",
       "      <td>...</td>\n",
       "      <td>...</td>\n",
       "      <td>...</td>\n",
       "      <td>...</td>\n",
       "      <td>...</td>\n",
       "      <td>...</td>\n",
       "      <td>...</td>\n",
       "      <td>...</td>\n",
       "      <td>...</td>\n",
       "      <td>...</td>\n",
       "      <td>...</td>\n",
       "      <td>...</td>\n",
       "      <td>...</td>\n",
       "      <td>...</td>\n",
       "    </tr>\n",
       "    <tr>\n",
       "      <th>67695</th>\n",
       "      <td>332</td>\n",
       "      <td>Miller Lite</td>\n",
       "      <td>105</td>\n",
       "      <td>Miller Brewing Co.</td>\n",
       "      <td>Light Lager</td>\n",
       "      <td>4524</td>\n",
       "      <td>1199</td>\n",
       "      <td>2.28</td>\n",
       "      <td>55.0</td>\n",
       "      <td>59.0</td>\n",
       "      <td>4.17</td>\n",
       "      <td>2.180979</td>\n",
       "      <td>NaN</td>\n",
       "      <td>0</td>\n",
       "      <td>NaN</td>\n",
       "    </tr>\n",
       "    <tr>\n",
       "      <th>251298</th>\n",
       "      <td>17141</td>\n",
       "      <td>312 Urban Wheat</td>\n",
       "      <td>1146</td>\n",
       "      <td>Goose Island Beer Co.</td>\n",
       "      <td>American Pale Wheat Ale</td>\n",
       "      <td>4544</td>\n",
       "      <td>925</td>\n",
       "      <td>3.42</td>\n",
       "      <td>78.0</td>\n",
       "      <td>79.0</td>\n",
       "      <td>4.20</td>\n",
       "      <td>3.389241</td>\n",
       "      <td>NaN</td>\n",
       "      <td>0</td>\n",
       "      <td>NaN</td>\n",
       "    </tr>\n",
       "    <tr>\n",
       "      <th>133621</th>\n",
       "      <td>837</td>\n",
       "      <td>Coors Light</td>\n",
       "      <td>306</td>\n",
       "      <td>Coors Brewing Company</td>\n",
       "      <td>Light Lager</td>\n",
       "      <td>5113</td>\n",
       "      <td>1292</td>\n",
       "      <td>2.05</td>\n",
       "      <td>51.0</td>\n",
       "      <td>45.0</td>\n",
       "      <td>4.20</td>\n",
       "      <td>2.022478</td>\n",
       "      <td>NaN</td>\n",
       "      <td>0</td>\n",
       "      <td>NaN</td>\n",
       "    </tr>\n",
       "    <tr>\n",
       "      <th>136907</th>\n",
       "      <td>1320</td>\n",
       "      <td>Bud Light</td>\n",
       "      <td>29</td>\n",
       "      <td>Anheuser-Busch</td>\n",
       "      <td>Light Lager</td>\n",
       "      <td>5878</td>\n",
       "      <td>1443</td>\n",
       "      <td>1.93</td>\n",
       "      <td>48.0</td>\n",
       "      <td>43.0</td>\n",
       "      <td>4.20</td>\n",
       "      <td>1.859842</td>\n",
       "      <td>NaN</td>\n",
       "      <td>0</td>\n",
       "      <td>NaN</td>\n",
       "    </tr>\n",
       "    <tr>\n",
       "      <th>65740</th>\n",
       "      <td>754</td>\n",
       "      <td>Guinness Draught</td>\n",
       "      <td>209</td>\n",
       "      <td>Guinness Ltd.</td>\n",
       "      <td>Irish Dry Stout</td>\n",
       "      <td>7672</td>\n",
       "      <td>2259</td>\n",
       "      <td>3.46</td>\n",
       "      <td>79.0</td>\n",
       "      <td>70.0</td>\n",
       "      <td>4.20</td>\n",
       "      <td>3.557869</td>\n",
       "      <td>NaN</td>\n",
       "      <td>0</td>\n",
       "      <td>NaN</td>\n",
       "    </tr>\n",
       "  </tbody>\n",
       "</table>\n",
       "<p>80 rows × 15 columns</p>\n",
       "</div>"
      ],
      "text/plain": [
       "        beer_id               beer_name  brewery_id  \\\n",
       "137042    79669  Shock Top Lemon Shandy          29   \n",
       "12796      6508                Victoria          75   \n",
       "261501    48873     Wyld Extra Pale Ale        1416   \n",
       "67686     35735            Miller Chill         105   \n",
       "198097    71866          Clara Grisette       22511   \n",
       "...         ...                     ...         ...   \n",
       "67695       332             Miller Lite         105   \n",
       "251298    17141         312 Urban Wheat        1146   \n",
       "133621      837             Coors Light         306   \n",
       "136907     1320               Bud Light          29   \n",
       "65740       754        Guinness Draught         209   \n",
       "\n",
       "                     brewery_name                    style  nbr_ratings  \\\n",
       "137042             Anheuser-Busch   Fruit / Vegetable Beer          740   \n",
       "12796   Grupo Modelo S.A. de C.V.             Vienna Lager          741   \n",
       "261501      Uinta Brewing Company  American Pale Ale (APA)          749   \n",
       "67686          Miller Brewing Co.              Light Lager          758   \n",
       "198097     Hill Farmstead Brewery   Saison / Farmhouse Ale          766   \n",
       "...                           ...                      ...          ...   \n",
       "67695          Miller Brewing Co.              Light Lager         4524   \n",
       "251298      Goose Island Beer Co.  American Pale Wheat Ale         4544   \n",
       "133621      Coors Brewing Company              Light Lager         5113   \n",
       "136907             Anheuser-Busch              Light Lager         5878   \n",
       "65740               Guinness Ltd.          Irish Dry Stout         7672   \n",
       "\n",
       "        nbr_reviews   avg  ba_score  bros_score   abv  avg_computed    zscore  \\\n",
       "137042          107  2.79      66.0         NaN  4.20      2.828919       NaN   \n",
       "12796           179  2.97      70.0         NaN  4.00      2.937031       NaN   \n",
       "261501          191  3.52      80.0         NaN  4.00      3.524259 -0.634726   \n",
       "67686           341  2.05      52.0        42.0  4.10      1.944802       NaN   \n",
       "198097          130  4.11      91.0         NaN  4.00      4.134804       NaN   \n",
       "...             ...   ...       ...         ...   ...           ...       ...   \n",
       "67695          1199  2.28      55.0        59.0  4.17      2.180979       NaN   \n",
       "251298          925  3.42      78.0        79.0  4.20      3.389241       NaN   \n",
       "133621         1292  2.05      51.0        45.0  4.20      2.022478       NaN   \n",
       "136907         1443  1.93      48.0        43.0  4.20      1.859842       NaN   \n",
       "65740          2259  3.46      79.0        70.0  4.20      3.557869       NaN   \n",
       "\n",
       "        nbr_matched_valid_ratings  avg_matched_valid_ratings  \n",
       "137042                          0                        NaN  \n",
       "12796                           0                        NaN  \n",
       "261501                        198                   3.526919  \n",
       "67686                           0                        NaN  \n",
       "198097                          0                        NaN  \n",
       "...                           ...                        ...  \n",
       "67695                           0                        NaN  \n",
       "251298                          0                        NaN  \n",
       "133621                          0                        NaN  \n",
       "136907                          0                        NaN  \n",
       "65740                           0                        NaN  \n",
       "\n",
       "[80 rows x 15 columns]"
      ]
     },
     "execution_count": 146,
     "metadata": {},
     "output_type": "execute_result"
    }
   ],
   "source": [
    "beers[(beers['nbr_ratings'] > 730) & (beers['abv']<4.5)].sort_values('nbr_ratings')"
   ]
  },
  {
   "cell_type": "code",
   "execution_count": 156,
   "id": "26200e07",
   "metadata": {},
   "outputs": [],
   "source": [
    "low_abv_high_number_of_ratings = ratings[ratings['Beer Name'] == ' Guinness Draught']"
   ]
  },
  {
   "cell_type": "code",
   "execution_count": 157,
   "id": "18e96e14",
   "metadata": {},
   "outputs": [
    {
     "data": {
      "text/plain": [
       "<AxesSubplot:xlabel='Date', ylabel='Count'>"
      ]
     },
     "execution_count": 157,
     "metadata": {},
     "output_type": "execute_result"
    },
    {
     "data": {
      "image/png": "[encoded data removed]",
      "text/plain": [
       "<Figure size 432x288 with 1 Axes>"
      ]
     },
     "metadata": {
      "needs_background": "light"
     },
     "output_type": "display_data"
    }
   ],
   "source": [
    "sns.histplot(data=low_abv_high_number_of_ratings, x='Date')"
   ]
  },
  {
   "cell_type": "code",
   "execution_count": 153,
   "id": "f9b01ba7",
   "metadata": {},
   "outputs": [
    {
     "data": {
      "text/html": [
       "<div>\n",
       "<style scoped>\n",
       "    .dataframe tbody tr th:only-of-type {\n",
       "        vertical-align: middle;\n",
       "    }\n",
       "\n",
       "    .dataframe tbody tr th {\n",
       "        vertical-align: top;\n",
       "    }\n",
       "\n",
       "    .dataframe thead th {\n",
       "        text-align: right;\n",
       "    }\n",
       "</style>\n",
       "<table border=\"1\" class=\"dataframe\">\n",
       "  <thead>\n",
       "    <tr style=\"text-align: right;\">\n",
       "      <th></th>\n",
       "      <th>beer_id</th>\n",
       "      <th>beer_name</th>\n",
       "      <th>brewery_id</th>\n",
       "      <th>brewery_name</th>\n",
       "      <th>style</th>\n",
       "      <th>nbr_ratings</th>\n",
       "      <th>nbr_reviews</th>\n",
       "      <th>avg</th>\n",
       "      <th>ba_score</th>\n",
       "      <th>bros_score</th>\n",
       "      <th>abv</th>\n",
       "      <th>avg_computed</th>\n",
       "      <th>zscore</th>\n",
       "      <th>nbr_matched_valid_ratings</th>\n",
       "      <th>avg_matched_valid_ratings</th>\n",
       "    </tr>\n",
       "  </thead>\n",
       "  <tbody>\n",
       "    <tr>\n",
       "      <th>251429</th>\n",
       "      <td>10672</td>\n",
       "      <td>Bourbon County Brand Stout</td>\n",
       "      <td>1146</td>\n",
       "      <td>Goose Island Beer Co.</td>\n",
       "      <td>American Double / Imperial Stout</td>\n",
       "      <td>12193</td>\n",
       "      <td>2952</td>\n",
       "      <td>4.50</td>\n",
       "      <td>100.0</td>\n",
       "      <td>95.0</td>\n",
       "      <td>13.8</td>\n",
       "      <td>4.599114</td>\n",
       "      <td>NaN</td>\n",
       "      <td>0</td>\n",
       "      <td>NaN</td>\n",
       "    </tr>\n",
       "    <tr>\n",
       "      <th>77815</th>\n",
       "      <td>412</td>\n",
       "      <td>Old Rasputin Russian Imperial Stout</td>\n",
       "      <td>112</td>\n",
       "      <td>North Coast Brewing Co.</td>\n",
       "      <td>Russian Imperial Stout</td>\n",
       "      <td>12194</td>\n",
       "      <td>3722</td>\n",
       "      <td>4.28</td>\n",
       "      <td>95.0</td>\n",
       "      <td>97.0</td>\n",
       "      <td>9.0</td>\n",
       "      <td>4.301165</td>\n",
       "      <td>NaN</td>\n",
       "      <td>0</td>\n",
       "      <td>NaN</td>\n",
       "    </tr>\n",
       "    <tr>\n",
       "      <th>226360</th>\n",
       "      <td>19960</td>\n",
       "      <td>Founders KBS (Kentucky Breakfast Stout)</td>\n",
       "      <td>1199</td>\n",
       "      <td>Founders Brewing Company</td>\n",
       "      <td>American Double / Imperial Stout</td>\n",
       "      <td>12599</td>\n",
       "      <td>3221</td>\n",
       "      <td>4.56</td>\n",
       "      <td>100.0</td>\n",
       "      <td>NaN</td>\n",
       "      <td>11.8</td>\n",
       "      <td>4.607697</td>\n",
       "      <td>NaN</td>\n",
       "      <td>0</td>\n",
       "      <td>NaN</td>\n",
       "    </tr>\n",
       "    <tr>\n",
       "      <th>225867</th>\n",
       "      <td>17112</td>\n",
       "      <td>Hopslam Ale</td>\n",
       "      <td>287</td>\n",
       "      <td>Bell's Brewery, Inc.</td>\n",
       "      <td>American Double / Imperial IPA</td>\n",
       "      <td>13026</td>\n",
       "      <td>3527</td>\n",
       "      <td>4.43</td>\n",
       "      <td>98.0</td>\n",
       "      <td>94.0</td>\n",
       "      <td>10.0</td>\n",
       "      <td>4.462041</td>\n",
       "      <td>NaN</td>\n",
       "      <td>0</td>\n",
       "      <td>NaN</td>\n",
       "    </tr>\n",
       "    <tr>\n",
       "      <th>180458</th>\n",
       "      <td>2093</td>\n",
       "      <td>90 Minute IPA</td>\n",
       "      <td>64</td>\n",
       "      <td>Dogfish Head Brewings &amp; Eats</td>\n",
       "      <td>American Double / Imperial IPA</td>\n",
       "      <td>15548</td>\n",
       "      <td>3899</td>\n",
       "      <td>4.24</td>\n",
       "      <td>94.0</td>\n",
       "      <td>96.0</td>\n",
       "      <td>9.0</td>\n",
       "      <td>4.273975</td>\n",
       "      <td>NaN</td>\n",
       "      <td>0</td>\n",
       "      <td>NaN</td>\n",
       "    </tr>\n",
       "    <tr>\n",
       "      <th>226278</th>\n",
       "      <td>11757</td>\n",
       "      <td>Founders Breakfast Stout</td>\n",
       "      <td>1199</td>\n",
       "      <td>Founders Brewing Company</td>\n",
       "      <td>American Double / Imperial Stout</td>\n",
       "      <td>16509</td>\n",
       "      <td>3811</td>\n",
       "      <td>4.47</td>\n",
       "      <td>99.0</td>\n",
       "      <td>100.0</td>\n",
       "      <td>8.3</td>\n",
       "      <td>4.513760</td>\n",
       "      <td>NaN</td>\n",
       "      <td>0</td>\n",
       "      <td>NaN</td>\n",
       "    </tr>\n",
       "  </tbody>\n",
       "</table>\n",
       "</div>"
      ],
      "text/plain": [
       "        beer_id                                beer_name  brewery_id  \\\n",
       "251429    10672               Bourbon County Brand Stout        1146   \n",
       "77815       412      Old Rasputin Russian Imperial Stout         112   \n",
       "226360    19960  Founders KBS (Kentucky Breakfast Stout)        1199   \n",
       "225867    17112                              Hopslam Ale         287   \n",
       "180458     2093                            90 Minute IPA          64   \n",
       "226278    11757                 Founders Breakfast Stout        1199   \n",
       "\n",
       "                        brewery_name                             style  \\\n",
       "251429         Goose Island Beer Co.  American Double / Imperial Stout   \n",
       "77815        North Coast Brewing Co.            Russian Imperial Stout   \n",
       "226360      Founders Brewing Company  American Double / Imperial Stout   \n",
       "225867          Bell's Brewery, Inc.    American Double / Imperial IPA   \n",
       "180458  Dogfish Head Brewings & Eats    American Double / Imperial IPA   \n",
       "226278      Founders Brewing Company  American Double / Imperial Stout   \n",
       "\n",
       "        nbr_ratings  nbr_reviews   avg  ba_score  bros_score   abv  \\\n",
       "251429        12193         2952  4.50     100.0        95.0  13.8   \n",
       "77815         12194         3722  4.28      95.0        97.0   9.0   \n",
       "226360        12599         3221  4.56     100.0         NaN  11.8   \n",
       "225867        13026         3527  4.43      98.0        94.0  10.0   \n",
       "180458        15548         3899  4.24      94.0        96.0   9.0   \n",
       "226278        16509         3811  4.47      99.0       100.0   8.3   \n",
       "\n",
       "        avg_computed  zscore  nbr_matched_valid_ratings  \\\n",
       "251429      4.599114     NaN                          0   \n",
       "77815       4.301165     NaN                          0   \n",
       "226360      4.607697     NaN                          0   \n",
       "225867      4.462041     NaN                          0   \n",
       "180458      4.273975     NaN                          0   \n",
       "226278      4.513760     NaN                          0   \n",
       "\n",
       "        avg_matched_valid_ratings  \n",
       "251429                        NaN  \n",
       "77815                         NaN  \n",
       "226360                        NaN  \n",
       "225867                        NaN  \n",
       "180458                        NaN  \n",
       "226278                        NaN  "
      ]
     },
     "execution_count": 153,
     "metadata": {},
     "output_type": "execute_result"
    }
   ],
   "source": [
    "beers[(beers['nbr_ratings'] > 12030) & (beers['abv']>8)].sort_values('nbr_ratings')"
   ]
  },
  {
   "cell_type": "code",
   "execution_count": 159,
   "id": "11beb40c",
   "metadata": {},
   "outputs": [],
   "source": [
    "high_abv_high_number_of_ratings = ratings[ratings['Beer Name'] == ' 90 Minute IPA']"
   ]
  },
  {
   "cell_type": "code",
   "execution_count": 160,
   "id": "c4446324",
   "metadata": {},
   "outputs": [
    {
     "data": {
      "text/plain": [
       "<AxesSubplot:xlabel='Date', ylabel='Count'>"
      ]
     },
     "execution_count": 160,
     "metadata": {},
     "output_type": "execute_result"
    },
    {
     "data": {
      "image/png": "[encoded data removed]",
      "text/plain": [
       "<Figure size 432x288 with 1 Axes>"
      ]
     },
     "metadata": {
      "needs_background": "light"
     },
     "output_type": "display_data"
    }
   ],
   "source": [
    "sns.histplot(data=high_abv_high_number_of_ratings, x='Date')"
   ]
  },
  {
   "cell_type": "code",
   "execution_count": 62,
   "id": "26e58b09",
   "metadata": {
    "scrolled": false
   },
   "outputs": [
    {
     "data": {
      "text/plain": [
       "Date\n",
       "2014-08-17 12:00:00     7254\n",
       "2014-11-15 12:00:00     7255\n",
       "2014-11-23 12:00:00     7261\n",
       "2014-12-14 12:00:00     7274\n",
       "2014-09-13 12:00:00     7288\n",
       "2014-11-30 12:00:00     7302\n",
       "2014-06-29 12:00:00     7322\n",
       "2014-08-09 12:00:00     7328\n",
       "2014-07-12 12:00:00     7331\n",
       "2014-09-28 12:00:00     7420\n",
       "2014-07-26 12:00:00     7449\n",
       "2014-08-16 12:00:00     7503\n",
       "2014-11-16 12:00:00     7521\n",
       "2014-10-19 12:00:00     7586\n",
       "2014-12-07 12:00:00     7606\n",
       "2014-07-13 12:00:00     7609\n",
       "2014-08-10 12:00:00     7649\n",
       "2014-07-19 12:00:00     7698\n",
       "2014-07-27 12:00:00     7732\n",
       "2014-10-28 12:00:00     8018\n",
       "2014-11-09 12:00:00     8085\n",
       "2014-09-01 12:00:00     8153\n",
       "2014-08-03 12:00:00     8282\n",
       "2011-11-17 12:00:00     8292\n",
       "2014-10-26 12:00:00     8658\n",
       "2011-11-18 12:00:00     8770\n",
       "2014-07-20 12:00:00     9088\n",
       "2011-11-16 12:00:00     9593\n",
       "2011-11-14 12:00:00    17131\n",
       "2011-11-15 12:00:00    17696\n",
       "dtype: int64"
      ]
     },
     "execution_count": 62,
     "metadata": {},
     "output_type": "execute_result"
    }
   ],
   "source": [
    "ratings.groupby('Date').size().sort_values().tail(30)"
   ]
  },
  {
   "cell_type": "code",
   "execution_count": 161,
   "id": "65d26d7f",
   "metadata": {
    "scrolled": false
   },
   "outputs": [
    {
     "data": {
      "text/plain": [
       "<AxesSubplot:xlabel='Date', ylabel='Count'>"
      ]
     },
     "execution_count": 161,
     "metadata": {},
     "output_type": "execute_result"
    },
    {
     "data": {
      "image/png": "[encoded data removed]",
      "text/plain": [
       "<Figure size 432x288 with 1 Axes>"
      ]
     },
     "metadata": {
      "needs_background": "light"
     },
     "output_type": "display_data"
    }
   ],
   "source": [
    "sns.histplot(data=ratings['Date'])"
   ]
  },
  {
   "cell_type": "code",
   "execution_count": 162,
   "id": "15465a81",
   "metadata": {},
   "outputs": [
    {
     "data": {
      "text/plain": [
       "<AxesSubplot:xlabel='Date', ylabel='Count'>"
      ]
     },
     "execution_count": 162,
     "metadata": {},
     "output_type": "execute_result"
    },
    {
     "data": {
      "image/png": "[encoded data removed]",
      "text/plain": [
       "<Figure size 432x288 with 1 Axes>"
      ]
     },
     "metadata": {
      "needs_background": "light"
     },
     "output_type": "display_data"
    }
   ],
   "source": [
    "sns.histplot(data=reviews['Date'])"
   ]
  },
  {
   "cell_type": "code",
   "execution_count": 30,
   "id": "3e3e38b6",
   "metadata": {},
   "outputs": [
    {
     "name": "stdout",
     "output_type": "stream",
     "text": [
      "How many words are here? 5\n"
     ]
    }
   ],
   "source": [
    "# 2.1 (provided code)\n",
    "\n",
    "def count_words_simple(x):\n",
    "    if x == None:\n",
    "        return 0\n",
    "    return len(x.split(\" \"))\n",
    "str_test = \"How many words are here?\"\n",
    "print(str_test, count_words_simple(str_test))"
   ]
  },
  {
   "cell_type": "code",
   "execution_count": 31,
   "id": "116cba32",
   "metadata": {},
   "outputs": [],
   "source": [
    "reviews['num_words'] = reviews['Text'].apply(lambda x: count_words_simple(x))"
   ]
  },
  {
   "cell_type": "code",
   "execution_count": 32,
   "id": "5ea5d8b3",
   "metadata": {},
   "outputs": [
    {
     "data": {
      "text/plain": [
       "935"
      ]
     },
     "execution_count": 32,
     "metadata": {},
     "output_type": "execute_result"
    }
   ],
   "source": [
    "reviews['num_words'].nunique()"
   ]
  },
  {
   "cell_type": "code",
   "execution_count": 36,
   "id": "dc88f92d",
   "metadata": {},
   "outputs": [
    {
     "data": {
      "text/html": [
       "<div>\n",
       "<style scoped>\n",
       "    .dataframe tbody tr th:only-of-type {\n",
       "        vertical-align: middle;\n",
       "    }\n",
       "\n",
       "    .dataframe tbody tr th {\n",
       "        vertical-align: top;\n",
       "    }\n",
       "\n",
       "    .dataframe thead th {\n",
       "        text-align: right;\n",
       "    }\n",
       "</style>\n",
       "<table border=\"1\" class=\"dataframe\">\n",
       "  <thead>\n",
       "    <tr style=\"text-align: right;\">\n",
       "      <th></th>\n",
       "      <th>Beer Id</th>\n",
       "      <th>Brewery Id</th>\n",
       "      <th>Abv</th>\n",
       "      <th>Appearance</th>\n",
       "      <th>Aroma</th>\n",
       "      <th>Palate</th>\n",
       "      <th>Taste</th>\n",
       "      <th>Overall</th>\n",
       "      <th>Rating</th>\n",
       "    </tr>\n",
       "    <tr>\n",
       "      <th>num_words</th>\n",
       "      <th></th>\n",
       "      <th></th>\n",
       "      <th></th>\n",
       "      <th></th>\n",
       "      <th></th>\n",
       "      <th></th>\n",
       "      <th></th>\n",
       "      <th></th>\n",
       "      <th></th>\n",
       "    </tr>\n",
       "  </thead>\n",
       "  <tbody>\n",
       "    <tr>\n",
       "      <th>0</th>\n",
       "      <td>&lt;NA&gt;</td>\n",
       "      <td>&lt;NA&gt;</td>\n",
       "      <td>NaN</td>\n",
       "      <td>NaN</td>\n",
       "      <td>NaN</td>\n",
       "      <td>NaN</td>\n",
       "      <td>NaN</td>\n",
       "      <td>NaN</td>\n",
       "      <td>NaN</td>\n",
       "    </tr>\n",
       "    <tr>\n",
       "      <th>2</th>\n",
       "      <td>40640.285714</td>\n",
       "      <td>8152.714286</td>\n",
       "      <td>7.385714</td>\n",
       "      <td>3.964286</td>\n",
       "      <td>4.000</td>\n",
       "      <td>3.785714</td>\n",
       "      <td>3.821429</td>\n",
       "      <td>3.964286</td>\n",
       "      <td>3.898571</td>\n",
       "    </tr>\n",
       "    <tr>\n",
       "      <th>3</th>\n",
       "      <td>171091.5</td>\n",
       "      <td>17460.5</td>\n",
       "      <td>7.325000</td>\n",
       "      <td>3.625000</td>\n",
       "      <td>3.625</td>\n",
       "      <td>3.500000</td>\n",
       "      <td>3.125000</td>\n",
       "      <td>3.375000</td>\n",
       "      <td>3.365000</td>\n",
       "    </tr>\n",
       "    <tr>\n",
       "      <th>5</th>\n",
       "      <td>110491.5</td>\n",
       "      <td>14654.5</td>\n",
       "      <td>7.250000</td>\n",
       "      <td>4.000000</td>\n",
       "      <td>4.125</td>\n",
       "      <td>3.875000</td>\n",
       "      <td>4.000000</td>\n",
       "      <td>4.000000</td>\n",
       "      <td>4.020000</td>\n",
       "    </tr>\n",
       "    <tr>\n",
       "      <th>6</th>\n",
       "      <td>66455.0</td>\n",
       "      <td>13617.0</td>\n",
       "      <td>6.000000</td>\n",
       "      <td>4.000000</td>\n",
       "      <td>3.500</td>\n",
       "      <td>3.500000</td>\n",
       "      <td>3.500000</td>\n",
       "      <td>3.625000</td>\n",
       "      <td>3.555000</td>\n",
       "    </tr>\n",
       "    <tr>\n",
       "      <th>...</th>\n",
       "      <td>...</td>\n",
       "      <td>...</td>\n",
       "      <td>...</td>\n",
       "      <td>...</td>\n",
       "      <td>...</td>\n",
       "      <td>...</td>\n",
       "      <td>...</td>\n",
       "      <td>...</td>\n",
       "      <td>...</td>\n",
       "    </tr>\n",
       "    <tr>\n",
       "      <th>958</th>\n",
       "      <td>91918.0</td>\n",
       "      <td>25370.0</td>\n",
       "      <td>8.000000</td>\n",
       "      <td>4.250000</td>\n",
       "      <td>4.000</td>\n",
       "      <td>4.000000</td>\n",
       "      <td>4.000000</td>\n",
       "      <td>4.000000</td>\n",
       "      <td>4.020000</td>\n",
       "    </tr>\n",
       "    <tr>\n",
       "      <th>959</th>\n",
       "      <td>46188.0</td>\n",
       "      <td>199.0</td>\n",
       "      <td>10.000000</td>\n",
       "      <td>4.000000</td>\n",
       "      <td>4.000</td>\n",
       "      <td>3.500000</td>\n",
       "      <td>3.500000</td>\n",
       "      <td>4.000000</td>\n",
       "      <td>3.750000</td>\n",
       "    </tr>\n",
       "    <tr>\n",
       "      <th>968</th>\n",
       "      <td>22405.0</td>\n",
       "      <td>794.5</td>\n",
       "      <td>7.250000</td>\n",
       "      <td>4.250000</td>\n",
       "      <td>3.500</td>\n",
       "      <td>4.000000</td>\n",
       "      <td>4.000000</td>\n",
       "      <td>4.000000</td>\n",
       "      <td>3.895000</td>\n",
       "    </tr>\n",
       "    <tr>\n",
       "      <th>977</th>\n",
       "      <td>35168.0</td>\n",
       "      <td>12351.0</td>\n",
       "      <td>8.500000</td>\n",
       "      <td>5.000000</td>\n",
       "      <td>4.500</td>\n",
       "      <td>5.000000</td>\n",
       "      <td>4.500000</td>\n",
       "      <td>4.500000</td>\n",
       "      <td>4.580000</td>\n",
       "    </tr>\n",
       "    <tr>\n",
       "      <th>986</th>\n",
       "      <td>567.0</td>\n",
       "      <td>174.0</td>\n",
       "      <td>4.600000</td>\n",
       "      <td>5.000000</td>\n",
       "      <td>5.000</td>\n",
       "      <td>5.000000</td>\n",
       "      <td>5.000000</td>\n",
       "      <td>5.000000</td>\n",
       "      <td>5.000000</td>\n",
       "    </tr>\n",
       "  </tbody>\n",
       "</table>\n",
       "<p>935 rows × 9 columns</p>\n",
       "</div>"
      ],
      "text/plain": [
       "                Beer Id   Brewery Id        Abv  Appearance  Aroma    Palate  \\\n",
       "num_words                                                                      \n",
       "0                  <NA>         <NA>        NaN         NaN    NaN       NaN   \n",
       "2          40640.285714  8152.714286   7.385714    3.964286  4.000  3.785714   \n",
       "3              171091.5      17460.5   7.325000    3.625000  3.625  3.500000   \n",
       "5              110491.5      14654.5   7.250000    4.000000  4.125  3.875000   \n",
       "6               66455.0      13617.0   6.000000    4.000000  3.500  3.500000   \n",
       "...                 ...          ...        ...         ...    ...       ...   \n",
       "958             91918.0      25370.0   8.000000    4.250000  4.000  4.000000   \n",
       "959             46188.0        199.0  10.000000    4.000000  4.000  3.500000   \n",
       "968             22405.0        794.5   7.250000    4.250000  3.500  4.000000   \n",
       "977             35168.0      12351.0   8.500000    5.000000  4.500  5.000000   \n",
       "986               567.0        174.0   4.600000    5.000000  5.000  5.000000   \n",
       "\n",
       "              Taste   Overall    Rating  \n",
       "num_words                                \n",
       "0               NaN       NaN       NaN  \n",
       "2          3.821429  3.964286  3.898571  \n",
       "3          3.125000  3.375000  3.365000  \n",
       "5          4.000000  4.000000  4.020000  \n",
       "6          3.500000  3.625000  3.555000  \n",
       "...             ...       ...       ...  \n",
       "958        4.000000  4.000000  4.020000  \n",
       "959        3.500000  4.000000  3.750000  \n",
       "968        4.000000  4.000000  3.895000  \n",
       "977        4.500000  4.500000  4.580000  \n",
       "986        5.000000  5.000000  5.000000  \n",
       "\n",
       "[935 rows x 9 columns]"
      ]
     },
     "execution_count": 36,
     "metadata": {},
     "output_type": "execute_result"
    }
   ],
   "source": [
    "num_words_grouped = reviews.groupby('num_words').mean()\n",
    "num_words_grouped"
   ]
  },
  {
   "cell_type": "code",
   "execution_count": 45,
   "id": "4b7749ad",
   "metadata": {},
   "outputs": [
    {
     "data": {
      "text/plain": [
       "num_words\n",
       "0      1\n",
       "2      7\n",
       "3      2\n",
       "5      2\n",
       "6      2\n",
       "      ..\n",
       "958    1\n",
       "959    1\n",
       "968    2\n",
       "977    1\n",
       "986    1\n",
       "Length: 935, dtype: int64"
      ]
     },
     "execution_count": 45,
     "metadata": {},
     "output_type": "execute_result"
    }
   ],
   "source": [
    "reviews.groupby('num_words').size()"
   ]
  },
  {
   "cell_type": "code",
   "execution_count": 47,
   "id": "ae1e7480",
   "metadata": {},
   "outputs": [
    {
     "data": {
      "text/plain": [
       "<AxesSubplot:xlabel='num_words'>"
      ]
     },
     "execution_count": 47,
     "metadata": {},
     "output_type": "execute_result"
    },
    {
     "data": {
      "image/png": "[encoded data removed]",
      "text/plain": [
       "<Figure size 432x288 with 1 Axes>"
      ]
     },
     "metadata": {
      "needs_background": "light"
     },
     "output_type": "display_data"
    }
   ],
   "source": [
    "sns.scatterplot(data=reviews.groupby('num_words').size())"
   ]
  },
  {
   "cell_type": "code",
   "execution_count": 63,
   "id": "63b33a22",
   "metadata": {},
   "outputs": [
    {
     "data": {
      "text/html": [
       "<div>\n",
       "<style scoped>\n",
       "    .dataframe tbody tr th:only-of-type {\n",
       "        vertical-align: middle;\n",
       "    }\n",
       "\n",
       "    .dataframe tbody tr th {\n",
       "        vertical-align: top;\n",
       "    }\n",
       "\n",
       "    .dataframe thead th {\n",
       "        text-align: right;\n",
       "    }\n",
       "</style>\n",
       "<table border=\"1\" class=\"dataframe\">\n",
       "  <thead>\n",
       "    <tr style=\"text-align: right;\">\n",
       "      <th></th>\n",
       "      <th>Beer Id</th>\n",
       "      <th>Brewery Id</th>\n",
       "      <th>Abv</th>\n",
       "      <th>Appearance</th>\n",
       "      <th>Aroma</th>\n",
       "      <th>Palate</th>\n",
       "      <th>Taste</th>\n",
       "      <th>Overall</th>\n",
       "      <th>Rating</th>\n",
       "    </tr>\n",
       "    <tr>\n",
       "      <th>num_words</th>\n",
       "      <th></th>\n",
       "      <th></th>\n",
       "      <th></th>\n",
       "      <th></th>\n",
       "      <th></th>\n",
       "      <th></th>\n",
       "      <th></th>\n",
       "      <th></th>\n",
       "      <th></th>\n",
       "    </tr>\n",
       "  </thead>\n",
       "  <tbody>\n",
       "    <tr>\n",
       "      <th>2</th>\n",
       "      <td>40640.285714</td>\n",
       "      <td>8152.714286</td>\n",
       "      <td>7.385714</td>\n",
       "      <td>3.964286</td>\n",
       "      <td>4.000000</td>\n",
       "      <td>3.785714</td>\n",
       "      <td>3.821429</td>\n",
       "      <td>3.964286</td>\n",
       "      <td>3.898571</td>\n",
       "    </tr>\n",
       "    <tr>\n",
       "      <th>3</th>\n",
       "      <td>171091.5</td>\n",
       "      <td>17460.5</td>\n",
       "      <td>7.325000</td>\n",
       "      <td>3.625000</td>\n",
       "      <td>3.625000</td>\n",
       "      <td>3.500000</td>\n",
       "      <td>3.125000</td>\n",
       "      <td>3.375000</td>\n",
       "      <td>3.365000</td>\n",
       "    </tr>\n",
       "    <tr>\n",
       "      <th>5</th>\n",
       "      <td>110491.5</td>\n",
       "      <td>14654.5</td>\n",
       "      <td>7.250000</td>\n",
       "      <td>4.000000</td>\n",
       "      <td>4.125000</td>\n",
       "      <td>3.875000</td>\n",
       "      <td>4.000000</td>\n",
       "      <td>4.000000</td>\n",
       "      <td>4.020000</td>\n",
       "    </tr>\n",
       "    <tr>\n",
       "      <th>6</th>\n",
       "      <td>66455.0</td>\n",
       "      <td>13617.0</td>\n",
       "      <td>6.000000</td>\n",
       "      <td>4.000000</td>\n",
       "      <td>3.500000</td>\n",
       "      <td>3.500000</td>\n",
       "      <td>3.500000</td>\n",
       "      <td>3.625000</td>\n",
       "      <td>3.555000</td>\n",
       "    </tr>\n",
       "    <tr>\n",
       "      <th>7</th>\n",
       "      <td>71555.5</td>\n",
       "      <td>17089.5</td>\n",
       "      <td>7.100000</td>\n",
       "      <td>3.500000</td>\n",
       "      <td>3.750000</td>\n",
       "      <td>3.750000</td>\n",
       "      <td>3.875000</td>\n",
       "      <td>3.750000</td>\n",
       "      <td>3.785000</td>\n",
       "    </tr>\n",
       "    <tr>\n",
       "      <th>...</th>\n",
       "      <td>...</td>\n",
       "      <td>...</td>\n",
       "      <td>...</td>\n",
       "      <td>...</td>\n",
       "      <td>...</td>\n",
       "      <td>...</td>\n",
       "      <td>...</td>\n",
       "      <td>...</td>\n",
       "      <td>...</td>\n",
       "    </tr>\n",
       "    <tr>\n",
       "      <th>75</th>\n",
       "      <td>47256.899216</td>\n",
       "      <td>6227.424723</td>\n",
       "      <td>6.897963</td>\n",
       "      <td>3.839421</td>\n",
       "      <td>3.732601</td>\n",
       "      <td>3.754248</td>\n",
       "      <td>3.787505</td>\n",
       "      <td>3.812722</td>\n",
       "      <td>3.780548</td>\n",
       "    </tr>\n",
       "    <tr>\n",
       "      <th>76</th>\n",
       "      <td>46701.443519</td>\n",
       "      <td>6166.35292</td>\n",
       "      <td>6.917562</td>\n",
       "      <td>3.848513</td>\n",
       "      <td>3.743298</td>\n",
       "      <td>3.764334</td>\n",
       "      <td>3.797738</td>\n",
       "      <td>3.816819</td>\n",
       "      <td>3.789134</td>\n",
       "    </tr>\n",
       "    <tr>\n",
       "      <th>77</th>\n",
       "      <td>46705.541871</td>\n",
       "      <td>6167.933441</td>\n",
       "      <td>6.907032</td>\n",
       "      <td>3.847124</td>\n",
       "      <td>3.745652</td>\n",
       "      <td>3.761099</td>\n",
       "      <td>3.795743</td>\n",
       "      <td>3.816429</td>\n",
       "      <td>3.789296</td>\n",
       "    </tr>\n",
       "    <tr>\n",
       "      <th>78</th>\n",
       "      <td>46355.693757</td>\n",
       "      <td>6113.463013</td>\n",
       "      <td>6.921055</td>\n",
       "      <td>3.846149</td>\n",
       "      <td>3.745502</td>\n",
       "      <td>3.762127</td>\n",
       "      <td>3.802759</td>\n",
       "      <td>3.824968</td>\n",
       "      <td>3.793553</td>\n",
       "    </tr>\n",
       "    <tr>\n",
       "      <th>79</th>\n",
       "      <td>46395.560289</td>\n",
       "      <td>6179.777644</td>\n",
       "      <td>6.940981</td>\n",
       "      <td>3.846027</td>\n",
       "      <td>3.746179</td>\n",
       "      <td>3.768542</td>\n",
       "      <td>3.803891</td>\n",
       "      <td>3.824895</td>\n",
       "      <td>3.794854</td>\n",
       "    </tr>\n",
       "  </tbody>\n",
       "</table>\n",
       "<p>77 rows × 9 columns</p>\n",
       "</div>"
      ],
      "text/plain": [
       "                Beer Id   Brewery Id       Abv  Appearance     Aroma  \\\n",
       "num_words                                                              \n",
       "2          40640.285714  8152.714286  7.385714    3.964286  4.000000   \n",
       "3              171091.5      17460.5  7.325000    3.625000  3.625000   \n",
       "5              110491.5      14654.5  7.250000    4.000000  4.125000   \n",
       "6               66455.0      13617.0  6.000000    4.000000  3.500000   \n",
       "7               71555.5      17089.5  7.100000    3.500000  3.750000   \n",
       "...                 ...          ...       ...         ...       ...   \n",
       "75         47256.899216  6227.424723  6.897963    3.839421  3.732601   \n",
       "76         46701.443519   6166.35292  6.917562    3.848513  3.743298   \n",
       "77         46705.541871  6167.933441  6.907032    3.847124  3.745652   \n",
       "78         46355.693757  6113.463013  6.921055    3.846149  3.745502   \n",
       "79         46395.560289  6179.777644  6.940981    3.846027  3.746179   \n",
       "\n",
       "             Palate     Taste   Overall    Rating  \n",
       "num_words                                          \n",
       "2          3.785714  3.821429  3.964286  3.898571  \n",
       "3          3.500000  3.125000  3.375000  3.365000  \n",
       "5          3.875000  4.000000  4.000000  4.020000  \n",
       "6          3.500000  3.500000  3.625000  3.555000  \n",
       "7          3.750000  3.875000  3.750000  3.785000  \n",
       "...             ...       ...       ...       ...  \n",
       "75         3.754248  3.787505  3.812722  3.780548  \n",
       "76         3.764334  3.797738  3.816819  3.789134  \n",
       "77         3.761099  3.795743  3.816429  3.789296  \n",
       "78         3.762127  3.802759  3.824968  3.793553  \n",
       "79         3.768542  3.803891  3.824895  3.794854  \n",
       "\n",
       "[77 rows x 9 columns]"
      ]
     },
     "execution_count": 63,
     "metadata": {},
     "output_type": "execute_result"
    }
   ],
   "source": [
    "num_words_grouped[(num_words_grouped.index < 80) & (num_words_grouped.index > 0)]"
   ]
  },
  {
   "cell_type": "code",
   "execution_count": 67,
   "id": "8e6d1a59",
   "metadata": {},
   "outputs": [
    {
     "data": {
      "text/plain": [
       "Beer Id       88088.828611\n",
       "Brewery Id    12052.905276\n",
       "Abv               6.978496\n",
       "Appearance        3.941726\n",
       "Aroma             3.832328\n",
       "Palate            3.820621\n",
       "Taste             3.848250\n",
       "Overall           3.851267\n",
       "Rating            3.849524\n",
       "dtype: float64"
      ]
     },
     "execution_count": 67,
     "metadata": {},
     "output_type": "execute_result"
    }
   ],
   "source": [
    "num_words_grouped[(num_words_grouped.index < 50) & (num_words_grouped.index > 0)].mean()"
   ]
  },
  {
   "cell_type": "code",
   "execution_count": 66,
   "id": "b35daec6",
   "metadata": {},
   "outputs": [
    {
     "data": {
      "text/plain": [
       "Beer Id       58947.998238\n",
       "Brewery Id     7359.185943\n",
       "Abv               8.337028\n",
       "Appearance        3.950849\n",
       "Aroma             3.931187\n",
       "Palate            3.871252\n",
       "Taste             3.932135\n",
       "Overall           3.913814\n",
       "Rating            3.921944\n",
       "dtype: float64"
      ]
     },
     "execution_count": 66,
     "metadata": {},
     "output_type": "execute_result"
    }
   ],
   "source": [
    "num_words_grouped[num_words_grouped.index > 200].mean()"
   ]
  },
  {
   "cell_type": "code",
   "execution_count": null,
   "id": "a30babd8",
   "metadata": {},
   "outputs": [],
   "source": []
  }
 ],
 "metadata": {
  "kernelspec": {
   "display_name": "Python 3 (ipykernel)",
   "language": "python",
   "name": "python3"
  },
  "language_info": {
   "codemirror_mode": {
    "name": "ipython",
    "version": 3
   },
   "file_extension": ".py",
   "mimetype": "text/x-python",
   "name": "python",
   "nbconvert_exporter": "python",
   "pygments_lexer": "ipython3",
   "version": "3.9.13"
  }
 },
 "nbformat": 4,
 "nbformat_minor": 5
}
