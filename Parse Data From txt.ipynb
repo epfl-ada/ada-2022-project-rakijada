{
 "cells": [
  {
   "cell_type": "markdown",
   "id": "2594cff9",
   "metadata": {},
   "source": [
    "# Check out new version of this file: data_import.ipynb"
   ]
  },
  {
   "cell_type": "code",
   "execution_count": 1,
   "id": "8f832663",
   "metadata": {},
   "outputs": [],
   "source": [
    "import pandas as pd\n",
    "import datetime"
   ]
  },
  {
   "cell_type": "code",
   "execution_count": 4,
   "id": "50cc721b",
   "metadata": {},
   "outputs": [],
   "source": [
    "def prepare_row(raw_to_column):\n",
    "    retRow = {}\n",
    "    for key in raw_to_column.keys():\n",
    "        retRow[raw_to_column[key]] = None\n",
    "    return retRow\n",
    "\n",
    "def read_file(path_to_file):\n",
    "    \"\"\"\n",
    "        Function that reads .txt file on the given path and transforms it to pandas DataFrame. It's assumed that\n",
    "        an empty line is a separator between entries in the file.\n",
    "        Usage example:\n",
    "            df = read_file(\"datasets/MatchedData/ratings_ba.txt\")\n",
    "            df.head()\n",
    "    \"\"\"\n",
    "    \n",
    "    f = open(path_to_file, \"r\", encoding = 'utf8')\n",
    "    \n",
    "    lines = f.readlines()\n",
    "    \n",
    "    raw_to_column = {\"beer_name\" : \"Beer Name\", \"beer_id\" : \"Beer Id\", \"style\" : \"Style\", \"brewery_name\" : \"Brewery Name\", \"brewery_id\" : \"Brewery Id\", \"abv\" : \"Abv\", \"date\" : \"Date\", \"user_name\" : \"Username\", \"user_id\" : \"User Id\", \"appearance\" : \"Appearance\", \"palate\" : \"Palate\", \"taste\" : \"Taste\", 'aroma' : 'Aroma', \"overall\" : \"Overall\", \"rating\" : \"Rating\", \"text\" : \"Text\", \"review\" : \"Review\"}\n",
    "    \n",
    "    #Preparing the dictionary for reading the next entry\n",
    "    newRow = prepare_row(raw_to_column)\n",
    "    \n",
    "    dataFrameDict = {'Beer Name' : [], 'Beer Id' : [], 'Brewery Name' : [], 'Brewery Id' : [], 'Style' : [], 'Abv' : [], 'Date' : [], 'Username' : [], 'User Id' : [],'Appearance' : [], 'Aroma' : [],'Palate' : [],'Taste' : [],'Overall' : [],'Rating' : [],'Text' : [],'Review' : []}\n",
    "    \n",
    "    for line in lines:\n",
    "        \n",
    "        delim = line.find(\":\")\n",
    "        \n",
    "        if ':' not in line: #No delimiter found <=> empty line found <=> current entry has ended\n",
    "            for key in newRow.keys():\n",
    "                dataFrameDict[key].append(newRow[key])\n",
    "            newRow = prepare_row(raw_to_column)\n",
    "        else:\n",
    "            key = line[:delim]\n",
    "            val = line[delim+1:-1].strip()\n",
    "            # Following lines are just converting the value to the corresponding data type\n",
    "            if key == 'date':\n",
    "                try:\n",
    "                    newRow[raw_to_column[key]] = datetime.datetime.fromtimestamp(int(val))\n",
    "                except:\n",
    "                    newRow[raw_to_column[key]] = None\n",
    "            else:\n",
    "                if key == 'beer_id' or key == 'brewery_id':\n",
    "                    try:\n",
    "                        newRow[raw_to_column[key]] = int(val)\n",
    "                    except:\n",
    "                        newRow[raw_to_column[key]] = None\n",
    "                else:\n",
    "                    if key == 'abv' or key == 'appearance' or key =='aroma' or key == 'palate' or key == 'taste' or key == 'overall' or key =='rating':\n",
    "                        try:\n",
    "                            newRow[raw_to_column[key]] = float(val)\n",
    "                        except:\n",
    "                            newRow[raw_to_column[key]] = None\n",
    "                    else:\n",
    "                        if key == 'review':\n",
    "                            try:\n",
    "                                newRow[raw_to_column[key]] = bool(val)\n",
    "                            except:\n",
    "                                newRow[raw_to_column[key]] = None\n",
    "                        else:\n",
    "                            newRow[raw_to_column[key]] = val\n",
    "                    \n",
    "    #If file doesn't end with an empty line\n",
    "    if len(newRow) != 0:\n",
    "        for key in newRow.keys():\n",
    "            dataFrameDict[key].append(newRow[key])\n",
    "    \n",
    "    df = pd.DataFrame(dataFrameDict)\n",
    "    #Pandas will cast these values to float by default - because NaN's exist\n",
    "    df['Beer Id'] = df['Beer Id'].astype(pd.Int64Dtype())\n",
    "    df['Brewery Id'] = df['Brewery Id'].astype(pd.Int64Dtype())\n",
    "    \n",
    "    return df"
   ]
  },
  {
   "cell_type": "code",
   "execution_count": 5,
   "id": "77159fb5",
   "metadata": {},
   "outputs": [],
   "source": [
    "df = read_file(\"datasets/BeerAdvocate/reviews.txt\")"
   ]
  },
  {
   "cell_type": "code",
   "execution_count": 6,
   "id": "2d2349e4",
   "metadata": {},
   "outputs": [
    {
     "data": {
      "text/plain": [
       "(2589587, 17)"
      ]
     },
     "execution_count": 6,
     "metadata": {},
     "output_type": "execute_result"
    }
   ],
   "source": [
    "df.shape"
   ]
  },
  {
   "cell_type": "code",
   "execution_count": 6,
   "id": "b0b78807",
   "metadata": {},
   "outputs": [],
   "source": [
    "df.to_pickle('ba_ratings.pkl')"
   ]
  },
  {
   "cell_type": "code",
   "execution_count": 9,
   "id": "f7841fb5",
   "metadata": {},
   "outputs": [],
   "source": [
    "df2 = pd.read_pickle('ba_ratings.pkl')"
   ]
  },
  {
   "cell_type": "code",
   "execution_count": 11,
   "id": "cc766486",
   "metadata": {},
   "outputs": [],
   "source": [
    "df3 = read_file(\"datasets/BeerAdvocate/reviews.txt\")"
   ]
  },
  {
   "cell_type": "code",
   "execution_count": 13,
   "id": "a6cee1a9",
   "metadata": {},
   "outputs": [],
   "source": [
    "df3.to_pickle('ba_reviews.pkl')"
   ]
  },
  {
   "cell_type": "code",
   "execution_count": 85,
   "id": "d7caafd9",
   "metadata": {},
   "outputs": [],
   "source": [
    "import tarfile\n",
    "import os"
   ]
  },
  {
   "cell_type": "code",
   "execution_count": 86,
   "id": "b147e7c1",
   "metadata": {},
   "outputs": [],
   "source": [
    "DATA_FILE = './datasets'"
   ]
  },
  {
   "cell_type": "code",
   "execution_count": 87,
   "id": "e53d46a8",
   "metadata": {},
   "outputs": [],
   "source": [
    "def extract_tar_or_gz(filepath, to_folder='.'):\n",
    "    if filepath.endswith(\".txt.gz\"):\n",
    "        gunzip_shutil(filepath, os.path.splitext(filepath)[0])\n",
    "        os.remove(filepath)\n",
    "        \n",
    "    elif filepath.endswith(\"tar.gz\"):\n",
    "        gz_file = tarfile.open(filepath, \"r:gz\")\n",
    "        gz_file.extractall(path=to_folder)\n",
    "        gz_file.close()\n",
    "    \n",
    "    elif filepath.endswith(\".tar\"):\n",
    "        tar_file = tarfile.open(filepath, \"r:\")\n",
    "        tar_file.extractall(path=to_folder)\n",
    "        tar_file.close()"
   ]
  },
  {
   "cell_type": "code",
   "execution_count": 91,
   "id": "3b5506ad",
   "metadata": {},
   "outputs": [],
   "source": [
    "def extract_file(filepath, to_folder):\n",
    "    extract_tar_or_gz(filepath, to_folder)\n",
    "    print(filepath)\n",
    "    print(to_folder)\n",
    "    \n",
    "    directory = os.path.join(to_folder)\n",
    "    for filename in os.listdir(directory):\n",
    "        file = os.path.join(directory, filename)\n",
    "        if os.path.isfile(file):\n",
    "            print(file)\n",
    "            extract_tar_or_gz(file)"
   ]
  },
  {
   "cell_type": "code",
   "execution_count": 92,
   "id": "56f68167",
   "metadata": {},
   "outputs": [],
   "source": [
    "import gzip\n",
    "import shutil\n",
    "def gunzip_shutil(source_filepath, dest_filepath, block_size=65536):\n",
    "    with gzip.open(source_filepath, 'rb') as s_file, \\\n",
    "            open(dest_filepath, 'wb') as d_file:\n",
    "        shutil.copyfileobj(s_file, d_file, block_size)"
   ]
  },
  {
   "cell_type": "code",
   "execution_count": 93,
   "id": "d8b616f8",
   "metadata": {},
   "outputs": [
    {
     "name": "stdout",
     "output_type": "stream",
     "text": [
      "./datasets/test/BeerAdvocate.tar.gz\n",
      "./datasets/test2\n",
      "./datasets/test2\\beers.csv\n",
      "./datasets/test2\\breweries.csv\n",
      "./datasets/test2\\ratings.txt\n",
      "./datasets/test2\\ratings.txt.gz\n",
      "./datasets/test2\\reviews.txt\n",
      "./datasets/test2\\reviews.txt.gz\n",
      "./datasets/test2\\users.csv\n"
     ]
    }
   ],
   "source": [
    "extract_file(DATA_FILE + '/test/BeerAdvocate.tar.gz', DATA_FILE + '/test2')"
   ]
  },
  {
   "cell_type": "code",
   "execution_count": 83,
   "id": "86b2470b",
   "metadata": {},
   "outputs": [
    {
     "name": "stdout",
     "output_type": "stream",
     "text": [
      "./datasets/RateBeer.tar.gz\n",
      "./datasets/test3\n",
      "./datasets/test3/beers.csv\n",
      "./datasets/test3/breweries.csv\n",
      "./datasets/test3/ratings.txt.gz\n",
      "./datasets/test3/reviews.txt.gz\n",
      "./datasets/test3/users.csv\n"
     ]
    }
   ],
   "source": [
    "extract_file(DATA_FILE + '/RateBeer.tar.gz', DATA_FILE + '/test3')"
   ]
  },
  {
   "cell_type": "code",
   "execution_count": 84,
   "id": "bba66fce",
   "metadata": {},
   "outputs": [
    {
     "name": "stdout",
     "output_type": "stream",
     "text": [
      "./datasets/matched_beer_data.tar.gz\n",
      "./datasets/test4\n",
      "./datasets/test4/beers.csv\n",
      "./datasets/test4/breweries.csv\n",
      "./datasets/test4/ratings.csv\n",
      "./datasets/test4/ratings_ba.txt.gz\n",
      "./datasets/test4/ratings_rb.txt.gz\n",
      "./datasets/test4/ratings_with_text_ba.txt.gz\n",
      "./datasets/test4/ratings_with_text_rb.txt.gz\n",
      "./datasets/test4/users.csv\n",
      "./datasets/test4/users_approx.csv\n"
     ]
    }
   ],
   "source": [
    "extract_file(DATA_FILE + '/matched_beer_data.tar.gz', DATA_FILE + '/test4')"
   ]
  },
  {
   "cell_type": "code",
   "execution_count": 98,
   "id": "0f851cd3",
   "metadata": {},
   "outputs": [],
   "source": [
    "def create_pickle_from_file(filepath):\n",
    "    df = read_file(filepath)\n",
    "    df.to_pickle(os.path.splitext(filepath)[0]+'.pkl')"
   ]
  },
  {
   "cell_type": "code",
   "execution_count": 97,
   "id": "4c7e4bdf",
   "metadata": {},
   "outputs": [
    {
     "name": "stdout",
     "output_type": "stream",
     "text": [
      "./datasets/test2/reviews.pkl\n"
     ]
    }
   ],
   "source": [
    "print(os.path.splitext('./datasets/test2/reviews.txt')[0]+'.pkl')"
   ]
  },
  {
   "cell_type": "code",
   "execution_count": 99,
   "id": "0a133615",
   "metadata": {},
   "outputs": [],
   "source": [
    "create_pickle_from_file(DATA_FILE + '/test2/reviews.txt')"
   ]
  },
  {
   "cell_type": "code",
   "execution_count": 100,
   "id": "6fa080aa",
   "metadata": {},
   "outputs": [],
   "source": [
    "import pandas as pd"
   ]
  },
  {
   "cell_type": "code",
   "execution_count": 101,
   "id": "35fc51f0",
   "metadata": {},
   "outputs": [],
   "source": [
    "dff = pd.read_pickle(DATA_FILE + '/test2/reviews.pkl')"
   ]
  },
  {
   "cell_type": "code",
   "execution_count": 102,
   "id": "faeeb3b5",
   "metadata": {},
   "outputs": [
    {
     "data": {
      "text/html": [
       "<div>\n",
       "<style scoped>\n",
       "    .dataframe tbody tr th:only-of-type {\n",
       "        vertical-align: middle;\n",
       "    }\n",
       "\n",
       "    .dataframe tbody tr th {\n",
       "        vertical-align: top;\n",
       "    }\n",
       "\n",
       "    .dataframe thead th {\n",
       "        text-align: right;\n",
       "    }\n",
       "</style>\n",
       "<table border=\"1\" class=\"dataframe\">\n",
       "  <thead>\n",
       "    <tr style=\"text-align: right;\">\n",
       "      <th></th>\n",
       "      <th>Beer Name</th>\n",
       "      <th>Beer Id</th>\n",
       "      <th>Brewery Name</th>\n",
       "      <th>Brewery Id</th>\n",
       "      <th>Style</th>\n",
       "      <th>Abv</th>\n",
       "      <th>Date</th>\n",
       "      <th>Username</th>\n",
       "      <th>User Id</th>\n",
       "      <th>Appearance</th>\n",
       "      <th>Aroma</th>\n",
       "      <th>Palate</th>\n",
       "      <th>Taste</th>\n",
       "      <th>Overall</th>\n",
       "      <th>Rating</th>\n",
       "      <th>Text</th>\n",
       "      <th>Review</th>\n",
       "    </tr>\n",
       "  </thead>\n",
       "  <tbody>\n",
       "    <tr>\n",
       "      <th>0</th>\n",
       "      <td>Régab</td>\n",
       "      <td>142544</td>\n",
       "      <td>Societe des Brasseries du Gabon (SOBRAGA)</td>\n",
       "      <td>37262</td>\n",
       "      <td>Euro Pale Lager</td>\n",
       "      <td>4.5</td>\n",
       "      <td>2015-08-20 12:00:00</td>\n",
       "      <td>nmann08</td>\n",
       "      <td>nmann08.184925</td>\n",
       "      <td>3.25</td>\n",
       "      <td>2.75</td>\n",
       "      <td>3.25</td>\n",
       "      <td>2.75</td>\n",
       "      <td>3.0</td>\n",
       "      <td>2.88</td>\n",
       "      <td>From a bottle, pours a piss yellow color with ...</td>\n",
       "      <td>None</td>\n",
       "    </tr>\n",
       "    <tr>\n",
       "      <th>1</th>\n",
       "      <td>Barelegs Brew</td>\n",
       "      <td>19590</td>\n",
       "      <td>Strangford Lough Brewing Company Ltd</td>\n",
       "      <td>10093</td>\n",
       "      <td>English Pale Ale</td>\n",
       "      <td>4.5</td>\n",
       "      <td>2009-02-20 12:00:00</td>\n",
       "      <td>StJamesGate</td>\n",
       "      <td>stjamesgate.163714</td>\n",
       "      <td>3.00</td>\n",
       "      <td>3.50</td>\n",
       "      <td>3.50</td>\n",
       "      <td>4.00</td>\n",
       "      <td>3.5</td>\n",
       "      <td>3.67</td>\n",
       "      <td>Pours pale copper with a thin head that quickl...</td>\n",
       "      <td>None</td>\n",
       "    </tr>\n",
       "    <tr>\n",
       "      <th>2</th>\n",
       "      <td>Barelegs Brew</td>\n",
       "      <td>19590</td>\n",
       "      <td>Strangford Lough Brewing Company Ltd</td>\n",
       "      <td>10093</td>\n",
       "      <td>English Pale Ale</td>\n",
       "      <td>4.5</td>\n",
       "      <td>2006-03-13 12:00:00</td>\n",
       "      <td>mdagnew</td>\n",
       "      <td>mdagnew.19527</td>\n",
       "      <td>4.00</td>\n",
       "      <td>3.50</td>\n",
       "      <td>3.50</td>\n",
       "      <td>4.00</td>\n",
       "      <td>3.5</td>\n",
       "      <td>3.73</td>\n",
       "      <td>500ml Bottle bought from The Vintage, Antrim.....</td>\n",
       "      <td>None</td>\n",
       "    </tr>\n",
       "    <tr>\n",
       "      <th>3</th>\n",
       "      <td>Barelegs Brew</td>\n",
       "      <td>19590</td>\n",
       "      <td>Strangford Lough Brewing Company Ltd</td>\n",
       "      <td>10093</td>\n",
       "      <td>English Pale Ale</td>\n",
       "      <td>4.5</td>\n",
       "      <td>2004-12-01 12:00:00</td>\n",
       "      <td>helloloser12345</td>\n",
       "      <td>helloloser12345.10867</td>\n",
       "      <td>4.00</td>\n",
       "      <td>3.50</td>\n",
       "      <td>4.00</td>\n",
       "      <td>4.00</td>\n",
       "      <td>4.5</td>\n",
       "      <td>3.98</td>\n",
       "      <td>Serving: 500ml brown bottlePour: Good head wit...</td>\n",
       "      <td>None</td>\n",
       "    </tr>\n",
       "    <tr>\n",
       "      <th>4</th>\n",
       "      <td>Barelegs Brew</td>\n",
       "      <td>19590</td>\n",
       "      <td>Strangford Lough Brewing Company Ltd</td>\n",
       "      <td>10093</td>\n",
       "      <td>English Pale Ale</td>\n",
       "      <td>4.5</td>\n",
       "      <td>2004-08-30 12:00:00</td>\n",
       "      <td>cypressbob</td>\n",
       "      <td>cypressbob.3708</td>\n",
       "      <td>4.00</td>\n",
       "      <td>4.00</td>\n",
       "      <td>4.00</td>\n",
       "      <td>4.00</td>\n",
       "      <td>4.0</td>\n",
       "      <td>4.00</td>\n",
       "      <td>500ml bottlePours with a light, slightly hazy ...</td>\n",
       "      <td>None</td>\n",
       "    </tr>\n",
       "  </tbody>\n",
       "</table>\n",
       "</div>"
      ],
      "text/plain": [
       "       Beer Name  Beer Id                               Brewery Name  \\\n",
       "0          Régab   142544  Societe des Brasseries du Gabon (SOBRAGA)   \n",
       "1  Barelegs Brew    19590       Strangford Lough Brewing Company Ltd   \n",
       "2  Barelegs Brew    19590       Strangford Lough Brewing Company Ltd   \n",
       "3  Barelegs Brew    19590       Strangford Lough Brewing Company Ltd   \n",
       "4  Barelegs Brew    19590       Strangford Lough Brewing Company Ltd   \n",
       "\n",
       "   Brewery Id             Style  Abv                Date         Username  \\\n",
       "0       37262   Euro Pale Lager  4.5 2015-08-20 12:00:00          nmann08   \n",
       "1       10093  English Pale Ale  4.5 2009-02-20 12:00:00      StJamesGate   \n",
       "2       10093  English Pale Ale  4.5 2006-03-13 12:00:00          mdagnew   \n",
       "3       10093  English Pale Ale  4.5 2004-12-01 12:00:00  helloloser12345   \n",
       "4       10093  English Pale Ale  4.5 2004-08-30 12:00:00       cypressbob   \n",
       "\n",
       "                 User Id  Appearance  Aroma  Palate  Taste  Overall  Rating  \\\n",
       "0         nmann08.184925        3.25   2.75    3.25   2.75      3.0    2.88   \n",
       "1     stjamesgate.163714        3.00   3.50    3.50   4.00      3.5    3.67   \n",
       "2          mdagnew.19527        4.00   3.50    3.50   4.00      3.5    3.73   \n",
       "3  helloloser12345.10867        4.00   3.50    4.00   4.00      4.5    3.98   \n",
       "4        cypressbob.3708        4.00   4.00    4.00   4.00      4.0    4.00   \n",
       "\n",
       "                                                Text Review  \n",
       "0  From a bottle, pours a piss yellow color with ...   None  \n",
       "1  Pours pale copper with a thin head that quickl...   None  \n",
       "2  500ml Bottle bought from The Vintage, Antrim.....   None  \n",
       "3  Serving: 500ml brown bottlePour: Good head wit...   None  \n",
       "4  500ml bottlePours with a light, slightly hazy ...   None  "
      ]
     },
     "execution_count": 102,
     "metadata": {},
     "output_type": "execute_result"
    }
   ],
   "source": [
    "dff.head()"
   ]
  },
  {
   "cell_type": "code",
   "execution_count": null,
   "id": "a739c609",
   "metadata": {},
   "outputs": [],
   "source": []
  }
 ],
 "metadata": {
  "kernelspec": {
   "display_name": "Python 3 (ipykernel)",
   "language": "python",
   "name": "python3"
  },
  "language_info": {
   "codemirror_mode": {
    "name": "ipython",
    "version": 3
   },
   "file_extension": ".py",
   "mimetype": "text/x-python",
   "name": "python",
   "nbconvert_exporter": "python",
   "pygments_lexer": "ipython3",
   "version": "3.9.12"
  }
 },
 "nbformat": 4,
 "nbformat_minor": 5
}
