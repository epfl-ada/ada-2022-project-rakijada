{
 "cells": [
  {
   "cell_type": "code",
   "execution_count": 3,
   "id": "8f832663",
   "metadata": {},
   "outputs": [],
   "source": [
    "import pandas as pd\n",
    "import datetime"
   ]
  },
  {
   "cell_type": "code",
   "execution_count": 4,
   "id": "50cc721b",
   "metadata": {},
   "outputs": [],
   "source": [
    "def prepare_row(raw_to_column):\n",
    "    retRow = {}\n",
    "    for key in raw_to_column.keys():\n",
    "        retRow[raw_to_column[key]] = None\n",
    "    return retRow\n",
    "\n",
    "def read_file(path_to_file):\n",
    "    \"\"\"\n",
    "        Function that reads .txt file on the given path and transforms it to pandas DataFrame. It's assumed that\n",
    "        an empty line is a separator between entries in the file.\n",
    "        Usage example:\n",
    "            df = read_file(\"datasets/MatchedData/ratings_ba.txt\")\n",
    "            df.head()\n",
    "    \"\"\"\n",
    "    \n",
    "    f = open(path_to_file, \"r\", encoding = 'utf8')\n",
    "    \n",
    "    lines = f.readlines()\n",
    "    \n",
    "    raw_to_column = {\"beer_name\" : \"Beer Name\", \"beer_id\" : \"Beer Id\", \"style\" : \"Style\", \"brewery_name\" : \"Brewery Name\", \"brewery_id\" : \"Brewery Id\", \"abv\" : \"Abv\", \"date\" : \"Date\", \"user_name\" : \"Username\", \"user_id\" : \"User Id\", \"appearance\" : \"Appearance\", \"palate\" : \"Palate\", \"taste\" : \"Taste\", 'aroma' : 'Aroma', \"overall\" : \"Overall\", \"rating\" : \"Rating\", \"text\" : \"Text\", \"review\" : \"Review\"}\n",
    "    \n",
    "    #Preparing the dictionary for reading the next entry\n",
    "    newRow = prepare_row(raw_to_column)\n",
    "    \n",
    "    dataFrameDict = {'Beer Name' : [], 'Beer Id' : [], 'Brewery Name' : [], 'Brewery Id' : [], 'Style' : [], 'Abv' : [], 'Date' : [], 'Username' : [], 'User Id' : [],'Appearance' : [], 'Aroma' : [],'Palate' : [],'Taste' : [],'Overall' : [],'Rating' : [],'Text' : [],'Review' : []}\n",
    "    \n",
    "    for line in lines:\n",
    "        \n",
    "        delim = line.find(\":\")\n",
    "        \n",
    "        if ':' not in line: #No delimiter found <=> empty line found <=> current entry has ended\n",
    "            for key in newRow.keys():\n",
    "                dataFrameDict[key].append(newRow[key])\n",
    "            newRow = prepare_row(raw_to_column)\n",
    "        else:\n",
    "            key = line[:delim]\n",
    "            val = line[delim+1:-1].strip()\n",
    "            # Following lines are just converting the value to the corresponding data type\n",
    "            if key == 'date':\n",
    "                try:\n",
    "                    newRow[raw_to_column[key]] = datetime.datetime.fromtimestamp(int(val))\n",
    "                except:\n",
    "                    newRow[raw_to_column[key]] = None\n",
    "            else:\n",
    "                if key == 'beer_id' or key == 'brewery_id':\n",
    "                    try:\n",
    "                        newRow[raw_to_column[key]] = int(val)\n",
    "                    except:\n",
    "                        newRow[raw_to_column[key]] = None\n",
    "                else:\n",
    "                    if key == 'abv' or key == 'appearance' or key =='aroma' or key == 'palate' or key == 'taste' or key == 'overall' or key =='rating':\n",
    "                        try:\n",
    "                            newRow[raw_to_column[key]] = float(val)\n",
    "                        except:\n",
    "                            newRow[raw_to_column[key]] = None\n",
    "                    else:\n",
    "                        if key == 'review':\n",
    "                            try:\n",
    "                                newRow[raw_to_column[key]] = bool(val)\n",
    "                            except:\n",
    "                                newRow[raw_to_column[key]] = None\n",
    "                        else:\n",
    "                            newRow[raw_to_column[key]] = val\n",
    "                    \n",
    "    #If file doesn't end with an empty line\n",
    "    if len(newRow) != 0:\n",
    "        for key in newRow.keys():\n",
    "            dataFrameDict[key].append(newRow[key])\n",
    "    \n",
    "    df = pd.DataFrame(dataFrameDict)\n",
    "    #Pandas will cast these values to float by default - because NaN's exist\n",
    "    df['Beer Id'] = df['Beer Id'].astype(pd.Int64Dtype())\n",
    "    df['Brewery Id'] = df['Brewery Id'].astype(pd.Int64Dtype())\n",
    "    \n",
    "    return df"
   ]
  },
  {
   "cell_type": "code",
   "execution_count": 5,
   "id": "77159fb5",
   "metadata": {},
   "outputs": [],
   "source": [
    "df = read_file(\"datasets/BeerAdvocate/reviews.txt\")"
   ]
  },
  {
   "cell_type": "code",
   "execution_count": 6,
   "id": "2d2349e4",
   "metadata": {},
   "outputs": [
    {
     "data": {
      "text/plain": [
       "(2589587, 17)"
      ]
     },
     "execution_count": 6,
     "metadata": {},
     "output_type": "execute_result"
    }
   ],
   "source": [
    "df.shape"
   ]
  },
  {
   "cell_type": "code",
   "execution_count": 6,
   "id": "b0b78807",
   "metadata": {},
   "outputs": [],
   "source": [
    "df.to_pickle('ba_ratings.pkl')"
   ]
  },
  {
   "cell_type": "code",
   "execution_count": 9,
   "id": "f7841fb5",
   "metadata": {},
   "outputs": [],
   "source": [
    "df2 = pd.read_pickle('ba_ratings.pkl')"
   ]
  },
  {
   "cell_type": "code",
   "execution_count": 11,
   "id": "cc766486",
   "metadata": {},
   "outputs": [],
   "source": [
    "df3 = read_file(\"datasets/BeerAdvocate/reviews.txt\")"
   ]
  },
  {
   "cell_type": "code",
   "execution_count": 13,
   "id": "a6cee1a9",
   "metadata": {},
   "outputs": [],
   "source": [
    "df3.to_pickle('ba_reviews.pkl')"
   ]
  },
  {
   "cell_type": "code",
   "execution_count": 18,
   "id": "d7caafd9",
   "metadata": {},
   "outputs": [],
   "source": [
    "import tarfile\n",
    "import os"
   ]
  },
  {
   "cell_type": "code",
   "execution_count": 51,
   "id": "ee5bd61a",
   "metadata": {},
   "outputs": [],
   "source": [
    "DATA_FILE = './datasets'"
   ]
  },
  {
   "cell_type": "code",
   "execution_count": 52,
   "id": "7eea2b99",
   "metadata": {},
   "outputs": [],
   "source": [
    "def extract_tar_or_gz(filename, to_folder='.'):\n",
    "    if filename.endswith(\".gz\"):\n",
    "        gz_file = tarfile.open(filename, \"r:\")\n",
    "        gz_file.extractall(path=to_folder)\n",
    "        gz_file.close()\n",
    "    \n",
    "    elif filename.endswith(\".tar\"):\n",
    "        tar_file = tarfile.open(filename, \"r:\")\n",
    "        tar_file.extractall(path=to_folder)\n",
    "        tar_file.close()"
   ]
  },
  {
   "cell_type": "code",
   "execution_count": 55,
   "id": "ded8c410",
   "metadata": {},
   "outputs": [],
   "source": [
    "def extract_file(filename, to_folder):\n",
    "    extract_tar_or_gz(filename, to_folder)\n",
    "    print(filename)\n",
    "    print(to_folder)\n",
    "    \n",
    "    directory = os.path.join(to_folder)\n",
    "    for filename in os.listdir(directory):\n",
    "        file = directory + '/' + filename\n",
    "        if os.path.isfile(file):\n",
    "            print(file)\n",
    "            extract_tar_or_gz(file)"
   ]
  },
  {
   "cell_type": "code",
   "execution_count": 56,
   "id": "b35b23f7",
   "metadata": {},
   "outputs": [
    {
     "name": "stdout",
     "output_type": "stream",
     "text": [
      "./datasets/test/BeerAdvocate.tar.gz\n",
      "./datasets/test2\n",
      "./datasets/test2/beers.csv\n",
      "./datasets/test2/breweries.csv\n",
      "./datasets/test2/ratings.txt.gz\n"
     ]
    },
    {
     "ename": "ReadError",
     "evalue": "invalid header",
     "output_type": "error",
     "traceback": [
      "\u001b[1;31m---------------------------------------------------------------------------\u001b[0m",
      "\u001b[1;31mValueError\u001b[0m                                Traceback (most recent call last)",
      "File \u001b[1;32mC:\\ProgramData\\Anaconda3\\lib\\tarfile.py:187\u001b[0m, in \u001b[0;36mnti\u001b[1;34m(s)\u001b[0m\n\u001b[0;32m    186\u001b[0m     s \u001b[38;5;241m=\u001b[39m nts(s, \u001b[38;5;124m\"\u001b[39m\u001b[38;5;124mascii\u001b[39m\u001b[38;5;124m\"\u001b[39m, \u001b[38;5;124m\"\u001b[39m\u001b[38;5;124mstrict\u001b[39m\u001b[38;5;124m\"\u001b[39m)\n\u001b[1;32m--> 187\u001b[0m     n \u001b[38;5;241m=\u001b[39m \u001b[38;5;28;43mint\u001b[39;49m\u001b[43m(\u001b[49m\u001b[43ms\u001b[49m\u001b[38;5;241;43m.\u001b[39;49m\u001b[43mstrip\u001b[49m\u001b[43m(\u001b[49m\u001b[43m)\u001b[49m\u001b[43m \u001b[49m\u001b[38;5;129;43;01mor\u001b[39;49;00m\u001b[43m \u001b[49m\u001b[38;5;124;43m\"\u001b[39;49m\u001b[38;5;124;43m0\u001b[39;49m\u001b[38;5;124;43m\"\u001b[39;49m\u001b[43m,\u001b[49m\u001b[43m \u001b[49m\u001b[38;5;241;43m8\u001b[39;49m\u001b[43m)\u001b[49m\n\u001b[0;32m    188\u001b[0m \u001b[38;5;28;01mexcept\u001b[39;00m \u001b[38;5;167;01mValueError\u001b[39;00m:\n",
      "\u001b[1;31mValueError\u001b[0m: invalid literal for int() with base 8: '40064800'",
      "\nDuring handling of the above exception, another exception occurred:\n",
      "\u001b[1;31mInvalidHeaderError\u001b[0m                        Traceback (most recent call last)",
      "File \u001b[1;32mC:\\ProgramData\\Anaconda3\\lib\\tarfile.py:2336\u001b[0m, in \u001b[0;36mTarFile.next\u001b[1;34m(self)\u001b[0m\n\u001b[0;32m   2335\u001b[0m \u001b[38;5;28;01mtry\u001b[39;00m:\n\u001b[1;32m-> 2336\u001b[0m     tarinfo \u001b[38;5;241m=\u001b[39m \u001b[38;5;28;43mself\u001b[39;49m\u001b[38;5;241;43m.\u001b[39;49m\u001b[43mtarinfo\u001b[49m\u001b[38;5;241;43m.\u001b[39;49m\u001b[43mfromtarfile\u001b[49m\u001b[43m(\u001b[49m\u001b[38;5;28;43mself\u001b[39;49m\u001b[43m)\u001b[49m\n\u001b[0;32m   2337\u001b[0m \u001b[38;5;28;01mexcept\u001b[39;00m EOFHeaderError \u001b[38;5;28;01mas\u001b[39;00m e:\n",
      "File \u001b[1;32mC:\\ProgramData\\Anaconda3\\lib\\tarfile.py:1122\u001b[0m, in \u001b[0;36mTarInfo.fromtarfile\u001b[1;34m(cls, tarfile)\u001b[0m\n\u001b[0;32m   1121\u001b[0m buf \u001b[38;5;241m=\u001b[39m tarfile\u001b[38;5;241m.\u001b[39mfileobj\u001b[38;5;241m.\u001b[39mread(BLOCKSIZE)\n\u001b[1;32m-> 1122\u001b[0m obj \u001b[38;5;241m=\u001b[39m \u001b[38;5;28;43mcls\u001b[39;49m\u001b[38;5;241;43m.\u001b[39;49m\u001b[43mfrombuf\u001b[49m\u001b[43m(\u001b[49m\u001b[43mbuf\u001b[49m\u001b[43m,\u001b[49m\u001b[43m \u001b[49m\u001b[43mtarfile\u001b[49m\u001b[38;5;241;43m.\u001b[39;49m\u001b[43mencoding\u001b[49m\u001b[43m,\u001b[49m\u001b[43m \u001b[49m\u001b[43mtarfile\u001b[49m\u001b[38;5;241;43m.\u001b[39;49m\u001b[43merrors\u001b[49m\u001b[43m)\u001b[49m\n\u001b[0;32m   1123\u001b[0m obj\u001b[38;5;241m.\u001b[39moffset \u001b[38;5;241m=\u001b[39m tarfile\u001b[38;5;241m.\u001b[39mfileobj\u001b[38;5;241m.\u001b[39mtell() \u001b[38;5;241m-\u001b[39m BLOCKSIZE\n",
      "File \u001b[1;32mC:\\ProgramData\\Anaconda3\\lib\\tarfile.py:1064\u001b[0m, in \u001b[0;36mTarInfo.frombuf\u001b[1;34m(cls, buf, encoding, errors)\u001b[0m\n\u001b[0;32m   1062\u001b[0m     \u001b[38;5;28;01mraise\u001b[39;00m EOFHeaderError(\u001b[38;5;124m\"\u001b[39m\u001b[38;5;124mend of file header\u001b[39m\u001b[38;5;124m\"\u001b[39m)\n\u001b[1;32m-> 1064\u001b[0m chksum \u001b[38;5;241m=\u001b[39m \u001b[43mnti\u001b[49m\u001b[43m(\u001b[49m\u001b[43mbuf\u001b[49m\u001b[43m[\u001b[49m\u001b[38;5;241;43m148\u001b[39;49m\u001b[43m:\u001b[49m\u001b[38;5;241;43m156\u001b[39;49m\u001b[43m]\u001b[49m\u001b[43m)\u001b[49m\n\u001b[0;32m   1065\u001b[0m \u001b[38;5;28;01mif\u001b[39;00m chksum \u001b[38;5;129;01mnot\u001b[39;00m \u001b[38;5;129;01min\u001b[39;00m calc_chksums(buf):\n",
      "File \u001b[1;32mC:\\ProgramData\\Anaconda3\\lib\\tarfile.py:189\u001b[0m, in \u001b[0;36mnti\u001b[1;34m(s)\u001b[0m\n\u001b[0;32m    188\u001b[0m     \u001b[38;5;28;01mexcept\u001b[39;00m \u001b[38;5;167;01mValueError\u001b[39;00m:\n\u001b[1;32m--> 189\u001b[0m         \u001b[38;5;28;01mraise\u001b[39;00m InvalidHeaderError(\u001b[38;5;124m\"\u001b[39m\u001b[38;5;124minvalid header\u001b[39m\u001b[38;5;124m\"\u001b[39m)\n\u001b[0;32m    190\u001b[0m \u001b[38;5;28;01mreturn\u001b[39;00m n\n",
      "\u001b[1;31mInvalidHeaderError\u001b[0m: invalid header",
      "\nDuring handling of the above exception, another exception occurred:\n",
      "\u001b[1;31mReadError\u001b[0m                                 Traceback (most recent call last)",
      "Input \u001b[1;32mIn [56]\u001b[0m, in \u001b[0;36m<cell line: 1>\u001b[1;34m()\u001b[0m\n\u001b[1;32m----> 1\u001b[0m \u001b[43mextract_file\u001b[49m\u001b[43m(\u001b[49m\u001b[43mDATA_FILE\u001b[49m\u001b[43m \u001b[49m\u001b[38;5;241;43m+\u001b[39;49m\u001b[43m \u001b[49m\u001b[38;5;124;43m'\u001b[39;49m\u001b[38;5;124;43m/test/BeerAdvocate.tar.gz\u001b[39;49m\u001b[38;5;124;43m'\u001b[39;49m\u001b[43m,\u001b[49m\u001b[43m \u001b[49m\u001b[43mDATA_FILE\u001b[49m\u001b[43m \u001b[49m\u001b[38;5;241;43m+\u001b[39;49m\u001b[43m \u001b[49m\u001b[38;5;124;43m'\u001b[39;49m\u001b[38;5;124;43m/test2\u001b[39;49m\u001b[38;5;124;43m'\u001b[39;49m\u001b[43m)\u001b[49m\n",
      "Input \u001b[1;32mIn [55]\u001b[0m, in \u001b[0;36mextract_file\u001b[1;34m(filename, to_folder)\u001b[0m\n\u001b[0;32m      9\u001b[0m \u001b[38;5;28;01mif\u001b[39;00m os\u001b[38;5;241m.\u001b[39mpath\u001b[38;5;241m.\u001b[39misfile(file):\n\u001b[0;32m     10\u001b[0m     \u001b[38;5;28mprint\u001b[39m(file)\n\u001b[1;32m---> 11\u001b[0m     \u001b[43mextract_tar_or_gz\u001b[49m\u001b[43m(\u001b[49m\u001b[43mfile\u001b[49m\u001b[43m)\u001b[49m\n",
      "Input \u001b[1;32mIn [52]\u001b[0m, in \u001b[0;36mextract_tar_or_gz\u001b[1;34m(filename, to_folder)\u001b[0m\n\u001b[0;32m      1\u001b[0m \u001b[38;5;28;01mdef\u001b[39;00m \u001b[38;5;21mextract_tar_or_gz\u001b[39m(filename, to_folder\u001b[38;5;241m=\u001b[39m\u001b[38;5;124m'\u001b[39m\u001b[38;5;124m.\u001b[39m\u001b[38;5;124m'\u001b[39m):\n\u001b[0;32m      2\u001b[0m     \u001b[38;5;28;01mif\u001b[39;00m filename\u001b[38;5;241m.\u001b[39mendswith(\u001b[38;5;124m\"\u001b[39m\u001b[38;5;124m.gz\u001b[39m\u001b[38;5;124m\"\u001b[39m):\n\u001b[1;32m----> 3\u001b[0m         gz_file \u001b[38;5;241m=\u001b[39m \u001b[43mtarfile\u001b[49m\u001b[38;5;241;43m.\u001b[39;49m\u001b[43mopen\u001b[49m\u001b[43m(\u001b[49m\u001b[43mfilename\u001b[49m\u001b[43m,\u001b[49m\u001b[43m \u001b[49m\u001b[38;5;124;43m\"\u001b[39;49m\u001b[38;5;124;43mr:gz\u001b[39;49m\u001b[38;5;124;43m\"\u001b[39;49m\u001b[43m)\u001b[49m\n\u001b[0;32m      4\u001b[0m         gz_file\u001b[38;5;241m.\u001b[39mextractall(path\u001b[38;5;241m=\u001b[39mto_folder)\n\u001b[0;32m      5\u001b[0m         gz_file\u001b[38;5;241m.\u001b[39mclose()\n",
      "File \u001b[1;32mC:\\ProgramData\\Anaconda3\\lib\\tarfile.py:1638\u001b[0m, in \u001b[0;36mTarFile.open\u001b[1;34m(cls, name, mode, fileobj, bufsize, **kwargs)\u001b[0m\n\u001b[0;32m   1636\u001b[0m     \u001b[38;5;28;01melse\u001b[39;00m:\n\u001b[0;32m   1637\u001b[0m         \u001b[38;5;28;01mraise\u001b[39;00m CompressionError(\u001b[38;5;124m\"\u001b[39m\u001b[38;5;124munknown compression type \u001b[39m\u001b[38;5;132;01m%r\u001b[39;00m\u001b[38;5;124m\"\u001b[39m \u001b[38;5;241m%\u001b[39m comptype)\n\u001b[1;32m-> 1638\u001b[0m     \u001b[38;5;28;01mreturn\u001b[39;00m func(name, filemode, fileobj, \u001b[38;5;241m*\u001b[39m\u001b[38;5;241m*\u001b[39mkwargs)\n\u001b[0;32m   1640\u001b[0m \u001b[38;5;28;01melif\u001b[39;00m \u001b[38;5;124m\"\u001b[39m\u001b[38;5;124m|\u001b[39m\u001b[38;5;124m\"\u001b[39m \u001b[38;5;129;01min\u001b[39;00m mode:\n\u001b[0;32m   1641\u001b[0m     filemode, comptype \u001b[38;5;241m=\u001b[39m mode\u001b[38;5;241m.\u001b[39msplit(\u001b[38;5;124m\"\u001b[39m\u001b[38;5;124m|\u001b[39m\u001b[38;5;124m\"\u001b[39m, \u001b[38;5;241m1\u001b[39m)\n",
      "File \u001b[1;32mC:\\ProgramData\\Anaconda3\\lib\\tarfile.py:1691\u001b[0m, in \u001b[0;36mTarFile.gzopen\u001b[1;34m(cls, name, mode, fileobj, compresslevel, **kwargs)\u001b[0m\n\u001b[0;32m   1688\u001b[0m     \u001b[38;5;28;01mraise\u001b[39;00m\n\u001b[0;32m   1690\u001b[0m \u001b[38;5;28;01mtry\u001b[39;00m:\n\u001b[1;32m-> 1691\u001b[0m     t \u001b[38;5;241m=\u001b[39m \u001b[38;5;28mcls\u001b[39m\u001b[38;5;241m.\u001b[39mtaropen(name, mode, fileobj, \u001b[38;5;241m*\u001b[39m\u001b[38;5;241m*\u001b[39mkwargs)\n\u001b[0;32m   1692\u001b[0m \u001b[38;5;28;01mexcept\u001b[39;00m \u001b[38;5;167;01mOSError\u001b[39;00m:\n\u001b[0;32m   1693\u001b[0m     fileobj\u001b[38;5;241m.\u001b[39mclose()\n",
      "File \u001b[1;32mC:\\ProgramData\\Anaconda3\\lib\\tarfile.py:1668\u001b[0m, in \u001b[0;36mTarFile.taropen\u001b[1;34m(cls, name, mode, fileobj, **kwargs)\u001b[0m\n\u001b[0;32m   1666\u001b[0m \u001b[38;5;28;01mif\u001b[39;00m mode \u001b[38;5;129;01mnot\u001b[39;00m \u001b[38;5;129;01min\u001b[39;00m (\u001b[38;5;124m\"\u001b[39m\u001b[38;5;124mr\u001b[39m\u001b[38;5;124m\"\u001b[39m, \u001b[38;5;124m\"\u001b[39m\u001b[38;5;124ma\u001b[39m\u001b[38;5;124m\"\u001b[39m, \u001b[38;5;124m\"\u001b[39m\u001b[38;5;124mw\u001b[39m\u001b[38;5;124m\"\u001b[39m, \u001b[38;5;124m\"\u001b[39m\u001b[38;5;124mx\u001b[39m\u001b[38;5;124m\"\u001b[39m):\n\u001b[0;32m   1667\u001b[0m     \u001b[38;5;28;01mraise\u001b[39;00m \u001b[38;5;167;01mValueError\u001b[39;00m(\u001b[38;5;124m\"\u001b[39m\u001b[38;5;124mmode must be \u001b[39m\u001b[38;5;124m'\u001b[39m\u001b[38;5;124mr\u001b[39m\u001b[38;5;124m'\u001b[39m\u001b[38;5;124m, \u001b[39m\u001b[38;5;124m'\u001b[39m\u001b[38;5;124ma\u001b[39m\u001b[38;5;124m'\u001b[39m\u001b[38;5;124m, \u001b[39m\u001b[38;5;124m'\u001b[39m\u001b[38;5;124mw\u001b[39m\u001b[38;5;124m'\u001b[39m\u001b[38;5;124m or \u001b[39m\u001b[38;5;124m'\u001b[39m\u001b[38;5;124mx\u001b[39m\u001b[38;5;124m'\u001b[39m\u001b[38;5;124m\"\u001b[39m)\n\u001b[1;32m-> 1668\u001b[0m \u001b[38;5;28;01mreturn\u001b[39;00m \u001b[38;5;28mcls\u001b[39m(name, mode, fileobj, \u001b[38;5;241m*\u001b[39m\u001b[38;5;241m*\u001b[39mkwargs)\n",
      "File \u001b[1;32mC:\\ProgramData\\Anaconda3\\lib\\tarfile.py:1531\u001b[0m, in \u001b[0;36mTarFile.__init__\u001b[1;34m(self, name, mode, fileobj, format, tarinfo, dereference, ignore_zeros, encoding, errors, pax_headers, debug, errorlevel, copybufsize)\u001b[0m\n\u001b[0;32m   1529\u001b[0m \u001b[38;5;28;01mif\u001b[39;00m \u001b[38;5;28mself\u001b[39m\u001b[38;5;241m.\u001b[39mmode \u001b[38;5;241m==\u001b[39m \u001b[38;5;124m\"\u001b[39m\u001b[38;5;124mr\u001b[39m\u001b[38;5;124m\"\u001b[39m:\n\u001b[0;32m   1530\u001b[0m     \u001b[38;5;28mself\u001b[39m\u001b[38;5;241m.\u001b[39mfirstmember \u001b[38;5;241m=\u001b[39m \u001b[38;5;28;01mNone\u001b[39;00m\n\u001b[1;32m-> 1531\u001b[0m     \u001b[38;5;28mself\u001b[39m\u001b[38;5;241m.\u001b[39mfirstmember \u001b[38;5;241m=\u001b[39m \u001b[38;5;28;43mself\u001b[39;49m\u001b[38;5;241;43m.\u001b[39;49m\u001b[43mnext\u001b[49m\u001b[43m(\u001b[49m\u001b[43m)\u001b[49m\n\u001b[0;32m   1533\u001b[0m \u001b[38;5;28;01mif\u001b[39;00m \u001b[38;5;28mself\u001b[39m\u001b[38;5;241m.\u001b[39mmode \u001b[38;5;241m==\u001b[39m \u001b[38;5;124m\"\u001b[39m\u001b[38;5;124ma\u001b[39m\u001b[38;5;124m\"\u001b[39m:\n\u001b[0;32m   1534\u001b[0m     \u001b[38;5;66;03m# Move to the end of the archive,\u001b[39;00m\n\u001b[0;32m   1535\u001b[0m     \u001b[38;5;66;03m# before the first empty block.\u001b[39;00m\n\u001b[0;32m   1536\u001b[0m     \u001b[38;5;28;01mwhile\u001b[39;00m \u001b[38;5;28;01mTrue\u001b[39;00m:\n",
      "File \u001b[1;32mC:\\ProgramData\\Anaconda3\\lib\\tarfile.py:2348\u001b[0m, in \u001b[0;36mTarFile.next\u001b[1;34m(self)\u001b[0m\n\u001b[0;32m   2346\u001b[0m         \u001b[38;5;28;01mcontinue\u001b[39;00m\n\u001b[0;32m   2347\u001b[0m     \u001b[38;5;28;01melif\u001b[39;00m \u001b[38;5;28mself\u001b[39m\u001b[38;5;241m.\u001b[39moffset \u001b[38;5;241m==\u001b[39m \u001b[38;5;241m0\u001b[39m:\n\u001b[1;32m-> 2348\u001b[0m         \u001b[38;5;28;01mraise\u001b[39;00m ReadError(\u001b[38;5;28mstr\u001b[39m(e))\n\u001b[0;32m   2349\u001b[0m \u001b[38;5;28;01mexcept\u001b[39;00m EmptyHeaderError:\n\u001b[0;32m   2350\u001b[0m     \u001b[38;5;28;01mif\u001b[39;00m \u001b[38;5;28mself\u001b[39m\u001b[38;5;241m.\u001b[39moffset \u001b[38;5;241m==\u001b[39m \u001b[38;5;241m0\u001b[39m:\n",
      "\u001b[1;31mReadError\u001b[0m: invalid header"
     ]
    }
   ],
   "source": [
    "extract_file(DATA_FILE + '/test/BeerAdvocate.tar.gz', DATA_FILE + '/test2')"
   ]
  },
  {
   "cell_type": "code",
   "execution_count": null,
   "id": "5b36beb0",
   "metadata": {},
   "outputs": [],
   "source": []
  }
 ],
 "metadata": {
  "kernelspec": {
   "display_name": "Python 3 (ipykernel)",
   "language": "python",
   "name": "python3"
  },
  "language_info": {
   "codemirror_mode": {
    "name": "ipython",
    "version": 3
   },
   "file_extension": ".py",
   "mimetype": "text/x-python",
   "name": "python",
   "nbconvert_exporter": "python",
   "pygments_lexer": "ipython3",
   "version": "3.9.12"
  }
 },
 "nbformat": 4,
 "nbformat_minor": 5
}
