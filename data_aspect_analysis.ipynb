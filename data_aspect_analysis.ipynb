{
 "cells": [
  {
   "cell_type": "markdown",
   "metadata": {
    "id": "V2AQGI0ScURj"
   },
   "source": [
    "# Aspect based sentiment analysis\n",
    "\n",
    "In this notebook we are using [aspect_based_sentiment_analysis model](https://github.com/ScalaConsultants/Aspect-Based-Sentiment-Analysis) to generate textual aspects of our reviews.\n",
    "\n",
    "## Notebook outline\n",
    "    * Aspects based sentiment analysis\n",
    "    * Inconsistency between ratings and text?"
   ]
  },
  {
   "cell_type": "code",
   "execution_count": null,
   "metadata": {
    "id": "0CNOob-DWqx5"
   },
   "outputs": [],
   "source": [
    "!pip install aspect_based_sentiment_analysis #installing module for aspect based sentiment analyisis"
   ]
  },
  {
   "cell_type": "code",
   "execution_count": null,
   "metadata": {
    "id": "rVcDs7lB8WV8"
   },
   "outputs": [],
   "source": [
    "# useful imports\n",
    "from google.colab import drive\n",
    "import aspect_based_sentiment_analysis as absa\n",
    "import pandas as pd\n",
    "import seaborn as sns"
   ]
  },
  {
   "cell_type": "code",
   "execution_count": null,
   "metadata": {
    "colab": {
     "base_uri": "https://localhost:8080/"
    },
    "executionInfo": {
     "elapsed": 3237,
     "status": "ok",
     "timestamp": 1668802193982,
     "user": {
      "displayName": "laza 99umka",
      "userId": "07698627326177457945"
     },
     "user_tz": -60
    },
    "id": "L5TkKVjQ8gJs",
    "outputId": "a72241a4-9a6c-4ac7-be96-c70b60a4be18",
    "scrolled": true
   },
   "outputs": [
    {
     "name": "stdout",
     "output_type": "stream",
     "text": [
      "Mounted at /content/drive\n"
     ]
    }
   ],
   "source": [
    "drive.mount('/content/drive', force_remount=True)"
   ]
  },
  {
   "cell_type": "markdown",
   "metadata": {
    "id": "fdTOs_3vDWzE"
   },
   "source": [
    "## Aspects based sentiment analysis\n",
    "\n",
    "We're going to use nlp model to analyze sentiment towards aspects in reviews users wrote."
   ]
  },
  {
   "cell_type": "code",
   "execution_count": null,
   "metadata": {
    "id": "QsB0a9VZ96R0"
   },
   "outputs": [],
   "source": [
    "# loading the nlp model for aspect based sentiment analysis\n",
    "nlp = absa.load() "
   ]
  },
  {
   "cell_type": "code",
   "execution_count": null,
   "metadata": {
    "id": "WAk4KLr__wZI"
   },
   "outputs": [],
   "source": [
    "# reading from pkl file we created in \"data_import.ipynb\"\n",
    "data = pd.read_pickle('/content/drive/My Drive/reviews.pkl')"
   ]
  },
  {
   "cell_type": "markdown",
   "metadata": {
    "id": "vrTUwS7TEWXd"
   },
   "source": [
    "We're going to perform the analysis on one specific user, 'stjamesgate.163714', who has written around 2500 reviews. "
   ]
  },
  {
   "cell_type": "code",
   "execution_count": null,
   "metadata": {
    "colab": {
     "base_uri": "https://localhost:8080/"
    },
    "executionInfo": {
     "elapsed": 506,
     "status": "ok",
     "timestamp": 1668802602102,
     "user": {
      "displayName": "laza 99umka",
      "userId": "07698627326177457945"
     },
     "user_tz": -60
    },
    "id": "aKaKw0veGSB2",
    "outputId": "d82820b9-8857-43e8-f466-af05ff1bb5f9"
   },
   "outputs": [
    {
     "name": "stdout",
     "output_type": "stream",
     "text": [
      "(2504, 17)\n"
     ]
    }
   ],
   "source": [
    "# specific user we're going to focus on\n",
    "specific_user = 'stjamesgate.163714'\n",
    "\n",
    "# selecting reviews that user wrote\n",
    "one_user_data = data[data['User Id']==specific_user] \n",
    "print(one_user_data.shape) \n",
    "\n",
    "# we are going to take the sample of 50 reviews\n",
    "test_sample = one_user_data.head(50) "
   ]
  },
  {
   "cell_type": "code",
   "execution_count": null,
   "metadata": {
    "id": "2nZUHrGHAlY8"
   },
   "outputs": [],
   "source": [
    "def sentiment_analysis(text_series, sentiments = {'Positive': 2, 'Neutral': 0, 'Negative': 1}, aspects = ['Appearance', 'Aroma', 'Palate', 'Taste']):\n",
    "  \"\"\"\n",
    "  Function that does sentiment analyisis based on the text.\n",
    "\n",
    "  Input:\n",
    "    - text_series: pandas series containing textual reviews that users wrote\n",
    "    - sentiments: dictionary of sentiments\n",
    "    - aspects: list of aspects we're interested in\n",
    "\n",
    "  Returns:\n",
    "    - dataframe containing scores for each sentiment towards each aspect of \n",
    "      textual reviews from text_series.\n",
    "  \"\"\"\n",
    "  \n",
    "  # we're applying model to each textual review\n",
    "  tasks = text_series.apply(lambda text: nlp(text, aspects=aspects)) \n",
    "\n",
    "  # dictionary that maps each (aspect,sentiment) pair to a list containing scores of the specifc sentiment to the specific aspects for each of the given reviews\n",
    "  columns = {} \n",
    "  for aspect in aspects:\n",
    "    for sentiment_str, _ in sentiments.items():\n",
    "      # initially, list is empty\n",
    "      columns[aspect + ' ' + sentiment_str] = [] \n",
    "\n",
    "  for task in tasks:\n",
    "    for aspect_index in range(len(aspects)):\n",
    "      scores = task.examples[aspect_index].scores\n",
    "      for sentiment_str, i in sentiments.items():\n",
    "        columns[aspects[aspect_index] + ' ' + sentiment_str].append(scores[i])\n",
    "  \n",
    "  # converting dictionary to pandas dataframe\n",
    "  return pd.DataFrame(columns).set_index(text_series.index) "
   ]
  },
  {
   "cell_type": "code",
   "execution_count": null,
   "metadata": {
    "id": "YAiJPm0ERIWH"
   },
   "outputs": [],
   "source": [
    "# getting sentiment analysis from the function\n",
    "columns = sentiment_analysis(test_sample['Text']) \n",
    "\n",
    "# concatenating scores in each row\n",
    "expanded_test_sample = pd.concat([test_sample, columns], axis=1) "
   ]
  },
  {
   "cell_type": "code",
   "execution_count": null,
   "metadata": {
    "colab": {
     "base_uri": "https://localhost:8080/",
     "height": 267
    },
    "executionInfo": {
     "elapsed": 232,
     "status": "ok",
     "timestamp": 1668803249342,
     "user": {
      "displayName": "laza 99umka",
      "userId": "07698627326177457945"
     },
     "user_tz": -60
    },
    "id": "w_RmRpSca0Zy",
    "outputId": "f8c8e9a2-27f6-482f-df24-1b129dfed7de"
   },
   "outputs": [
    {
     "data": {
      "text/html": [
       "\n",
       "  <div id=\"df-0b95140f-98fa-4533-8a84-149aec5a112b\">\n",
       "    <div class=\"colab-df-container\">\n",
       "      <div>\n",
       "<style scoped>\n",
       "    .dataframe tbody tr th:only-of-type {\n",
       "        vertical-align: middle;\n",
       "    }\n",
       "\n",
       "    .dataframe tbody tr th {\n",
       "        vertical-align: top;\n",
       "    }\n",
       "\n",
       "    .dataframe thead th {\n",
       "        text-align: right;\n",
       "    }\n",
       "</style>\n",
       "<table border=\"1\" class=\"dataframe\">\n",
       "  <thead>\n",
       "    <tr style=\"text-align: right;\">\n",
       "      <th></th>\n",
       "      <th>Appearance Positive</th>\n",
       "      <th>Appearance Neutral</th>\n",
       "      <th>Appearance Negative</th>\n",
       "      <th>Aroma Positive</th>\n",
       "      <th>Aroma Neutral</th>\n",
       "      <th>Aroma Negative</th>\n",
       "      <th>Palate Positive</th>\n",
       "      <th>Palate Neutral</th>\n",
       "      <th>Palate Negative</th>\n",
       "      <th>Taste Positive</th>\n",
       "      <th>Taste Neutral</th>\n",
       "      <th>Taste Negative</th>\n",
       "    </tr>\n",
       "  </thead>\n",
       "  <tbody>\n",
       "    <tr>\n",
       "      <th>1</th>\n",
       "      <td>0.339148</td>\n",
       "      <td>0.226442</td>\n",
       "      <td>0.434410</td>\n",
       "      <td>0.434918</td>\n",
       "      <td>0.127827</td>\n",
       "      <td>0.437255</td>\n",
       "      <td>0.310740</td>\n",
       "      <td>0.302070</td>\n",
       "      <td>0.387190</td>\n",
       "      <td>0.285061</td>\n",
       "      <td>0.040979</td>\n",
       "      <td>0.673961</td>\n",
       "    </tr>\n",
       "    <tr>\n",
       "      <th>206</th>\n",
       "      <td>0.184759</td>\n",
       "      <td>0.044460</td>\n",
       "      <td>0.770781</td>\n",
       "      <td>0.139886</td>\n",
       "      <td>0.031676</td>\n",
       "      <td>0.828438</td>\n",
       "      <td>0.063168</td>\n",
       "      <td>0.019165</td>\n",
       "      <td>0.917667</td>\n",
       "      <td>0.045170</td>\n",
       "      <td>0.026108</td>\n",
       "      <td>0.928722</td>\n",
       "    </tr>\n",
       "    <tr>\n",
       "      <th>217</th>\n",
       "      <td>0.720533</td>\n",
       "      <td>0.165911</td>\n",
       "      <td>0.113556</td>\n",
       "      <td>0.856164</td>\n",
       "      <td>0.071690</td>\n",
       "      <td>0.072146</td>\n",
       "      <td>0.737318</td>\n",
       "      <td>0.182808</td>\n",
       "      <td>0.079873</td>\n",
       "      <td>0.540634</td>\n",
       "      <td>0.364637</td>\n",
       "      <td>0.094729</td>\n",
       "    </tr>\n",
       "    <tr>\n",
       "      <th>238</th>\n",
       "      <td>0.946061</td>\n",
       "      <td>0.020944</td>\n",
       "      <td>0.032995</td>\n",
       "      <td>0.870062</td>\n",
       "      <td>0.035975</td>\n",
       "      <td>0.093963</td>\n",
       "      <td>0.853761</td>\n",
       "      <td>0.065289</td>\n",
       "      <td>0.080949</td>\n",
       "      <td>0.892590</td>\n",
       "      <td>0.042577</td>\n",
       "      <td>0.064833</td>\n",
       "    </tr>\n",
       "    <tr>\n",
       "      <th>252</th>\n",
       "      <td>0.710887</td>\n",
       "      <td>0.167492</td>\n",
       "      <td>0.121621</td>\n",
       "      <td>0.861306</td>\n",
       "      <td>0.057980</td>\n",
       "      <td>0.080715</td>\n",
       "      <td>0.729664</td>\n",
       "      <td>0.162302</td>\n",
       "      <td>0.108034</td>\n",
       "      <td>0.729717</td>\n",
       "      <td>0.177313</td>\n",
       "      <td>0.092970</td>\n",
       "    </tr>\n",
       "  </tbody>\n",
       "</table>\n",
       "</div>\n",
       "      <button class=\"colab-df-convert\" onclick=\"convertToInteractive('df-0b95140f-98fa-4533-8a84-149aec5a112b')\"\n",
       "              title=\"Convert this dataframe to an interactive table.\"\n",
       "              style=\"display:none;\">\n",
       "        \n",
       "  <svg xmlns=\"http://www.w3.org/2000/svg\" height=\"24px\"viewBox=\"0 0 24 24\"\n",
       "       width=\"24px\">\n",
       "    <path d=\"M0 0h24v24H0V0z\" fill=\"none\"/>\n",
       "    <path d=\"M18.56 5.44l.94 2.06.94-2.06 2.06-.94-2.06-.94-.94-2.06-.94 2.06-2.06.94zm-11 1L8.5 8.5l.94-2.06 2.06-.94-2.06-.94L8.5 2.5l-.94 2.06-2.06.94zm10 10l.94 2.06.94-2.06 2.06-.94-2.06-.94-.94-2.06-.94 2.06-2.06.94z\"/><path d=\"M17.41 7.96l-1.37-1.37c-.4-.4-.92-.59-1.43-.59-.52 0-1.04.2-1.43.59L10.3 9.45l-7.72 7.72c-.78.78-.78 2.05 0 2.83L4 21.41c.39.39.9.59 1.41.59.51 0 1.02-.2 1.41-.59l7.78-7.78 2.81-2.81c.8-.78.8-2.07 0-2.86zM5.41 20L4 18.59l7.72-7.72 1.47 1.35L5.41 20z\"/>\n",
       "  </svg>\n",
       "      </button>\n",
       "      \n",
       "  <style>\n",
       "    .colab-df-container {\n",
       "      display:flex;\n",
       "      flex-wrap:wrap;\n",
       "      gap: 12px;\n",
       "    }\n",
       "\n",
       "    .colab-df-convert {\n",
       "      background-color: #E8F0FE;\n",
       "      border: none;\n",
       "      border-radius: 50%;\n",
       "      cursor: pointer;\n",
       "      display: none;\n",
       "      fill: #1967D2;\n",
       "      height: 32px;\n",
       "      padding: 0 0 0 0;\n",
       "      width: 32px;\n",
       "    }\n",
       "\n",
       "    .colab-df-convert:hover {\n",
       "      background-color: #E2EBFA;\n",
       "      box-shadow: 0px 1px 2px rgba(60, 64, 67, 0.3), 0px 1px 3px 1px rgba(60, 64, 67, 0.15);\n",
       "      fill: #174EA6;\n",
       "    }\n",
       "\n",
       "    [theme=dark] .colab-df-convert {\n",
       "      background-color: #3B4455;\n",
       "      fill: #D2E3FC;\n",
       "    }\n",
       "\n",
       "    [theme=dark] .colab-df-convert:hover {\n",
       "      background-color: #434B5C;\n",
       "      box-shadow: 0px 1px 3px 1px rgba(0, 0, 0, 0.15);\n",
       "      filter: drop-shadow(0px 1px 2px rgba(0, 0, 0, 0.3));\n",
       "      fill: #FFFFFF;\n",
       "    }\n",
       "  </style>\n",
       "\n",
       "      <script>\n",
       "        const buttonEl =\n",
       "          document.querySelector('#df-0b95140f-98fa-4533-8a84-149aec5a112b button.colab-df-convert');\n",
       "        buttonEl.style.display =\n",
       "          google.colab.kernel.accessAllowed ? 'block' : 'none';\n",
       "\n",
       "        async function convertToInteractive(key) {\n",
       "          const element = document.querySelector('#df-0b95140f-98fa-4533-8a84-149aec5a112b');\n",
       "          const dataTable =\n",
       "            await google.colab.kernel.invokeFunction('convertToInteractive',\n",
       "                                                     [key], {});\n",
       "          if (!dataTable) return;\n",
       "\n",
       "          const docLinkHtml = 'Like what you see? Visit the ' +\n",
       "            '<a target=\"_blank\" href=https://colab.research.google.com/notebooks/data_table.ipynb>data table notebook</a>'\n",
       "            + ' to learn more about interactive tables.';\n",
       "          element.innerHTML = '';\n",
       "          dataTable['output_type'] = 'display_data';\n",
       "          await google.colab.output.renderOutput(dataTable, element);\n",
       "          const docLink = document.createElement('div');\n",
       "          docLink.innerHTML = docLinkHtml;\n",
       "          element.appendChild(docLink);\n",
       "        }\n",
       "      </script>\n",
       "    </div>\n",
       "  </div>\n",
       "  "
      ],
      "text/plain": [
       "     Appearance Positive  Appearance Neutral  Appearance Negative  \\\n",
       "1               0.339148            0.226442             0.434410   \n",
       "206             0.184759            0.044460             0.770781   \n",
       "217             0.720533            0.165911             0.113556   \n",
       "238             0.946061            0.020944             0.032995   \n",
       "252             0.710887            0.167492             0.121621   \n",
       "\n",
       "     Aroma Positive  Aroma Neutral  Aroma Negative  Palate Positive  \\\n",
       "1          0.434918       0.127827        0.437255         0.310740   \n",
       "206        0.139886       0.031676        0.828438         0.063168   \n",
       "217        0.856164       0.071690        0.072146         0.737318   \n",
       "238        0.870062       0.035975        0.093963         0.853761   \n",
       "252        0.861306       0.057980        0.080715         0.729664   \n",
       "\n",
       "     Palate Neutral  Palate Negative  Taste Positive  Taste Neutral  \\\n",
       "1          0.302070         0.387190        0.285061       0.040979   \n",
       "206        0.019165         0.917667        0.045170       0.026108   \n",
       "217        0.182808         0.079873        0.540634       0.364637   \n",
       "238        0.065289         0.080949        0.892590       0.042577   \n",
       "252        0.162302         0.108034        0.729717       0.177313   \n",
       "\n",
       "     Taste Negative  \n",
       "1          0.673961  \n",
       "206        0.928722  \n",
       "217        0.094729  \n",
       "238        0.064833  \n",
       "252        0.092970  "
      ]
     },
     "execution_count": 18,
     "metadata": {},
     "output_type": "execute_result"
    }
   ],
   "source": [
    "# displaying the results\n",
    "expanded_test_sample[[aspect + ' ' + sentiment for aspect in ['Appearance', 'Aroma', 'Palate', 'Taste'] for sentiment in ['Positive', 'Neutral', 'Negative']]].head()"
   ]
  },
  {
   "cell_type": "markdown",
   "metadata": {
    "id": "L3pkW8GzbsfK"
   },
   "source": [
    "## Inconsistency between ratings and text?"
   ]
  },
  {
   "cell_type": "markdown",
   "metadata": {
    "id": "F9aeh90eGLsZ"
   },
   "source": [
    "We're now going to compare our scores with the grades users gave. \n",
    "\n",
    "Specifically, we'll be looking at texts with low scores and high ratings for aroma aspect: "
   ]
  },
  {
   "cell_type": "code",
   "execution_count": null,
   "metadata": {
    "colab": {
     "base_uri": "https://localhost:8080/",
     "height": 112
    },
    "executionInfo": {
     "elapsed": 197,
     "status": "ok",
     "timestamp": 1668803327549,
     "user": {
      "displayName": "laza 99umka",
      "userId": "07698627326177457945"
     },
     "user_tz": -60
    },
    "id": "dGTayT5EeRIJ",
    "outputId": "c8224738-b371-45ef-96ff-102ff5f5697b"
   },
   "outputs": [
    {
     "data": {
      "text/html": [
       "\n",
       "  <div id=\"df-867aec49-3ff9-4c72-b83a-774c21fc8dd6\">\n",
       "    <div class=\"colab-df-container\">\n",
       "      <div>\n",
       "<style scoped>\n",
       "    .dataframe tbody tr th:only-of-type {\n",
       "        vertical-align: middle;\n",
       "    }\n",
       "\n",
       "    .dataframe tbody tr th {\n",
       "        vertical-align: top;\n",
       "    }\n",
       "\n",
       "    .dataframe thead th {\n",
       "        text-align: right;\n",
       "    }\n",
       "</style>\n",
       "<table border=\"1\" class=\"dataframe\">\n",
       "  <thead>\n",
       "    <tr style=\"text-align: right;\">\n",
       "      <th></th>\n",
       "      <th>Text</th>\n",
       "      <th>Aroma</th>\n",
       "    </tr>\n",
       "  </thead>\n",
       "  <tbody>\n",
       "    <tr>\n",
       "      <th>293</th>\n",
       "      <td>Hazy dull blonde with a film of steady white f...</td>\n",
       "      <td>4.0</td>\n",
       "    </tr>\n",
       "    <tr>\n",
       "      <th>780</th>\n",
       "      <td>Pale amber with rimming off white froth that r...</td>\n",
       "      <td>4.0</td>\n",
       "    </tr>\n",
       "  </tbody>\n",
       "</table>\n",
       "</div>\n",
       "      <button class=\"colab-df-convert\" onclick=\"convertToInteractive('df-867aec49-3ff9-4c72-b83a-774c21fc8dd6')\"\n",
       "              title=\"Convert this dataframe to an interactive table.\"\n",
       "              style=\"display:none;\">\n",
       "        \n",
       "  <svg xmlns=\"http://www.w3.org/2000/svg\" height=\"24px\"viewBox=\"0 0 24 24\"\n",
       "       width=\"24px\">\n",
       "    <path d=\"M0 0h24v24H0V0z\" fill=\"none\"/>\n",
       "    <path d=\"M18.56 5.44l.94 2.06.94-2.06 2.06-.94-2.06-.94-.94-2.06-.94 2.06-2.06.94zm-11 1L8.5 8.5l.94-2.06 2.06-.94-2.06-.94L8.5 2.5l-.94 2.06-2.06.94zm10 10l.94 2.06.94-2.06 2.06-.94-2.06-.94-.94-2.06-.94 2.06-2.06.94z\"/><path d=\"M17.41 7.96l-1.37-1.37c-.4-.4-.92-.59-1.43-.59-.52 0-1.04.2-1.43.59L10.3 9.45l-7.72 7.72c-.78.78-.78 2.05 0 2.83L4 21.41c.39.39.9.59 1.41.59.51 0 1.02-.2 1.41-.59l7.78-7.78 2.81-2.81c.8-.78.8-2.07 0-2.86zM5.41 20L4 18.59l7.72-7.72 1.47 1.35L5.41 20z\"/>\n",
       "  </svg>\n",
       "      </button>\n",
       "      \n",
       "  <style>\n",
       "    .colab-df-container {\n",
       "      display:flex;\n",
       "      flex-wrap:wrap;\n",
       "      gap: 12px;\n",
       "    }\n",
       "\n",
       "    .colab-df-convert {\n",
       "      background-color: #E8F0FE;\n",
       "      border: none;\n",
       "      border-radius: 50%;\n",
       "      cursor: pointer;\n",
       "      display: none;\n",
       "      fill: #1967D2;\n",
       "      height: 32px;\n",
       "      padding: 0 0 0 0;\n",
       "      width: 32px;\n",
       "    }\n",
       "\n",
       "    .colab-df-convert:hover {\n",
       "      background-color: #E2EBFA;\n",
       "      box-shadow: 0px 1px 2px rgba(60, 64, 67, 0.3), 0px 1px 3px 1px rgba(60, 64, 67, 0.15);\n",
       "      fill: #174EA6;\n",
       "    }\n",
       "\n",
       "    [theme=dark] .colab-df-convert {\n",
       "      background-color: #3B4455;\n",
       "      fill: #D2E3FC;\n",
       "    }\n",
       "\n",
       "    [theme=dark] .colab-df-convert:hover {\n",
       "      background-color: #434B5C;\n",
       "      box-shadow: 0px 1px 3px 1px rgba(0, 0, 0, 0.15);\n",
       "      filter: drop-shadow(0px 1px 2px rgba(0, 0, 0, 0.3));\n",
       "      fill: #FFFFFF;\n",
       "    }\n",
       "  </style>\n",
       "\n",
       "      <script>\n",
       "        const buttonEl =\n",
       "          document.querySelector('#df-867aec49-3ff9-4c72-b83a-774c21fc8dd6 button.colab-df-convert');\n",
       "        buttonEl.style.display =\n",
       "          google.colab.kernel.accessAllowed ? 'block' : 'none';\n",
       "\n",
       "        async function convertToInteractive(key) {\n",
       "          const element = document.querySelector('#df-867aec49-3ff9-4c72-b83a-774c21fc8dd6');\n",
       "          const dataTable =\n",
       "            await google.colab.kernel.invokeFunction('convertToInteractive',\n",
       "                                                     [key], {});\n",
       "          if (!dataTable) return;\n",
       "\n",
       "          const docLinkHtml = 'Like what you see? Visit the ' +\n",
       "            '<a target=\"_blank\" href=https://colab.research.google.com/notebooks/data_table.ipynb>data table notebook</a>'\n",
       "            + ' to learn more about interactive tables.';\n",
       "          element.innerHTML = '';\n",
       "          dataTable['output_type'] = 'display_data';\n",
       "          await google.colab.output.renderOutput(dataTable, element);\n",
       "          const docLink = document.createElement('div');\n",
       "          docLink.innerHTML = docLinkHtml;\n",
       "          element.appendChild(docLink);\n",
       "        }\n",
       "      </script>\n",
       "    </div>\n",
       "  </div>\n",
       "  "
      ],
      "text/plain": [
       "                                                  Text  Aroma\n",
       "293  Hazy dull blonde with a film of steady white f...    4.0\n",
       "780  Pale amber with rimming off white froth that r...    4.0"
      ]
     },
     "execution_count": 19,
     "metadata": {},
     "output_type": "execute_result"
    }
   ],
   "source": [
    "expanded_test_sample[(expanded_test_sample['Aroma']>=4) & (expanded_test_sample['Aroma Positive']<0.22)][['Text','Aroma']]"
   ]
  },
  {
   "cell_type": "code",
   "execution_count": null,
   "metadata": {
    "colab": {
     "base_uri": "https://localhost:8080/",
     "height": 53
    },
    "executionInfo": {
     "elapsed": 206,
     "status": "ok",
     "timestamp": 1668803337347,
     "user": {
      "displayName": "laza 99umka",
      "userId": "07698627326177457945"
     },
     "user_tz": -60
    },
    "id": "lQ_NpZ6Ua2V2",
    "outputId": "881c17b5-1747-40bd-d476-abeb4b00d336"
   },
   "outputs": [
    {
     "data": {
      "application/vnd.google.colaboratory.intrinsic+json": {
       "type": "string"
      },
      "text/plain": [
       "'Hazy dull blonde with a film of steady white froth. 3.75Peach, grass, + wheat. 4Cream of Wheat, fresh apricot, then hay, tangerine + papaya. 4Super soft, almost medium, round. 4.25Holy Vermont! Pillowy body, peachy esters - all there. Too aroma, if anything - no edge. (Where’s the Summit?) At 5.5%, I’d stay all night. 4'"
      ]
     },
     "execution_count": 20,
     "metadata": {},
     "output_type": "execute_result"
    }
   ],
   "source": [
    "expanded_test_sample.loc[293]['Text']"
   ]
  },
  {
   "cell_type": "markdown",
   "metadata": {
    "id": "ZSipfkUJGxSg"
   },
   "source": [
    "On this example, we can see the case where nlp model gave low 'Aroma Positive' score, while the user rated the Aroma with 4 on [1,5] scale.\n",
    "\n",
    "However, based on the textual review, we can observe that user didn't really prefer the aroma.\n",
    "\n",
    "This indicates that this model could also be used to exploit inconsistencies between ratings users gave and textual reviews."
   ]
  }
 ],
 "metadata": {
  "colab": {
   "provenance": []
  },
  "kernelspec": {
   "display_name": "Python 3 (ipykernel)",
   "language": "python",
   "name": "python3"
  },
  "language_info": {
   "codemirror_mode": {
    "name": "ipython",
    "version": 3
   },
   "file_extension": ".py",
   "mimetype": "text/x-python",
   "name": "python",
   "nbconvert_exporter": "python",
   "pygments_lexer": "ipython3",
   "version": "3.9.13"
  }
 },
 "nbformat": 4,
 "nbformat_minor": 1
}
